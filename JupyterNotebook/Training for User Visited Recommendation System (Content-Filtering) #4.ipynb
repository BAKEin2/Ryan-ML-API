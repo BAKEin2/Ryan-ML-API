{
 "cells": [
  {
   "cell_type": "markdown",
   "metadata": {
    "id": "m7_3YYhD7aDF"
   },
   "source": [
    "# **User Visited Recommendation System (Content-Filtering)** \n",
    "> *Author : Ryan Tan Kang Khen (193190N)*"
   ]
  },
  {
   "cell_type": "markdown",
   "metadata": {
    "id": "wpzHrIJy6gTz"
   },
   "source": [
    "# **Section 0 – Introduction**\n",
    "- ***Explain the Machine Learning problem that you are trying to solve very briefly in your JupyterNotebook***\n",
    "  >For this Jupyter Notebook , I want to recommend different bakeries and baked goods to different users based on the specifc bakery that they have visited and have made purchases from.\n",
    "\n",
    "  >For frequent users of BAKEin, they usually makes purchases on different bakeries. Once they bought a few items from a bakery, they would want to try out new bakeries based on their purchase history. So this Jupyter Notebook aims to provide new bakery recommendations to users based on their purchase history. \n",
    "\n",
    "  >We will be using two type of model: CountVectorizer algorithm and TfidfVectorizer algorithm."
   ]
  },
  {
   "cell_type": "markdown",
   "metadata": {
    "id": "yRqtK36e7X8Z"
   },
   "source": [
    "# **Section 1 – Data Collection**\n",
    "-  ***Describe your data source - where you got the data from (downloaded as a complete dataset online, or put together by yourself from various sources)***\n",
    "  >Since there were insufficient data on bakeries, I decided to scout around the Internet for existing bakeries data and even restaurants data. After looking around for a week, I found 3 Kaggle Datasets can be useful to combine with each other. \n",
    "  1. https://www.kaggle.com/uciml/restaurant-data-with-consumer-ratings\n",
    "  2. https://www.kaggle.com/sulmansarwar/transactions-from-a-bakery \n",
    "\n",
    "  >Due to the insufficient data like I mentioned, I had to combine and configure all 2 of the Kaggle datasets into our own. For this Jupyter Notebook, I will be using \"chefmozcuisine.csv\" and \"rating_final.csv\" from the 1st Kaggle Link.\n",
    "\n",
    "  >For the changes of the existing dataset, I firstly changed the cuisines of restaurants to types of bread sold in \"chefmozcuisine.csv\". The types of bread sold is taken from a column \"Item\" in the 2nd Kaggle Link Dataset (BreadBasket_DMS.csv)\n",
    "\n",
    "  >Secondly, I also changed the name of \"chefmozcuisine.csv\" to \"bakeries_location.csv\", and changed the name of \"rating_final.csv\" to \"userprofile_visited.csv\" so as to identify the dataset better. \n",
    "\n",
    "  >Thirdly, I removed the duplicates in \"userprofile_visited\" to only 1 row for one user and one placeID.Then, I changed the userID and placeID for both datasets to numbers ranging from 1 to 150 and from 1 to 130 respectively and accordingly, so as to identify the index of the data better.\n",
    "\n",
    "  >Finally, I added a new column called \"transactions\" in \"userprofile_visited.csv\", and took the values of the column \"Transaction\" 2nd Kaggle Link Dataset (BreadBasket_DMS.csv) and placed it in the new column, as this new column is significantly important in tracking the number of items bought by different users. \n"
   ]
  },
  {
   "cell_type": "markdown",
   "metadata": {
    "id": "Y0hshSyt7vzT"
   },
   "source": [
    "- ***Include the codes to load the data***\n",
    ">Now that we have changed the values in both datasets to suit this model training, we will import both datasets and certain packages into our model. The datasets \"bakeries_location.csv\" and \"userprofile_visited.csv\" will be loaded into the models."
   ]
  },
  {
   "cell_type": "code",
   "execution_count": 1,
   "metadata": {
    "colab": {
     "base_uri": "https://localhost:8080/",
     "height": 73,
     "resources": {
      "http://localhost:8080/nbextensions/google.colab/files.js": {
       "data": "Ly8gQ29weXJpZ2h0IDIwMTcgR29vZ2xlIExMQwovLwovLyBMaWNlbnNlZCB1bmRlciB0aGUgQXBhY2hlIExpY2Vuc2UsIFZlcnNpb24gMi4wICh0aGUgIkxpY2Vuc2UiKTsKLy8geW91IG1heSBub3QgdXNlIHRoaXMgZmlsZSBleGNlcHQgaW4gY29tcGxpYW5jZSB3aXRoIHRoZSBMaWNlbnNlLgovLyBZb3UgbWF5IG9idGFpbiBhIGNvcHkgb2YgdGhlIExpY2Vuc2UgYXQKLy8KLy8gICAgICBodHRwOi8vd3d3LmFwYWNoZS5vcmcvbGljZW5zZXMvTElDRU5TRS0yLjAKLy8KLy8gVW5sZXNzIHJlcXVpcmVkIGJ5IGFwcGxpY2FibGUgbGF3IG9yIGFncmVlZCB0byBpbiB3cml0aW5nLCBzb2Z0d2FyZQovLyBkaXN0cmlidXRlZCB1bmRlciB0aGUgTGljZW5zZSBpcyBkaXN0cmlidXRlZCBvbiBhbiAiQVMgSVMiIEJBU0lTLAovLyBXSVRIT1VUIFdBUlJBTlRJRVMgT1IgQ09ORElUSU9OUyBPRiBBTlkgS0lORCwgZWl0aGVyIGV4cHJlc3Mgb3IgaW1wbGllZC4KLy8gU2VlIHRoZSBMaWNlbnNlIGZvciB0aGUgc3BlY2lmaWMgbGFuZ3VhZ2UgZ292ZXJuaW5nIHBlcm1pc3Npb25zIGFuZAovLyBsaW1pdGF0aW9ucyB1bmRlciB0aGUgTGljZW5zZS4KCi8qKgogKiBAZmlsZW92ZXJ2aWV3IEhlbHBlcnMgZm9yIGdvb2dsZS5jb2xhYiBQeXRob24gbW9kdWxlLgogKi8KKGZ1bmN0aW9uKHNjb3BlKSB7CmZ1bmN0aW9uIHNwYW4odGV4dCwgc3R5bGVBdHRyaWJ1dGVzID0ge30pIHsKICBjb25zdCBlbGVtZW50ID0gZG9jdW1lbnQuY3JlYXRlRWxlbWVudCgnc3BhbicpOwogIGVsZW1lbnQudGV4dENvbnRlbnQgPSB0ZXh0OwogIGZvciAoY29uc3Qga2V5IG9mIE9iamVjdC5rZXlzKHN0eWxlQXR0cmlidXRlcykpIHsKICAgIGVsZW1lbnQuc3R5bGVba2V5XSA9IHN0eWxlQXR0cmlidXRlc1trZXldOwogIH0KICByZXR1cm4gZWxlbWVudDsKfQoKLy8gTWF4IG51bWJlciBvZiBieXRlcyB3aGljaCB3aWxsIGJlIHVwbG9hZGVkIGF0IGEgdGltZS4KY29uc3QgTUFYX1BBWUxPQURfU0laRSA9IDEwMCAqIDEwMjQ7CgpmdW5jdGlvbiBfdXBsb2FkRmlsZXMoaW5wdXRJZCwgb3V0cHV0SWQpIHsKICBjb25zdCBzdGVwcyA9IHVwbG9hZEZpbGVzU3RlcChpbnB1dElkLCBvdXRwdXRJZCk7CiAgY29uc3Qgb3V0cHV0RWxlbWVudCA9IGRvY3VtZW50LmdldEVsZW1lbnRCeUlkKG91dHB1dElkKTsKICAvLyBDYWNoZSBzdGVwcyBvbiB0aGUgb3V0cHV0RWxlbWVudCB0byBtYWtlIGl0IGF2YWlsYWJsZSBmb3IgdGhlIG5leHQgY2FsbAogIC8vIHRvIHVwbG9hZEZpbGVzQ29udGludWUgZnJvbSBQeXRob24uCiAgb3V0cHV0RWxlbWVudC5zdGVwcyA9IHN0ZXBzOwoKICByZXR1cm4gX3VwbG9hZEZpbGVzQ29udGludWUob3V0cHV0SWQpOwp9CgovLyBUaGlzIGlzIHJvdWdobHkgYW4gYXN5bmMgZ2VuZXJhdG9yIChub3Qgc3VwcG9ydGVkIGluIHRoZSBicm93c2VyIHlldCksCi8vIHdoZXJlIHRoZXJlIGFyZSBtdWx0aXBsZSBhc3luY2hyb25vdXMgc3RlcHMgYW5kIHRoZSBQeXRob24gc2lkZSBpcyBnb2luZwovLyB0byBwb2xsIGZvciBjb21wbGV0aW9uIG9mIGVhY2ggc3RlcC4KLy8gVGhpcyB1c2VzIGEgUHJvbWlzZSB0byBibG9jayB0aGUgcHl0aG9uIHNpZGUgb24gY29tcGxldGlvbiBvZiBlYWNoIHN0ZXAsCi8vIHRoZW4gcGFzc2VzIHRoZSByZXN1bHQgb2YgdGhlIHByZXZpb3VzIHN0ZXAgYXMgdGhlIGlucHV0IHRvIHRoZSBuZXh0IHN0ZXAuCmZ1bmN0aW9uIF91cGxvYWRGaWxlc0NvbnRpbnVlKG91dHB1dElkKSB7CiAgY29uc3Qgb3V0cHV0RWxlbWVudCA9IGRvY3VtZW50LmdldEVsZW1lbnRCeUlkKG91dHB1dElkKTsKICBjb25zdCBzdGVwcyA9IG91dHB1dEVsZW1lbnQuc3RlcHM7CgogIGNvbnN0IG5leHQgPSBzdGVwcy5uZXh0KG91dHB1dEVsZW1lbnQubGFzdFByb21pc2VWYWx1ZSk7CiAgcmV0dXJuIFByb21pc2UucmVzb2x2ZShuZXh0LnZhbHVlLnByb21pc2UpLnRoZW4oKHZhbHVlKSA9PiB7CiAgICAvLyBDYWNoZSB0aGUgbGFzdCBwcm9taXNlIHZhbHVlIHRvIG1ha2UgaXQgYXZhaWxhYmxlIHRvIHRoZSBuZXh0CiAgICAvLyBzdGVwIG9mIHRoZSBnZW5lcmF0b3IuCiAgICBvdXRwdXRFbGVtZW50Lmxhc3RQcm9taXNlVmFsdWUgPSB2YWx1ZTsKICAgIHJldHVybiBuZXh0LnZhbHVlLnJlc3BvbnNlOwogIH0pOwp9CgovKioKICogR2VuZXJhdG9yIGZ1bmN0aW9uIHdoaWNoIGlzIGNhbGxlZCBiZXR3ZWVuIGVhY2ggYXN5bmMgc3RlcCBvZiB0aGUgdXBsb2FkCiAqIHByb2Nlc3MuCiAqIEBwYXJhbSB7c3RyaW5nfSBpbnB1dElkIEVsZW1lbnQgSUQgb2YgdGhlIGlucHV0IGZpbGUgcGlja2VyIGVsZW1lbnQuCiAqIEBwYXJhbSB7c3RyaW5nfSBvdXRwdXRJZCBFbGVtZW50IElEIG9mIHRoZSBvdXRwdXQgZGlzcGxheS4KICogQHJldHVybiB7IUl0ZXJhYmxlPCFPYmplY3Q+fSBJdGVyYWJsZSBvZiBuZXh0IHN0ZXBzLgogKi8KZnVuY3Rpb24qIHVwbG9hZEZpbGVzU3RlcChpbnB1dElkLCBvdXRwdXRJZCkgewogIGNvbnN0IGlucHV0RWxlbWVudCA9IGRvY3VtZW50LmdldEVsZW1lbnRCeUlkKGlucHV0SWQpOwogIGlucHV0RWxlbWVudC5kaXNhYmxlZCA9IGZhbHNlOwoKICBjb25zdCBvdXRwdXRFbGVtZW50ID0gZG9jdW1lbnQuZ2V0RWxlbWVudEJ5SWQob3V0cHV0SWQpOwogIG91dHB1dEVsZW1lbnQuaW5uZXJIVE1MID0gJyc7CgogIGNvbnN0IHBpY2tlZFByb21pc2UgPSBuZXcgUHJvbWlzZSgocmVzb2x2ZSkgPT4gewogICAgaW5wdXRFbGVtZW50LmFkZEV2ZW50TGlzdGVuZXIoJ2NoYW5nZScsIChlKSA9PiB7CiAgICAgIHJlc29sdmUoZS50YXJnZXQuZmlsZXMpOwogICAgfSk7CiAgfSk7CgogIGNvbnN0IGNhbmNlbCA9IGRvY3VtZW50LmNyZWF0ZUVsZW1lbnQoJ2J1dHRvbicpOwogIGlucHV0RWxlbWVudC5wYXJlbnRFbGVtZW50LmFwcGVuZENoaWxkKGNhbmNlbCk7CiAgY2FuY2VsLnRleHRDb250ZW50ID0gJ0NhbmNlbCB1cGxvYWQnOwogIGNvbnN0IGNhbmNlbFByb21pc2UgPSBuZXcgUHJvbWlzZSgocmVzb2x2ZSkgPT4gewogICAgY2FuY2VsLm9uY2xpY2sgPSAoKSA9PiB7CiAgICAgIHJlc29sdmUobnVsbCk7CiAgICB9OwogIH0pOwoKICAvLyBXYWl0IGZvciB0aGUgdXNlciB0byBwaWNrIHRoZSBmaWxlcy4KICBjb25zdCBmaWxlcyA9IHlpZWxkIHsKICAgIHByb21pc2U6IFByb21pc2UucmFjZShbcGlja2VkUHJvbWlzZSwgY2FuY2VsUHJvbWlzZV0pLAogICAgcmVzcG9uc2U6IHsKICAgICAgYWN0aW9uOiAnc3RhcnRpbmcnLAogICAgfQogIH07CgogIGNhbmNlbC5yZW1vdmUoKTsKCiAgLy8gRGlzYWJsZSB0aGUgaW5wdXQgZWxlbWVudCBzaW5jZSBmdXJ0aGVyIHBpY2tzIGFyZSBub3QgYWxsb3dlZC4KICBpbnB1dEVsZW1lbnQuZGlzYWJsZWQgPSB0cnVlOwoKICBpZiAoIWZpbGVzKSB7CiAgICByZXR1cm4gewogICAgICByZXNwb25zZTogewogICAgICAgIGFjdGlvbjogJ2NvbXBsZXRlJywKICAgICAgfQogICAgfTsKICB9CgogIGZvciAoY29uc3QgZmlsZSBvZiBmaWxlcykgewogICAgY29uc3QgbGkgPSBkb2N1bWVudC5jcmVhdGVFbGVtZW50KCdsaScpOwogICAgbGkuYXBwZW5kKHNwYW4oZmlsZS5uYW1lLCB7Zm9udFdlaWdodDogJ2JvbGQnfSkpOwogICAgbGkuYXBwZW5kKHNwYW4oCiAgICAgICAgYCgke2ZpbGUudHlwZSB8fCAnbi9hJ30pIC0gJHtmaWxlLnNpemV9IGJ5dGVzLCBgICsKICAgICAgICBgbGFzdCBtb2RpZmllZDogJHsKICAgICAgICAgICAgZmlsZS5sYXN0TW9kaWZpZWREYXRlID8gZmlsZS5sYXN0TW9kaWZpZWREYXRlLnRvTG9jYWxlRGF0ZVN0cmluZygpIDoKICAgICAgICAgICAgICAgICAgICAgICAgICAgICAgICAgICAgJ24vYSd9IC0gYCkpOwogICAgY29uc3QgcGVyY2VudCA9IHNwYW4oJzAlIGRvbmUnKTsKICAgIGxpLmFwcGVuZENoaWxkKHBlcmNlbnQpOwoKICAgIG91dHB1dEVsZW1lbnQuYXBwZW5kQ2hpbGQobGkpOwoKICAgIGNvbnN0IGZpbGVEYXRhUHJvbWlzZSA9IG5ldyBQcm9taXNlKChyZXNvbHZlKSA9PiB7CiAgICAgIGNvbnN0IHJlYWRlciA9IG5ldyBGaWxlUmVhZGVyKCk7CiAgICAgIHJlYWRlci5vbmxvYWQgPSAoZSkgPT4gewogICAgICAgIHJlc29sdmUoZS50YXJnZXQucmVzdWx0KTsKICAgICAgfTsKICAgICAgcmVhZGVyLnJlYWRBc0FycmF5QnVmZmVyKGZpbGUpOwogICAgfSk7CiAgICAvLyBXYWl0IGZvciB0aGUgZGF0YSB0byBiZSByZWFkeS4KICAgIGxldCBmaWxlRGF0YSA9IHlpZWxkIHsKICAgICAgcHJvbWlzZTogZmlsZURhdGFQcm9taXNlLAogICAgICByZXNwb25zZTogewogICAgICAgIGFjdGlvbjogJ2NvbnRpbnVlJywKICAgICAgfQogICAgfTsKCiAgICAvLyBVc2UgYSBjaHVua2VkIHNlbmRpbmcgdG8gYXZvaWQgbWVzc2FnZSBzaXplIGxpbWl0cy4gU2VlIGIvNjIxMTU2NjAuCiAgICBsZXQgcG9zaXRpb24gPSAwOwogICAgZG8gewogICAgICBjb25zdCBsZW5ndGggPSBNYXRoLm1pbihmaWxlRGF0YS5ieXRlTGVuZ3RoIC0gcG9zaXRpb24sIE1BWF9QQVlMT0FEX1NJWkUpOwogICAgICBjb25zdCBjaHVuayA9IG5ldyBVaW50OEFycmF5KGZpbGVEYXRhLCBwb3NpdGlvbiwgbGVuZ3RoKTsKICAgICAgcG9zaXRpb24gKz0gbGVuZ3RoOwoKICAgICAgY29uc3QgYmFzZTY0ID0gYnRvYShTdHJpbmcuZnJvbUNoYXJDb2RlLmFwcGx5KG51bGwsIGNodW5rKSk7CiAgICAgIHlpZWxkIHsKICAgICAgICByZXNwb25zZTogewogICAgICAgICAgYWN0aW9uOiAnYXBwZW5kJywKICAgICAgICAgIGZpbGU6IGZpbGUubmFtZSwKICAgICAgICAgIGRhdGE6IGJhc2U2NCwKICAgICAgICB9LAogICAgICB9OwoKICAgICAgbGV0IHBlcmNlbnREb25lID0gZmlsZURhdGEuYnl0ZUxlbmd0aCA9PT0gMCA/CiAgICAgICAgICAxMDAgOgogICAgICAgICAgTWF0aC5yb3VuZCgocG9zaXRpb24gLyBmaWxlRGF0YS5ieXRlTGVuZ3RoKSAqIDEwMCk7CiAgICAgIHBlcmNlbnQudGV4dENvbnRlbnQgPSBgJHtwZXJjZW50RG9uZX0lIGRvbmVgOwoKICAgIH0gd2hpbGUgKHBvc2l0aW9uIDwgZmlsZURhdGEuYnl0ZUxlbmd0aCk7CiAgfQoKICAvLyBBbGwgZG9uZS4KICB5aWVsZCB7CiAgICByZXNwb25zZTogewogICAgICBhY3Rpb246ICdjb21wbGV0ZScsCiAgICB9CiAgfTsKfQoKc2NvcGUuZ29vZ2xlID0gc2NvcGUuZ29vZ2xlIHx8IHt9OwpzY29wZS5nb29nbGUuY29sYWIgPSBzY29wZS5nb29nbGUuY29sYWIgfHwge307CnNjb3BlLmdvb2dsZS5jb2xhYi5fZmlsZXMgPSB7CiAgX3VwbG9hZEZpbGVzLAogIF91cGxvYWRGaWxlc0NvbnRpbnVlLAp9Owp9KShzZWxmKTsK",
       "headers": [
        [
         "content-type",
         "application/javascript"
        ]
       ],
       "ok": true,
       "status": 200,
       "status_text": ""
      }
     }
    },
    "executionInfo": {
     "elapsed": 11491,
     "status": "ok",
     "timestamp": 1624616889690,
     "user": {
      "displayName": "RockyChicken182",
      "photoUrl": "https://lh3.googleusercontent.com/a-/AOh14GiHn7vaq8S7ttcfulVDtTveJfGpbYI3y7X1MJhJsg=s64",
      "userId": "16427190797879463063"
     },
     "user_tz": -480
    },
    "id": "BYb-hYNR_PMZ",
    "outputId": "5b6e656d-ac12-44f3-ac93-3443ba34ba09"
   },
   "outputs": [
    {
     "data": {
      "application/vnd.jupyter.widget-view+json": {
       "model_id": "8fad3534c9f74fe5af57e7184def3772",
       "version_major": 2,
       "version_minor": 0
      },
      "text/plain": [
       "FileUpload(value={}, accept='/.csv*', description='Upload')"
      ]
     },
     "metadata": {},
     "output_type": "display_data"
    }
   ],
   "source": [
    "#import packages\n",
    "import io\n",
    "import pandas as pd\n",
    "import webbrowser\n",
    "import os \n",
    "import scipy\n",
    "\n",
    "import ipywidgets as widgets\n",
    "\n",
    "uploader = widgets.FileUpload(\n",
    "    accept='/.csv*',  # Accepted file extension'\n",
    "    multiple=False  # True to accept multiple files upload else False\n",
    ")\n",
    "\n",
    "display(uploader) "
   ]
  },
  {
   "cell_type": "code",
   "execution_count": 2,
   "metadata": {},
   "outputs": [],
   "source": [
    "bakery_df = pd.read_csv('C:/Users/ryant/IT3100 Project 2/dataset_ai/bakeries_location.csv')  "
   ]
  },
  {
   "cell_type": "code",
   "execution_count": 3,
   "metadata": {
    "colab": {
     "base_uri": "https://localhost:8080/",
     "height": 73,
     "resources": {
      "http://localhost:8080/nbextensions/google.colab/files.js": {
       "data": "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",
       "headers": [
        [
         "content-type",
         "application/javascript"
        ]
       ],
       "ok": true,
       "status": 200,
       "status_text": ""
      }
     }
    },
    "executionInfo": {
     "elapsed": 6357,
     "status": "ok",
     "timestamp": 1624616896044,
     "user": {
      "displayName": "RockyChicken182",
      "photoUrl": "https://lh3.googleusercontent.com/a-/AOh14GiHn7vaq8S7ttcfulVDtTveJfGpbYI3y7X1MJhJsg=s64",
      "userId": "16427190797879463063"
     },
     "user_tz": -480
    },
    "id": "sH4X3dfP544s",
    "outputId": "28cd4b87-37d1-4c7c-a527-d568b2f7cc05"
   },
   "outputs": [],
   "source": [
    "visited_df = pd.read_csv('C:/Users/ryant/IT3100 Project 2/dataset_ai/userprofile_visited.csv')"
   ]
  },
  {
   "cell_type": "markdown",
   "metadata": {
    "id": "fjPf_qL0_Y4F"
   },
   "source": [
    "# **Section 2 – Data Preparation**\n",
    "- ***Explain how much you understand about the data you have. Any missing fields or invalid images/text?***\n",
    "\n",
    "  >For the data preparation, I conducted Exploratory Data Analysis (EDA) on the two datasets. It is important to do EDA as it will give us insights on what kind of data are we covering.\n",
    "\n",
    "  >After conducting EDA on the datasets, I realised that I do not really have to perform any processing as they are pretty much processed with no erroneous values and no missing values. \n",
    "\n",
    "- ***Explain what you have to do to process them, or why you do not need to process them if they are already processed***\n",
    "\n",
    "  >Since there weren't any missing values or improper values, I don't really need to process them as they are already processed.\n",
    "\n",
    "  >However, I would have to perform feature extraction on \"bakeries_location.csv\" and \"userprofile_visited\" as some of the columns included in the datasets are not really needed for this model. I will be focusing on columns that are relevant and heavily used for this Jupyter Notebook. "
   ]
  },
  {
   "cell_type": "markdown",
   "metadata": {
    "id": "8Vqp0bJv8AZv"
   },
   "source": [
    "- ***Include the codes to prepare the data for training***\n",
    "\n",
    "  >The following are steps taken to conduct the full EDA and feature extraction. Each cell has specific functions that you can see below. "
   ]
  },
  {
   "cell_type": "code",
   "execution_count": 4,
   "metadata": {
    "id": "spSt0WCJ8Ows"
   },
   "outputs": [],
   "source": [
    "#importing necessary libraries\n",
    "import numpy as np\n",
    "import pandas as pd\n",
    "import webbrowser\n",
    "import os\n",
    "import scipy  \n",
    "from sklearn.metrics.pairwise import cosine_similarity\n",
    "from sklearn.metrics import mean_squared_error\n",
    "from sklearn.model_selection import train_test_split\n",
    "from sklearn.feature_extraction.text import TfidfVectorizer\n",
    "from sklearn.metrics.pairwise import linear_kernel"
   ]
  },
  {
   "cell_type": "code",
   "execution_count": 5,
   "metadata": {
    "colab": {
     "base_uri": "https://localhost:8080/"
    },
    "executionInfo": {
     "elapsed": 13,
     "status": "ok",
     "timestamp": 1624616898825,
     "user": {
      "displayName": "RockyChicken182",
      "photoUrl": "https://lh3.googleusercontent.com/a-/AOh14GiHn7vaq8S7ttcfulVDtTveJfGpbYI3y7X1MJhJsg=s64",
      "userId": "16427190797879463063"
     },
     "user_tz": -480
    },
    "id": "dETbYQLk_nBh",
    "outputId": "91e44e8f-f8c1-4131-d23e-983580b15fd2"
   },
   "outputs": [
    {
     "name": "stdout",
     "output_type": "stream",
     "text": [
      "Unique users:  150\n",
      "Unique restaurant:  130\n",
      "Total no.of transactions :  150\n"
     ]
    }
   ],
   "source": [
    "#No.of unique users, bakeries, no. of transactions\n",
    "print('Unique users: ', visited_df['userID'].nunique())\n",
    "print('Unique restaurant: ', bakery_df['placeID'].nunique())\n",
    "print('Total no.of transactions : ', visited_df['transactions'].count())"
   ]
  },
  {
   "cell_type": "code",
   "execution_count": 6,
   "metadata": {
    "colab": {
     "base_uri": "https://localhost:8080/"
    },
    "executionInfo": {
     "elapsed": 11,
     "status": "ok",
     "timestamp": 1624616898825,
     "user": {
      "displayName": "RockyChicken182",
      "photoUrl": "https://lh3.googleusercontent.com/a-/AOh14GiHn7vaq8S7ttcfulVDtTveJfGpbYI3y7X1MJhJsg=s64",
      "userId": "16427190797879463063"
     },
     "user_tz": -480
    },
    "id": "A5eNGOWwHqzo",
    "outputId": "45948191-f910-43bd-985b-5ac5fd568ebd"
   },
   "outputs": [
    {
     "data": {
      "text/plain": [
       "count    150.000000\n",
       "mean       4.100000\n",
       "std        1.174391\n",
       "min        1.000000\n",
       "25%        4.000000\n",
       "50%        4.000000\n",
       "75%        5.000000\n",
       "max        5.000000\n",
       "Name: transactions, dtype: float64"
      ]
     },
     "execution_count": 6,
     "metadata": {},
     "output_type": "execute_result"
    }
   ],
   "source": [
    "# How many transactions performed by users\n",
    "most_rated_users = visited_df['transactions'].describe()\n",
    "most_rated_users"
   ]
  },
  {
   "cell_type": "code",
   "execution_count": 7,
   "metadata": {
    "colab": {
     "base_uri": "https://localhost:8080/"
    },
    "executionInfo": {
     "elapsed": 511,
     "status": "ok",
     "timestamp": 1624616899327,
     "user": {
      "displayName": "RockyChicken182",
      "photoUrl": "https://lh3.googleusercontent.com/a-/AOh14GiHn7vaq8S7ttcfulVDtTveJfGpbYI3y7X1MJhJsg=s64",
      "userId": "16427190797879463063"
     },
     "user_tz": -480
    },
    "id": "3ELWy0ZMHQmP",
    "outputId": "f27c8a5c-1b58-42ec-d736-3db799f049d8"
   },
   "outputs": [
    {
     "data": {
      "text/plain": [
       "Muffins         13\n",
       "Cakes           10\n",
       "Croissants      10\n",
       "Tarts            9\n",
       "Kringles         9\n",
       "Curry Puffs      9\n",
       "Swiss Rolls      9\n",
       "Strudels         8\n",
       "Cupcakes         8\n",
       "Cookies          8\n",
       "Baos             7\n",
       "Sandwiches       7\n",
       "Baked Pizzas     6\n",
       "Doughnuts        6\n",
       "Taiyakis         5\n",
       "Bagels           3\n",
       "Pies             2\n",
       "E-Clairs         1\n",
       "Name: types_of_bread, dtype: int64"
      ]
     },
     "execution_count": 7,
     "metadata": {},
     "output_type": "execute_result"
    }
   ],
   "source": [
    "#amount of bakeries that sells different types of bread\n",
    "bakery_df['types_of_bread'].value_counts()"
   ]
  },
  {
   "cell_type": "code",
   "execution_count": 8,
   "metadata": {
    "colab": {
     "base_uri": "https://localhost:8080/"
    },
    "executionInfo": {
     "elapsed": 7,
     "status": "ok",
     "timestamp": 1624616899328,
     "user": {
      "displayName": "RockyChicken182",
      "photoUrl": "https://lh3.googleusercontent.com/a-/AOh14GiHn7vaq8S7ttcfulVDtTveJfGpbYI3y7X1MJhJsg=s64",
      "userId": "16427190797879463063"
     },
     "user_tz": -480
    },
    "id": "lXOy6iRopYbx",
    "outputId": "b96b9cd6-65f2-4b1b-a982-8d77fbedf398"
   },
   "outputs": [
    {
     "data": {
      "text/plain": [
       "0"
      ]
     },
     "execution_count": 8,
     "metadata": {},
     "output_type": "execute_result"
    }
   ],
   "source": [
    "visited_df.isnull().sum().sum()"
   ]
  },
  {
   "cell_type": "code",
   "execution_count": 9,
   "metadata": {
    "colab": {
     "base_uri": "https://localhost:8080/"
    },
    "executionInfo": {
     "elapsed": 6,
     "status": "ok",
     "timestamp": 1624616899328,
     "user": {
      "displayName": "RockyChicken182",
      "photoUrl": "https://lh3.googleusercontent.com/a-/AOh14GiHn7vaq8S7ttcfulVDtTveJfGpbYI3y7X1MJhJsg=s64",
      "userId": "16427190797879463063"
     },
     "user_tz": -480
    },
    "id": "LVWifS0FsWYO",
    "outputId": "c00ebf82-a9c7-46d6-8813-ee3c5c923762"
   },
   "outputs": [
    {
     "data": {
      "text/plain": [
       "0"
      ]
     },
     "execution_count": 9,
     "metadata": {},
     "output_type": "execute_result"
    }
   ],
   "source": [
    "bakery_df.isnull().sum().sum()"
   ]
  },
  {
   "cell_type": "code",
   "execution_count": 10,
   "metadata": {
    "colab": {
     "base_uri": "https://localhost:8080/",
     "height": 407
    },
    "executionInfo": {
     "elapsed": 824,
     "status": "ok",
     "timestamp": 1624616900148,
     "user": {
      "displayName": "RockyChicken182",
      "photoUrl": "https://lh3.googleusercontent.com/a-/AOh14GiHn7vaq8S7ttcfulVDtTveJfGpbYI3y7X1MJhJsg=s64",
      "userId": "16427190797879463063"
     },
     "user_tz": -480
    },
    "id": "LLoMSttQNcWO",
    "outputId": "69ff8415-0a3e-4ab4-d64f-b27cc4499123"
   },
   "outputs": [
    {
     "name": "stderr",
     "output_type": "stream",
     "text": [
      "C:\\Users\\ryant\\anaconda3\\lib\\site-packages\\seaborn\\_decorators.py:36: FutureWarning: Pass the following variable as a keyword arg: x. From version 0.12, the only valid positional argument will be `data`, and passing other arguments without an explicit keyword will result in an error or misinterpretation.\n",
      "  warnings.warn(\n"
     ]
    },
    {
     "data": {
      "text/plain": [
       "<AxesSubplot:xlabel='transactions', ylabel='count'>"
      ]
     },
     "execution_count": 10,
     "metadata": {},
     "output_type": "execute_result"
    },
    {
     "data": {
      "image/png": "[encoded data removed]",
      "text/plain": [
       "<Figure size 576x360 with 1 Axes>"
      ]
     },
     "metadata": {
      "needs_background": "light"
     },
     "output_type": "display_data"
    }
   ],
   "source": [
    "#What's the transactions distribution\n",
    "import matplotlib.pyplot as plt\n",
    "%matplotlib inline\n",
    "import seaborn as sns\n",
    "\n",
    "plt.figure(figsize = (8,5))\n",
    "sns.countplot(visited_df['transactions'])"
   ]
  },
  {
   "cell_type": "markdown",
   "metadata": {
    "id": "B6t5RRpopStv"
   },
   "source": [
    "> Now, since there weren't any missing values or any values that need to be replaced, I performed feature extraction on both datasets that are relevant to this model."
   ]
  },
  {
   "cell_type": "code",
   "execution_count": 11,
   "metadata": {
    "id": "zAbMR3OWsAXF"
   },
   "outputs": [],
   "source": [
    "bakery_df=bakery_df[['placeID','name','types_of_bread']]"
   ]
  },
  {
   "cell_type": "code",
   "execution_count": 12,
   "metadata": {
    "id": "TJL3o657sj8g"
   },
   "outputs": [],
   "source": [
    "visited_df=visited_df [['userID','placeID','transactions']]"
   ]
  },
  {
   "cell_type": "markdown",
   "metadata": {
    "id": "M4d5fD4kITph"
   },
   "source": [
    "# **Section 3 – Model Training and Experiments**\n",
    "- ***Explain your choice for the Machine Learning / Deep Learning model*** \n",
    "  >- **CountVectorizer Algorithm** for Counting the frequency of all words (types of bread sold), sorts them and grabs the most recurring features. \n",
    "  >- **Term Frequency - Inverse Document Frequency Vectorizer (TfidfVectorizer) Algorithm** for extracting the words (types of bread sold) and map it to the bakery names.\n",
    "\n",
    "Both models involves the use of reference from a Kaggle Python Notebook.\n",
    "https://www.kaggle.com/sasha18/recommend-books-using-count-tfidf-on-titles "
   ]
  },
  {
   "cell_type": "markdown",
   "metadata": {
    "id": "UfzTj9yQ9T6a"
   },
   "source": [
    "- ***Include the codes to conduct your experiment(s) and choose the appropriate metrics to see if your model is performing well on the training & validation datasets.***\n",
    ">- Success metrics for Clustering-Based Learning include \n",
    "    - **Test Samples** are used as there were not many options for measuring the success of clustering-based learning.\n",
    "- ***Make sure that your experiment outputs remain visible in your Notebook submission***"
   ]
  },
  {
   "cell_type": "markdown",
   "metadata": {
    "id": "v1cAJZSexsQ0"
   },
   "source": [
    "### **Section 3.1- Training/Evaluating CountVectorizer for User Visited Recommendation System**\n",
    "\n",
    "  > For the CountVectorizer Algorithm, it collects the types of bread sold and uses Cosine Similarity to assign bakeries that sells the same types of bread. \n",
    "\n",
    "Reasons to choose CountVectorizer Algorithm\n",
    "- Returns Float which is a more detailed output\n",
    "- Simple algorithm – to interpret \n",
    "- High accuracy in assigning similar bakeries "
   ]
  },
  {
   "cell_type": "markdown",
   "metadata": {
    "id": "29960lJjcWRM"
   },
   "source": [
    "> Let's start with the first model experiment, which imports CountVectorizer and fits the type of bread sold into the algorithm."
   ]
  },
  {
   "cell_type": "code",
   "execution_count": 13,
   "metadata": {
    "colab": {
     "base_uri": "https://localhost:8080/"
    },
    "executionInfo": {
     "elapsed": 7,
     "status": "ok",
     "timestamp": 1624616900150,
     "user": {
      "displayName": "RockyChicken182",
      "photoUrl": "https://lh3.googleusercontent.com/a-/AOh14GiHn7vaq8S7ttcfulVDtTveJfGpbYI3y7X1MJhJsg=s64",
      "userId": "16427190797879463063"
     },
     "user_tz": -480
    },
    "id": "5pw9mLlZNCjV",
    "outputId": "54771529-b3a8-46c7-f537-0b26c1e361bf"
   },
   "outputs": [
    {
     "data": {
      "text/plain": [
       "(130, 24)"
      ]
     },
     "execution_count": 13,
     "metadata": {},
     "output_type": "execute_result"
    }
   ],
   "source": [
    "#Lets vectorize all these titles\n",
    "from sklearn.feature_extraction.text import CountVectorizer\n",
    "\n",
    "#initialize vectorizer\n",
    "vect = CountVectorizer(analyzer = 'word', ngram_range = (1,2), stop_words = 'english', min_df = 0.002) #min_df = rare words, max_df = most used words\n",
    "#ngram_range = (1,2) - if used more than  1(value), lots of features or noise\n",
    "\n",
    "#Fit into the bakery name\n",
    "vect.fit(bakery_df['types_of_bread'])\n",
    "bakery_matrix = vect.transform(bakery_df['types_of_bread'])\n",
    "bakery_matrix.shape"
   ]
  },
  {
   "cell_type": "code",
   "execution_count": 14,
   "metadata": {
    "colab": {
     "base_uri": "https://localhost:8080/"
    },
    "executionInfo": {
     "elapsed": 701,
     "status": "ok",
     "timestamp": 1624616900846,
     "user": {
      "displayName": "RockyChicken182",
      "photoUrl": "https://lh3.googleusercontent.com/a-/AOh14GiHn7vaq8S7ttcfulVDtTveJfGpbYI3y7X1MJhJsg=s64",
      "userId": "16427190797879463063"
     },
     "user_tz": -480
    },
    "id": "_0IHaS_zNkbW",
    "outputId": "74ab7378-54aa-4e04-c62c-d8a2ad53f834"
   },
   "outputs": [
    {
     "data": {
      "text/plain": [
       "['bagels',\n",
       " 'baked',\n",
       " 'baked pizzas',\n",
       " 'baos',\n",
       " 'cakes',\n",
       " 'clairs',\n",
       " 'cookies',\n",
       " 'croissants',\n",
       " 'cupcakes',\n",
       " 'curry',\n",
       " 'curry puffs',\n",
       " 'doughnuts',\n",
       " 'kringles',\n",
       " 'muffins',\n",
       " 'pies',\n",
       " 'pizzas',\n",
       " 'puffs',\n",
       " 'rolls',\n",
       " 'sandwiches',\n",
       " 'strudels',\n",
       " 'swiss',\n",
       " 'swiss rolls',\n",
       " 'taiyakis',\n",
       " 'tarts']"
      ]
     },
     "execution_count": 14,
     "metadata": {},
     "output_type": "execute_result"
    }
   ],
   "source": [
    "#Lets find vocabulary/features\n",
    "features = vect.get_feature_names()\n",
    "features"
   ]
  },
  {
   "cell_type": "code",
   "execution_count": 15,
   "metadata": {
    "colab": {
     "base_uri": "https://localhost:8080/"
    },
    "executionInfo": {
     "elapsed": 17,
     "status": "ok",
     "timestamp": 1624616900846,
     "user": {
      "displayName": "RockyChicken182",
      "photoUrl": "https://lh3.googleusercontent.com/a-/AOh14GiHn7vaq8S7ttcfulVDtTveJfGpbYI3y7X1MJhJsg=s64",
      "userId": "16427190797879463063"
     },
     "user_tz": -480
    },
    "id": "a0X2CCeYNoK3",
    "outputId": "b7210694-e955-4d2f-afe4-b1c54ac05402"
   },
   "outputs": [
    {
     "data": {
      "text/plain": [
       "(130, 130)"
      ]
     },
     "execution_count": 15,
     "metadata": {},
     "output_type": "execute_result"
    }
   ],
   "source": [
    "#using cosine similarity to find bakeries that sell the same types of bread\n",
    "from sklearn.metrics.pairwise import cosine_similarity\n",
    "cosine_sim_name = cosine_similarity(bakery_matrix, bakery_matrix)\n",
    "cosine_sim_name.shape"
   ]
  },
  {
   "cell_type": "code",
   "execution_count": 16,
   "metadata": {
    "colab": {
     "base_uri": "https://localhost:8080/",
     "height": 35
    },
    "executionInfo": {
     "elapsed": 16,
     "status": "ok",
     "timestamp": 1624616900847,
     "user": {
      "displayName": "RockyChicken182",
      "photoUrl": "https://lh3.googleusercontent.com/a-/AOh14GiHn7vaq8S7ttcfulVDtTveJfGpbYI3y7X1MJhJsg=s64",
      "userId": "16427190797879463063"
     },
     "user_tz": -480
    },
    "id": "8NwMY67INps-",
    "outputId": "0e5aa702-e840-4f99-c25d-f7bc06669a07"
   },
   "outputs": [
    {
     "data": {
      "text/plain": [
       "'Sanborns Casa Piedra'"
      ]
     },
     "execution_count": 16,
     "metadata": {},
     "output_type": "execute_result"
    }
   ],
   "source": [
    "#Get bakeries which are similar to a given bakery name\n",
    "bakery_id = 100\n",
    "bakery_df['name'].iloc[bakery_id]"
   ]
  },
  {
   "cell_type": "code",
   "execution_count": 17,
   "metadata": {
    "colab": {
     "base_uri": "https://localhost:8080/"
    },
    "executionInfo": {
     "elapsed": 15,
     "status": "ok",
     "timestamp": 1624616900847,
     "user": {
      "displayName": "RockyChicken182",
      "photoUrl": "https://lh3.googleusercontent.com/a-/AOh14GiHn7vaq8S7ttcfulVDtTveJfGpbYI3y7X1MJhJsg=s64",
      "userId": "16427190797879463063"
     },
     "user_tz": -480
    },
    "id": "PUdayZ2hN1l0",
    "outputId": "b0601d52-311c-47cb-89af-0c658e642d72"
   },
   "outputs": [
    {
     "data": {
      "text/plain": [
       "['curry', 'curry puffs', 'puffs']"
      ]
     },
     "execution_count": 17,
     "metadata": {},
     "output_type": "execute_result"
    }
   ],
   "source": [
    "#Find out what features have been considered  by the vectorizer for a given type of bread the bakery_id has sold \n",
    "feature_array = np.squeeze(bakery_matrix[bakery_id].toarray()) #squeeze activity matrix into array\n",
    "idx = np.where(feature_array > 0)\n",
    "idx[0]\n",
    "[features[x] for x in idx[0]]"
   ]
  },
  {
   "cell_type": "code",
   "execution_count": 18,
   "metadata": {
    "colab": {
     "base_uri": "https://localhost:8080/"
    },
    "executionInfo": {
     "elapsed": 14,
     "status": "ok",
     "timestamp": 1624616900848,
     "user": {
      "displayName": "RockyChicken182",
      "photoUrl": "https://lh3.googleusercontent.com/a-/AOh14GiHn7vaq8S7ttcfulVDtTveJfGpbYI3y7X1MJhJsg=s64",
      "userId": "16427190797879463063"
     },
     "user_tz": -480
    },
    "id": "Sw_0f0kFN62g",
    "outputId": "27c74d77-a9fd-491d-fc92-2f1678945645"
   },
   "outputs": [
    {
     "data": {
      "text/plain": [
       "array([ 9, 10, 16], dtype=int64)"
      ]
     },
     "execution_count": 18,
     "metadata": {},
     "output_type": "execute_result"
    }
   ],
   "source": [
    "# Find index of feature\n",
    "idx[0]"
   ]
  },
  {
   "cell_type": "code",
   "execution_count": 19,
   "metadata": {
    "colab": {
     "base_uri": "https://localhost:8080/"
    },
    "executionInfo": {
     "elapsed": 13,
     "status": "ok",
     "timestamp": 1624616900849,
     "user": {
      "displayName": "RockyChicken182",
      "photoUrl": "https://lh3.googleusercontent.com/a-/AOh14GiHn7vaq8S7ttcfulVDtTveJfGpbYI3y7X1MJhJsg=s64",
      "userId": "16427190797879463063"
     },
     "user_tz": -480
    },
    "id": "p4S_h4H0N9IX",
    "outputId": "039427bb-6e71-4ca2-a9d9-4986db203068"
   },
   "outputs": [
    {
     "data": {
      "text/plain": [
       "array([1., 1., 1., 1., 1., 1., 1., 1., 1., 0., 0., 0., 0., 0., 0.])"
      ]
     },
     "execution_count": 19,
     "metadata": {},
     "output_type": "execute_result"
    }
   ],
   "source": [
    "#Cosine similarity with other similar bakeries\n",
    "n = 15 #how many books to be recommended\n",
    "top_n_idx = np.flip(np.argsort(cosine_sim_name[bakery_id,]), axis = 0)[0:n]\n",
    "top_n_sim_values = cosine_sim_name[bakery_id, top_n_idx]\n",
    "top_n_sim_values"
   ]
  },
  {
   "cell_type": "code",
   "execution_count": 20,
   "metadata": {
    "colab": {
     "base_uri": "https://localhost:8080/"
    },
    "executionInfo": {
     "elapsed": 12,
     "status": "ok",
     "timestamp": 1624616900849,
     "user": {
      "displayName": "RockyChicken182",
      "photoUrl": "https://lh3.googleusercontent.com/a-/AOh14GiHn7vaq8S7ttcfulVDtTveJfGpbYI3y7X1MJhJsg=s64",
      "userId": "16427190797879463063"
     },
     "user_tz": -480
    },
    "id": "0AheLnAROK9L",
    "outputId": "7ca348ef-73c8-4fae-ba0d-5eae6d6d6697"
   },
   "outputs": [
    {
     "data": {
      "text/plain": [
       "96                   tacos de la estacion\n",
       "111    tacos de barbacoa enfrente del Tec\n",
       "100                  Sanborns Casa Piedra\n",
       "53             Michiko Restaurant Japones\n",
       "52                     Restaurante Guerra\n",
       "84                               Carls Jr\n",
       "75                                   VIPS\n",
       "86          Carreton de Flautas y Migadas\n",
       "73                             palomo tec\n",
       "Name: name, dtype: object"
      ]
     },
     "execution_count": 20,
     "metadata": {},
     "output_type": "execute_result"
    }
   ],
   "source": [
    "#find top n with values > 0\n",
    "top_n_idx = top_n_idx[top_n_sim_values > 0]\n",
    "#Matching bakeries\n",
    "bakery_df['name'].iloc[top_n_idx]"
   ]
  },
  {
   "cell_type": "markdown",
   "metadata": {
    "id": "t82NwHeepuAN"
   },
   "source": [
    "> The next 2 cell blocks involves a function, in which when the function is called, it takes the bakery name and recommends similar bakeries that sells the same type of bread, based on cosine similairty ."
   ]
  },
  {
   "cell_type": "code",
   "execution_count": 21,
   "metadata": {
    "id": "CyGSgXhmOQD_"
   },
   "outputs": [],
   "source": [
    "# lets wrap the above code in a function\n",
    "def return_sim_bakery_name(bakery_id, bakery_matrix, vectorizer, top_n = 10):\n",
    "    \n",
    "    # generate sim matrix\n",
    "    sim_matrix = cosine_similarity(bakery_matrix, bakery_matrix)\n",
    "    features = vectorizer.get_feature_names()\n",
    "\n",
    "    top_n_idx = np.flip(np.argsort(sim_matrix[bakery_id,]),axis=0)[0:top_n]\n",
    "    top_n_sim_values = sim_matrix[bakery_id, top_n_idx]\n",
    "    \n",
    "    # find top n with values > 0\n",
    "    top_n_idx = top_n_idx[top_n_sim_values > 0]\n",
    "    scores = top_n_sim_values[top_n_sim_values > 0]\n",
    "    \n",
    "    \n",
    "    # find features from the vectorized matrix\n",
    "    sim_name_idx = bakery_df['name'].iloc[top_n_idx].index\n",
    "    words = []\n",
    "    for name_idx in sim_name_idx:\n",
    "        try:\n",
    "            feature_array = np.squeeze(bakery_matrix[name_idx,].toarray())\n",
    "        except:\n",
    "            feature_array = np.squeeze(bakery_matrix[name_idx,])\n",
    "        idx = np.where(feature_array > 0)\n",
    "        words.append([\" , \".join([features[i] for i in idx[0]])])\n",
    "        \n",
    "    # collate results\n",
    "    res = pd.DataFrame({\"bakery_name\" : bakery_df['name'].iloc[bakery_id],\"types_of_bread_sold\" : bakery_df['types_of_bread'].iloc[bakery_id],\n",
    "           \"sim_bakeries\": bakery_df['name'].iloc[top_n_idx].values,\"words\":words,\n",
    "           \"scores\":scores}, columns = [\"bakery_name\",\"types_of_bread_sold\",\"sim_bakeries\",\"scores\",\"words\"])\n",
    "    \n",
    "    \n",
    "    return res"
   ]
  },
  {
   "cell_type": "code",
   "execution_count": 23,
   "metadata": {
    "colab": {
     "base_uri": "https://localhost:8080/",
     "height": 360
    },
    "executionInfo": {
     "elapsed": 3173,
     "status": "ok",
     "timestamp": 1624616904012,
     "user": {
      "displayName": "RockyChicken182",
      "photoUrl": "https://lh3.googleusercontent.com/a-/AOh14GiHn7vaq8S7ttcfulVDtTveJfGpbYI3y7X1MJhJsg=s64",
      "userId": "16427190797879463063"
     },
     "user_tz": -480
    },
    "id": "tK5GMlMdO25b",
    "outputId": "9b088ded-47ee-474b-f208-3c6b9e0ba04a"
   },
   "outputs": [
    {
     "name": "stdout",
     "output_type": "stream",
     "text": [
      "Enter a User ID (from 1 to 150)34\n",
      "pizza clasica\n"
     ]
    },
    {
     "data": {
      "text/html": [
       "<div>\n",
       "<style scoped>\n",
       "    .dataframe tbody tr th:only-of-type {\n",
       "        vertical-align: middle;\n",
       "    }\n",
       "\n",
       "    .dataframe tbody tr th {\n",
       "        vertical-align: top;\n",
       "    }\n",
       "\n",
       "    .dataframe thead th {\n",
       "        text-align: right;\n",
       "    }\n",
       "</style>\n",
       "<table border=\"1\" class=\"dataframe\">\n",
       "  <thead>\n",
       "    <tr style=\"text-align: right;\">\n",
       "      <th></th>\n",
       "      <th>bakery_name</th>\n",
       "      <th>types_of_bread_sold</th>\n",
       "      <th>sim_bakeries</th>\n",
       "      <th>scores</th>\n",
       "      <th>words</th>\n",
       "    </tr>\n",
       "  </thead>\n",
       "  <tbody>\n",
       "    <tr>\n",
       "      <th>0</th>\n",
       "      <td>pizza clasica</td>\n",
       "      <td>Kringles</td>\n",
       "      <td>Restaurante y Pescaderia Tampico</td>\n",
       "      <td>1.0</td>\n",
       "      <td>[kringles]</td>\n",
       "    </tr>\n",
       "    <tr>\n",
       "      <th>1</th>\n",
       "      <td>pizza clasica</td>\n",
       "      <td>Kringles</td>\n",
       "      <td>Restaurante El Chivero S.A. de C.V.</td>\n",
       "      <td>1.0</td>\n",
       "      <td>[kringles]</td>\n",
       "    </tr>\n",
       "    <tr>\n",
       "      <th>2</th>\n",
       "      <td>pizza clasica</td>\n",
       "      <td>Kringles</td>\n",
       "      <td>Chaires</td>\n",
       "      <td>1.0</td>\n",
       "      <td>[kringles]</td>\n",
       "    </tr>\n",
       "    <tr>\n",
       "      <th>3</th>\n",
       "      <td>pizza clasica</td>\n",
       "      <td>Kringles</td>\n",
       "      <td>Restaurante El Cielo Potosino</td>\n",
       "      <td>1.0</td>\n",
       "      <td>[kringles]</td>\n",
       "    </tr>\n",
       "    <tr>\n",
       "      <th>4</th>\n",
       "      <td>pizza clasica</td>\n",
       "      <td>Kringles</td>\n",
       "      <td>Gorditas Dona Tota</td>\n",
       "      <td>1.0</td>\n",
       "      <td>[kringles]</td>\n",
       "    </tr>\n",
       "    <tr>\n",
       "      <th>5</th>\n",
       "      <td>pizza clasica</td>\n",
       "      <td>Kringles</td>\n",
       "      <td>Rincon Huasteco</td>\n",
       "      <td>1.0</td>\n",
       "      <td>[kringles]</td>\n",
       "    </tr>\n",
       "    <tr>\n",
       "      <th>6</th>\n",
       "      <td>pizza clasica</td>\n",
       "      <td>Kringles</td>\n",
       "      <td>Hamburguesas saul</td>\n",
       "      <td>1.0</td>\n",
       "      <td>[kringles]</td>\n",
       "    </tr>\n",
       "    <tr>\n",
       "      <th>7</th>\n",
       "      <td>pizza clasica</td>\n",
       "      <td>Kringles</td>\n",
       "      <td>pizza clasica</td>\n",
       "      <td>1.0</td>\n",
       "      <td>[kringles]</td>\n",
       "    </tr>\n",
       "    <tr>\n",
       "      <th>8</th>\n",
       "      <td>pizza clasica</td>\n",
       "      <td>Kringles</td>\n",
       "      <td>KFC</td>\n",
       "      <td>1.0</td>\n",
       "      <td>[kringles]</td>\n",
       "    </tr>\n",
       "  </tbody>\n",
       "</table>\n",
       "</div>"
      ],
      "text/plain": [
       "     bakery_name types_of_bread_sold                         sim_bakeries  \\\n",
       "0  pizza clasica            Kringles     Restaurante y Pescaderia Tampico   \n",
       "1  pizza clasica            Kringles  Restaurante El Chivero S.A. de C.V.   \n",
       "2  pizza clasica            Kringles                              Chaires   \n",
       "3  pizza clasica            Kringles        Restaurante El Cielo Potosino   \n",
       "4  pizza clasica            Kringles                   Gorditas Dona Tota   \n",
       "5  pizza clasica            Kringles                      Rincon Huasteco   \n",
       "6  pizza clasica            Kringles                    Hamburguesas saul   \n",
       "7  pizza clasica            Kringles                        pizza clasica   \n",
       "8  pizza clasica            Kringles                                  KFC   \n",
       "\n",
       "   scores       words  \n",
       "0     1.0  [kringles]  \n",
       "1     1.0  [kringles]  \n",
       "2     1.0  [kringles]  \n",
       "3     1.0  [kringles]  \n",
       "4     1.0  [kringles]  \n",
       "5     1.0  [kringles]  \n",
       "6     1.0  [kringles]  \n",
       "7     1.0  [kringles]  \n",
       "8     1.0  [kringles]  "
      ]
     },
     "execution_count": 23,
     "metadata": {},
     "output_type": "execute_result"
    }
   ],
   "source": [
    "vect = CountVectorizer(analyzer='word',ngram_range=(1,2),stop_words='english', min_df = 0.001)\n",
    "vect.fit(bakery_df['types_of_bread'])\n",
    "bakery_matrix = vect.transform(bakery_df['types_of_bread'])\n",
    "user_id_input=int(input(\"Enter a User ID (from 1 to 150)\"))\n",
    "get_user_row=visited_df.loc[visited_df['userID'] == user_id_input]\n",
    "placeid_visited_by_user=int(get_user_row['placeID'].values)\n",
    "print(bakery_df['name'][placeid_visited_by_user])\n",
    "return_sim_bakery_name(placeid_visited_by_user,bakery_matrix,vect,top_n=10)"
   ]
  },
  {
   "cell_type": "markdown",
   "metadata": {
    "id": "aqaSyUKmov_o"
   },
   "source": [
    "> Below are the test samples which put the CountVectorizer Algorithm model into action"
   ]
  },
  {
   "cell_type": "code",
   "execution_count": 24,
   "metadata": {
    "colab": {
     "base_uri": "https://localhost:8080/",
     "height": 355
    },
    "executionInfo": {
     "elapsed": 493,
     "status": "ok",
     "timestamp": 1624616904501,
     "user": {
      "displayName": "RockyChicken182",
      "photoUrl": "https://lh3.googleusercontent.com/a-/AOh14GiHn7vaq8S7ttcfulVDtTveJfGpbYI3y7X1MJhJsg=s64",
      "userId": "16427190797879463063"
     },
     "user_tz": -480
    },
    "id": "gzfn2cLWoXaA",
    "outputId": "2305f562-1868-4b58-f2bc-a2f31cd081bd"
   },
   "outputs": [
    {
     "data": {
      "text/html": [
       "<div>\n",
       "<style scoped>\n",
       "    .dataframe tbody tr th:only-of-type {\n",
       "        vertical-align: middle;\n",
       "    }\n",
       "\n",
       "    .dataframe tbody tr th {\n",
       "        vertical-align: top;\n",
       "    }\n",
       "\n",
       "    .dataframe thead th {\n",
       "        text-align: right;\n",
       "    }\n",
       "</style>\n",
       "<table border=\"1\" class=\"dataframe\">\n",
       "  <thead>\n",
       "    <tr style=\"text-align: right;\">\n",
       "      <th></th>\n",
       "      <th>bakery_name</th>\n",
       "      <th>types_of_bread_sold</th>\n",
       "      <th>sim_bakeries</th>\n",
       "      <th>scores</th>\n",
       "      <th>words</th>\n",
       "    </tr>\n",
       "  </thead>\n",
       "  <tbody>\n",
       "    <tr>\n",
       "      <th>0</th>\n",
       "      <td>Unicols Pizza</td>\n",
       "      <td>Croissants</td>\n",
       "      <td>El Mundo de la Pasta</td>\n",
       "      <td>1.0</td>\n",
       "      <td>[croissants]</td>\n",
       "    </tr>\n",
       "    <tr>\n",
       "      <th>1</th>\n",
       "      <td>Unicols Pizza</td>\n",
       "      <td>Croissants</td>\n",
       "      <td>Pollo_Frito_Buenos_Aires</td>\n",
       "      <td>1.0</td>\n",
       "      <td>[croissants]</td>\n",
       "    </tr>\n",
       "    <tr>\n",
       "      <th>2</th>\n",
       "      <td>Unicols Pizza</td>\n",
       "      <td>Croissants</td>\n",
       "      <td>La Posada del Virrey</td>\n",
       "      <td>1.0</td>\n",
       "      <td>[croissants]</td>\n",
       "    </tr>\n",
       "    <tr>\n",
       "      <th>3</th>\n",
       "      <td>Unicols Pizza</td>\n",
       "      <td>Croissants</td>\n",
       "      <td>Tortas y hamburguesas el gordo</td>\n",
       "      <td>1.0</td>\n",
       "      <td>[croissants]</td>\n",
       "    </tr>\n",
       "    <tr>\n",
       "      <th>4</th>\n",
       "      <td>Unicols Pizza</td>\n",
       "      <td>Croissants</td>\n",
       "      <td>Restaurante Bar Fu-hao</td>\n",
       "      <td>1.0</td>\n",
       "      <td>[croissants]</td>\n",
       "    </tr>\n",
       "    <tr>\n",
       "      <th>5</th>\n",
       "      <td>Unicols Pizza</td>\n",
       "      <td>Croissants</td>\n",
       "      <td>Carnitas Mata  Calle 16 de Septiembre</td>\n",
       "      <td>1.0</td>\n",
       "      <td>[croissants]</td>\n",
       "    </tr>\n",
       "    <tr>\n",
       "      <th>6</th>\n",
       "      <td>Unicols Pizza</td>\n",
       "      <td>Croissants</td>\n",
       "      <td>Unicols Pizza</td>\n",
       "      <td>1.0</td>\n",
       "      <td>[croissants]</td>\n",
       "    </tr>\n",
       "    <tr>\n",
       "      <th>7</th>\n",
       "      <td>Unicols Pizza</td>\n",
       "      <td>Croissants</td>\n",
       "      <td>Restaurant Orizatlan</td>\n",
       "      <td>1.0</td>\n",
       "      <td>[croissants]</td>\n",
       "    </tr>\n",
       "    <tr>\n",
       "      <th>8</th>\n",
       "      <td>Unicols Pizza</td>\n",
       "      <td>Croissants</td>\n",
       "      <td>Potzocalli</td>\n",
       "      <td>1.0</td>\n",
       "      <td>[croissants]</td>\n",
       "    </tr>\n",
       "    <tr>\n",
       "      <th>9</th>\n",
       "      <td>Unicols Pizza</td>\n",
       "      <td>Croissants</td>\n",
       "      <td>cafe punta del cielo</td>\n",
       "      <td>1.0</td>\n",
       "      <td>[croissants]</td>\n",
       "    </tr>\n",
       "  </tbody>\n",
       "</table>\n",
       "</div>"
      ],
      "text/plain": [
       "     bakery_name types_of_bread_sold                           sim_bakeries  \\\n",
       "0  Unicols Pizza          Croissants                   El Mundo de la Pasta   \n",
       "1  Unicols Pizza          Croissants               Pollo_Frito_Buenos_Aires   \n",
       "2  Unicols Pizza          Croissants                   La Posada del Virrey   \n",
       "3  Unicols Pizza          Croissants         Tortas y hamburguesas el gordo   \n",
       "4  Unicols Pizza          Croissants                 Restaurante Bar Fu-hao   \n",
       "5  Unicols Pizza          Croissants  Carnitas Mata  Calle 16 de Septiembre   \n",
       "6  Unicols Pizza          Croissants                          Unicols Pizza   \n",
       "7  Unicols Pizza          Croissants                   Restaurant Orizatlan   \n",
       "8  Unicols Pizza          Croissants                             Potzocalli   \n",
       "9  Unicols Pizza          Croissants                   cafe punta del cielo   \n",
       "\n",
       "   scores         words  \n",
       "0     1.0  [croissants]  \n",
       "1     1.0  [croissants]  \n",
       "2     1.0  [croissants]  \n",
       "3     1.0  [croissants]  \n",
       "4     1.0  [croissants]  \n",
       "5     1.0  [croissants]  \n",
       "6     1.0  [croissants]  \n",
       "7     1.0  [croissants]  \n",
       "8     1.0  [croissants]  \n",
       "9     1.0  [croissants]  "
      ]
     },
     "execution_count": 24,
     "metadata": {},
     "output_type": "execute_result"
    }
   ],
   "source": [
    "bakery_input_V2=18\n",
    "return_sim_bakery_name(bakery_input_V2,bakery_matrix,vect,top_n=10)"
   ]
  },
  {
   "cell_type": "code",
   "execution_count": 25,
   "metadata": {
    "colab": {
     "base_uri": "https://localhost:8080/",
     "height": 324
    },
    "executionInfo": {
     "elapsed": 17,
     "status": "ok",
     "timestamp": 1624616904502,
     "user": {
      "displayName": "RockyChicken182",
      "photoUrl": "https://lh3.googleusercontent.com/a-/AOh14GiHn7vaq8S7ttcfulVDtTveJfGpbYI3y7X1MJhJsg=s64",
      "userId": "16427190797879463063"
     },
     "user_tz": -480
    },
    "id": "xt2FFPp5oXaB",
    "outputId": "377cd940-716d-41bc-8a3a-a844c7014ed9"
   },
   "outputs": [
    {
     "data": {
      "text/html": [
       "<div>\n",
       "<style scoped>\n",
       "    .dataframe tbody tr th:only-of-type {\n",
       "        vertical-align: middle;\n",
       "    }\n",
       "\n",
       "    .dataframe tbody tr th {\n",
       "        vertical-align: top;\n",
       "    }\n",
       "\n",
       "    .dataframe thead th {\n",
       "        text-align: right;\n",
       "    }\n",
       "</style>\n",
       "<table border=\"1\" class=\"dataframe\">\n",
       "  <thead>\n",
       "    <tr style=\"text-align: right;\">\n",
       "      <th></th>\n",
       "      <th>bakery_name</th>\n",
       "      <th>types_of_bread_sold</th>\n",
       "      <th>sim_bakeries</th>\n",
       "      <th>scores</th>\n",
       "      <th>words</th>\n",
       "    </tr>\n",
       "  </thead>\n",
       "  <tbody>\n",
       "    <tr>\n",
       "      <th>0</th>\n",
       "      <td>Restaurant la Chalita</td>\n",
       "      <td>Swiss Rolls</td>\n",
       "      <td>Log Yin</td>\n",
       "      <td>1.0</td>\n",
       "      <td>[rolls , swiss , swiss rolls]</td>\n",
       "    </tr>\n",
       "    <tr>\n",
       "      <th>1</th>\n",
       "      <td>Restaurant la Chalita</td>\n",
       "      <td>Swiss Rolls</td>\n",
       "      <td>Mikasa</td>\n",
       "      <td>1.0</td>\n",
       "      <td>[rolls , swiss , swiss rolls]</td>\n",
       "    </tr>\n",
       "    <tr>\n",
       "      <th>2</th>\n",
       "      <td>Restaurant la Chalita</td>\n",
       "      <td>Swiss Rolls</td>\n",
       "      <td>Paniroles</td>\n",
       "      <td>1.0</td>\n",
       "      <td>[rolls , swiss , swiss rolls]</td>\n",
       "    </tr>\n",
       "    <tr>\n",
       "      <th>3</th>\n",
       "      <td>Restaurant la Chalita</td>\n",
       "      <td>Swiss Rolls</td>\n",
       "      <td>Sushi Itto</td>\n",
       "      <td>1.0</td>\n",
       "      <td>[rolls , swiss , swiss rolls]</td>\n",
       "    </tr>\n",
       "    <tr>\n",
       "      <th>4</th>\n",
       "      <td>Restaurant la Chalita</td>\n",
       "      <td>Swiss Rolls</td>\n",
       "      <td>Gordas de morales</td>\n",
       "      <td>1.0</td>\n",
       "      <td>[rolls , swiss , swiss rolls]</td>\n",
       "    </tr>\n",
       "    <tr>\n",
       "      <th>5</th>\n",
       "      <td>Restaurant la Chalita</td>\n",
       "      <td>Swiss Rolls</td>\n",
       "      <td>McDonalds Centro</td>\n",
       "      <td>1.0</td>\n",
       "      <td>[rolls , swiss , swiss rolls]</td>\n",
       "    </tr>\n",
       "    <tr>\n",
       "      <th>6</th>\n",
       "      <td>Restaurant la Chalita</td>\n",
       "      <td>Swiss Rolls</td>\n",
       "      <td>Tortas Locas Hipocampo</td>\n",
       "      <td>1.0</td>\n",
       "      <td>[rolls , swiss , swiss rolls]</td>\n",
       "    </tr>\n",
       "    <tr>\n",
       "      <th>7</th>\n",
       "      <td>Restaurant la Chalita</td>\n",
       "      <td>Swiss Rolls</td>\n",
       "      <td>La Cantina Restaurante</td>\n",
       "      <td>1.0</td>\n",
       "      <td>[rolls , swiss , swiss rolls]</td>\n",
       "    </tr>\n",
       "    <tr>\n",
       "      <th>8</th>\n",
       "      <td>Restaurant la Chalita</td>\n",
       "      <td>Swiss Rolls</td>\n",
       "      <td>Restaurant la Chalita</td>\n",
       "      <td>1.0</td>\n",
       "      <td>[rolls , swiss , swiss rolls]</td>\n",
       "    </tr>\n",
       "  </tbody>\n",
       "</table>\n",
       "</div>"
      ],
      "text/plain": [
       "             bakery_name types_of_bread_sold            sim_bakeries  scores  \\\n",
       "0  Restaurant la Chalita         Swiss Rolls                 Log Yin     1.0   \n",
       "1  Restaurant la Chalita         Swiss Rolls                  Mikasa     1.0   \n",
       "2  Restaurant la Chalita         Swiss Rolls               Paniroles     1.0   \n",
       "3  Restaurant la Chalita         Swiss Rolls              Sushi Itto     1.0   \n",
       "4  Restaurant la Chalita         Swiss Rolls       Gordas de morales     1.0   \n",
       "5  Restaurant la Chalita         Swiss Rolls        McDonalds Centro     1.0   \n",
       "6  Restaurant la Chalita         Swiss Rolls  Tortas Locas Hipocampo     1.0   \n",
       "7  Restaurant la Chalita         Swiss Rolls  La Cantina Restaurante     1.0   \n",
       "8  Restaurant la Chalita         Swiss Rolls   Restaurant la Chalita     1.0   \n",
       "\n",
       "                           words  \n",
       "0  [rolls , swiss , swiss rolls]  \n",
       "1  [rolls , swiss , swiss rolls]  \n",
       "2  [rolls , swiss , swiss rolls]  \n",
       "3  [rolls , swiss , swiss rolls]  \n",
       "4  [rolls , swiss , swiss rolls]  \n",
       "5  [rolls , swiss , swiss rolls]  \n",
       "6  [rolls , swiss , swiss rolls]  \n",
       "7  [rolls , swiss , swiss rolls]  \n",
       "8  [rolls , swiss , swiss rolls]  "
      ]
     },
     "execution_count": 25,
     "metadata": {},
     "output_type": "execute_result"
    }
   ],
   "source": [
    "bakery_input_V3=60\n",
    "return_sim_bakery_name(bakery_input_V3,bakery_matrix,vect,top_n=10)"
   ]
  },
  {
   "cell_type": "markdown",
   "metadata": {
    "id": "_x0-uUqSo7lz"
   },
   "source": [
    " > As seen from the results, it works! It managed to recommend similar bakeries that sells croissants or swiss rolls respectively, based on the input bakery that sells croissants or swiss rolls."
   ]
  },
  {
   "cell_type": "markdown",
   "metadata": {
    "id": "Tup0lrw3x98v"
   },
   "source": [
    "### **Section 3.2- Training/Evaluating TfidfVectorizer for User Visited Recommendation System**\n",
    "\n",
    "  > For the TfidfVectorizer Algorithm, it collects the types of bread sold and maps the type of bread sold to every bakery name. \n",
    "\n",
    "Reasons to choose CountVectorizer Algorithm\n",
    "- Returns Integer output which is more simplistic\n",
    "- Simple algorithm – to interpret \n",
    "- Higher accuracy than CountVectorizer in assigning similar bakeries "
   ]
  },
  {
   "cell_type": "markdown",
   "metadata": {
    "id": "-dG8DxLzd6ie"
   },
   "source": [
    "> Let's start the second experiment model by importing the TfidfVectorizer and fitting the types of bread sold into the algorithm."
   ]
  },
  {
   "cell_type": "code",
   "execution_count": 26,
   "metadata": {
    "colab": {
     "base_uri": "https://localhost:8080/"
    },
    "executionInfo": {
     "elapsed": 16,
     "status": "ok",
     "timestamp": 1624616904502,
     "user": {
      "displayName": "RockyChicken182",
      "photoUrl": "https://lh3.googleusercontent.com/a-/AOh14GiHn7vaq8S7ttcfulVDtTveJfGpbYI3y7X1MJhJsg=s64",
      "userId": "16427190797879463063"
     },
     "user_tz": -480
    },
    "id": "tKLje3FNIaCh",
    "outputId": "f778e3c3-6bb7-4c26-8445-985b5cf8efdd"
   },
   "outputs": [
    {
     "data": {
      "text/plain": [
       "(130, 21)"
      ]
     },
     "execution_count": 26,
     "metadata": {},
     "output_type": "execute_result"
    }
   ],
   "source": [
    "tfidf = TfidfVectorizer(stop_words='english')\n",
    "bakery_df['types_of_bread'] = bakery_df['types_of_bread'].fillna('')\n",
    "#Construct the required TF-IDF matrix by applying the fit_transform method on the overview feature\n",
    "overview_matrix = tfidf.fit_transform(bakery_df['types_of_bread'])\n",
    "#Output the shape of tfidf  _matrix\n",
    "overview_matrix.shape"
   ]
  },
  {
   "cell_type": "code",
   "execution_count": 27,
   "metadata": {
    "colab": {
     "base_uri": "https://localhost:8080/"
    },
    "executionInfo": {
     "elapsed": 15,
     "status": "ok",
     "timestamp": 1624616904503,
     "user": {
      "displayName": "RockyChicken182",
      "photoUrl": "https://lh3.googleusercontent.com/a-/AOh14GiHn7vaq8S7ttcfulVDtTveJfGpbYI3y7X1MJhJsg=s64",
      "userId": "16427190797879463063"
     },
     "user_tz": -480
    },
    "id": "nG4ZEueqIcbR",
    "outputId": "94deb947-ac6a-43e5-cd9c-cd32078db482"
   },
   "outputs": [
    {
     "data": {
      "text/plain": [
       "array([[1., 0., 0., ..., 0., 0., 0.],\n",
       "       [0., 1., 0., ..., 0., 0., 0.],\n",
       "       [0., 0., 1., ..., 0., 0., 0.],\n",
       "       ...,\n",
       "       [0., 0., 0., ..., 1., 0., 0.],\n",
       "       [0., 0., 0., ..., 0., 1., 0.],\n",
       "       [0., 0., 0., ..., 0., 0., 1.]])"
      ]
     },
     "execution_count": 27,
     "metadata": {},
     "output_type": "execute_result"
    }
   ],
   "source": [
    "#purpose of linear kernel is to take the linearly seperable data and seperate it with a diagonal line\n",
    "similarity_matrix = linear_kernel(overview_matrix,overview_matrix)\n",
    "similarity_matrix"
   ]
  },
  {
   "cell_type": "code",
   "execution_count": 28,
   "metadata": {
    "colab": {
     "base_uri": "https://localhost:8080/"
    },
    "executionInfo": {
     "elapsed": 14,
     "status": "ok",
     "timestamp": 1624616904503,
     "user": {
      "displayName": "RockyChicken182",
      "photoUrl": "https://lh3.googleusercontent.com/a-/AOh14GiHn7vaq8S7ttcfulVDtTveJfGpbYI3y7X1MJhJsg=s64",
      "userId": "16427190797879463063"
     },
     "user_tz": -480
    },
    "id": "JthDh1yXIdez",
    "outputId": "72a50916-ff8b-46f2-b578-141c1ec6e775"
   },
   "outputs": [
    {
     "data": {
      "text/plain": [
       "['bagels',\n",
       " 'baked',\n",
       " 'baos',\n",
       " 'cakes',\n",
       " 'clairs',\n",
       " 'cookies',\n",
       " 'croissants',\n",
       " 'cupcakes',\n",
       " 'curry',\n",
       " 'doughnuts',\n",
       " 'kringles',\n",
       " 'muffins',\n",
       " 'pies',\n",
       " 'pizzas',\n",
       " 'puffs',\n",
       " 'rolls',\n",
       " 'sandwiches',\n",
       " 'strudels',\n",
       " 'swiss',\n",
       " 'taiyakis',\n",
       " 'tarts']"
      ]
     },
     "execution_count": 28,
     "metadata": {},
     "output_type": "execute_result"
    }
   ],
   "source": [
    "#Lets find vocabulary/features\n",
    "features = tfidf.get_feature_names()\n",
    "features"
   ]
  },
  {
   "cell_type": "code",
   "execution_count": 29,
   "metadata": {
    "colab": {
     "base_uri": "https://localhost:8080/"
    },
    "executionInfo": {
     "elapsed": 12,
     "status": "ok",
     "timestamp": 1624616904503,
     "user": {
      "displayName": "RockyChicken182",
      "photoUrl": "https://lh3.googleusercontent.com/a-/AOh14GiHn7vaq8S7ttcfulVDtTveJfGpbYI3y7X1MJhJsg=s64",
      "userId": "16427190797879463063"
     },
     "user_tz": -480
    },
    "id": "uBRCIh8EIegt",
    "outputId": "2aaa734d-219d-402d-ef0c-c9dcc2a4a2c3"
   },
   "outputs": [
    {
     "data": {
      "text/plain": [
       "name\n",
       "Kiku Cuernavaca                     0\n",
       "puesto de tacos                     1\n",
       "El Rinc�n de San Francisco          2\n",
       "little pizza Emilio Portes Gil      3\n",
       "carnitas_mata                       4\n",
       "                                 ... \n",
       "Chaires                           125\n",
       "Sushi Itto                        126\n",
       "Paniroles                         127\n",
       "Restaurant Bar Coty y Pablo       128\n",
       "sirloin stockade                  129\n",
       "Length: 130, dtype: int64"
      ]
     },
     "execution_count": 29,
     "metadata": {},
     "output_type": "execute_result"
    }
   ],
   "source": [
    "#mapping the types of bread to its bakery name\n",
    "mapping = pd.Series(bakery_df.index,index = bakery_df['name'])\n",
    "mapping"
   ]
  },
  {
   "cell_type": "markdown",
   "metadata": {
    "id": "RixOMjnRet1k"
   },
   "source": [
    "> The next 2 cell blocks involves a function, in which when the function is called, it takes the bakery name and recommends similar bakeries that sells the same type of bread ,  based on the mapping table that maps bakery names to the types of bread sold."
   ]
  },
  {
   "cell_type": "code",
   "execution_count": 30,
   "metadata": {
    "id": "9KZiRsjsIf0m"
   },
   "outputs": [],
   "source": [
    "def recommend_bakeries_based_on_bread(df,bakery_input):\n",
    "\n",
    "  bakery_index = mapping[bakery_input]\n",
    "  #get similarity values with other movies\n",
    "  #similarity_score is the list of index and similarity matrix\n",
    "  similarity_score = list(enumerate(similarity_matrix[bakery_index]))\n",
    "  #sort in descending order the similarity score of movie inputted with all the other movies\n",
    "  similarity_score = sorted(similarity_score, key=lambda x: x[1], reverse=True)\n",
    "  # Get the scores of the 15 most similar movies. Ignore the firs t movie.\n",
    "  similarity_score = similarity_score[1:15]\n",
    "  #return movie names using the mapping series\n",
    "  bakery_indices = [i[0] for i in similarity_score]\n",
    "  return bakery_df.iloc[bakery_indices]"
   ]
  },
  {
   "cell_type": "code",
   "execution_count": 31,
   "metadata": {
    "colab": {
     "base_uri": "https://localhost:8080/"
    },
    "executionInfo": {
     "elapsed": 2460,
     "status": "ok",
     "timestamp": 1624616906957,
     "user": {
      "displayName": "RockyChicken182",
      "photoUrl": "https://lh3.googleusercontent.com/a-/AOh14GiHn7vaq8S7ttcfulVDtTveJfGpbYI3y7X1MJhJsg=s64",
      "userId": "16427190797879463063"
     },
     "user_tz": -480
    },
    "id": "xYAWXP6UIhhD",
    "outputId": "b71b1353-6411-40d2-e47d-4643f8f39d81"
   },
   "outputs": [
    {
     "name": "stdout",
     "output_type": "stream",
     "text": [
      "Enter a User ID (from 1 to 150)67\n",
      "We are recommending bakeries similar to the bakery you have purchased from:\n",
      "Bakery Name: KFC\n",
      "No of Transactions: 5\n",
      "     placeID                                 name types_of_bread\n",
      "30        31     Restaurante y Pescaderia Tampico       Kringles\n",
      "59        60  Restaurante El Chivero S.A. de C.V.       Kringles\n",
      "85        86                    Hamburguesas saul       Kringles\n",
      "87        88                      Rincon Huasteco       Kringles\n",
      "89        90                   Gorditas Dona Tota       Kringles\n",
      "102      103                        pizza clasica       Kringles\n",
      "113      114        Restaurante El Cielo Potosino       Kringles\n",
      "125      126                              Chaires       Kringles\n",
      "0          1                      Kiku Cuernavaca         Bagels\n",
      "1          2                      puesto de tacos          Cakes\n",
      "2          3           El Rinc�n de San Francisco     Sandwiches\n",
      "3          4       little pizza Emilio Portes Gil           Baos\n",
      "4          5                        carnitas_mata           Baos\n",
      "5          6             Restaurant los Compadres       Cupcakes\n"
     ]
    }
   ],
   "source": [
    "#asking for the userID input to take the placeID that they visited\n",
    "user_input=int(input(\"Enter a User ID (from 1 to 150)\"))\n",
    "get_user_row=visited_df.loc[visited_df['userID'] == user_input]\n",
    "no_of_transactions_by_user = int(get_user_row['transactions'].values)\n",
    "#checks if the number of transactions of the user is above 2 -> assuming that the number of transactions that is below 2 shows that the user is uninterested\n",
    "if no_of_transactions_by_user > 2:\n",
    "  placeid_visited_by_user=int(get_user_row['placeID'].values)\n",
    "  \n",
    "  #gets the bakery name based on the placeID they visited\n",
    "  get_bakery_row = bakery_df.loc[bakery_df['placeID'] == placeid_visited_by_user]\n",
    "  bakery_name=get_bakery_row['name'].values\n",
    "  bakery_input=''.join(bakery_name)\n",
    "  print(\"We are recommending bakeries similar to the bakery you have purchased from:\")\n",
    "  print(\"Bakery Name: {}\".format(bakery_input))\n",
    "  print(\"No of Transactions: {}\".format(no_of_transactions_by_user))\n",
    "  print(recommend_bakeries_based_on_bread(bakery_df,bakery_input))\n",
    "else:\n",
    "  print(\"Sorry! You do not have enough transactions! Please purchase more breads from bakeries or check out other recommendations!\")"
   ]
  },
  {
   "cell_type": "markdown",
   "metadata": {
    "id": "LtwFJsQWnSFk"
   },
   "source": [
    "> Below are the test samples which put the TfidfVectorizer into action"
   ]
  },
  {
   "cell_type": "code",
   "execution_count": 32,
   "metadata": {
    "colab": {
     "base_uri": "https://localhost:8080/"
    },
    "executionInfo": {
     "elapsed": 7,
     "status": "ok",
     "timestamp": 1624616906958,
     "user": {
      "displayName": "RockyChicken182",
      "photoUrl": "https://lh3.googleusercontent.com/a-/AOh14GiHn7vaq8S7ttcfulVDtTveJfGpbYI3y7X1MJhJsg=s64",
      "userId": "16427190797879463063"
     },
     "user_tz": -480
    },
    "id": "PMw_w9JhnRyK",
    "outputId": "bbe20cfe-1c95-4735-fcf2-a2663346900c"
   },
   "outputs": [
    {
     "name": "stdout",
     "output_type": "stream",
     "text": [
      "     placeID                               name types_of_bread\n",
      "34        35         El Rincon de San Francisco       Strudels\n",
      "42        43            Restaurante El Reyecito       Strudels\n",
      "57        58  Restaurante la Parroquia Potosina       Strudels\n",
      "91        92                  Chilis Cuernavaca       Strudels\n",
      "105      106       Restaurante Bar El Gallinero       Strudels\n",
      "122      123                          tacos abi       Strudels\n",
      "128      129        Restaurant Bar Coty y Pablo       Strudels\n",
      "0          1                    Kiku Cuernavaca         Bagels\n",
      "1          2                    puesto de tacos          Cakes\n",
      "2          3         El Rinc�n de San Francisco     Sandwiches\n",
      "3          4     little pizza Emilio Portes Gil           Baos\n",
      "4          5                      carnitas_mata           Baos\n",
      "5          6           Restaurant los Compadres       Cupcakes\n",
      "6          7                 Taqueria EL amigo            Baos\n"
     ]
    }
   ],
   "source": [
    "bakery_input_V2=\"tacos abi\"\n",
    "print(recommend_bakeries_based_on_bread(bakery_df,bakery_input_V2))"
   ]
  },
  {
   "cell_type": "code",
   "execution_count": 33,
   "metadata": {
    "colab": {
     "base_uri": "https://localhost:8080/"
    },
    "executionInfo": {
     "elapsed": 6,
     "status": "ok",
     "timestamp": 1624616906958,
     "user": {
      "displayName": "RockyChicken182",
      "photoUrl": "https://lh3.googleusercontent.com/a-/AOh14GiHn7vaq8S7ttcfulVDtTveJfGpbYI3y7X1MJhJsg=s64",
      "userId": "16427190797879463063"
     },
     "user_tz": -480
    },
    "id": "tI35vAlInyOm",
    "outputId": "dcfa479d-c20d-4dae-e1c3-1642aab2697c"
   },
   "outputs": [
    {
     "name": "stdout",
     "output_type": "stream",
     "text": [
      "     placeID                        name types_of_bread\n",
      "4          5               carnitas_mata           Baos\n",
      "6          7          Taqueria EL amigo            Baos\n",
      "116      117        Restaurante Tiberius           Baos\n",
      "117      118             Cabana Huasteca           Baos\n",
      "118      119          Gorditas Dona Tota           Baos\n",
      "120      121                 La Virreina           Baos\n",
      "0          1             Kiku Cuernavaca         Bagels\n",
      "1          2             puesto de tacos          Cakes\n",
      "2          3  El Rinc�n de San Francisco     Sandwiches\n",
      "5          6    Restaurant los Compadres       Cupcakes\n",
      "7          8                   shi ro ie        Muffins\n",
      "8          9    Pollo_Frito_Buenos_Aires     Croissants\n",
      "9         10        la Estrella de Dimas        Muffins\n",
      "10        11              Restaurante 75        Cookies\n"
     ]
    }
   ],
   "source": [
    "bakery_input_V3=\"little pizza Emilio Portes Gil\"\n",
    "print(recommend_bakeries_based_on_bread(bakery_df,bakery_input_V3))"
   ]
  },
  {
   "cell_type": "markdown",
   "metadata": {
    "id": "_pyUue1aoB24"
   },
   "source": [
    "> As you can see, it managed to recommend similar bakeries that sells Strudels or Baos, based on the input bakery that sells Baos or Strudels respectively."
   ]
  }
 ],
 "metadata": {
  "colab": {
   "authorship_tag": "ABX9TyNcpr1stFEdA1/g4F+0e6TU",
   "collapsed_sections": [],
   "name": "Training for User Visited Recommendation System (Content-Filtering) #4.ipynb",
   "provenance": []
  },
  "kernelspec": {
   "display_name": "Python 3",
   "language": "python",
   "name": "python3"
  },
  "language_info": {
   "codemirror_mode": {
    "name": "ipython",
    "version": 3
   },
   "file_extension": ".py",
   "mimetype": "text/x-python",
   "name": "python",
   "nbconvert_exporter": "python",
   "pygments_lexer": "ipython3",
   "version": "3.8.5"
  }
 },
 "nbformat": 4,
 "nbformat_minor": 1
}
