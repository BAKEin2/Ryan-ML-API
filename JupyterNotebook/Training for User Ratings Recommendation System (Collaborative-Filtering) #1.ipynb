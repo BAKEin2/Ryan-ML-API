{
 "cells": [
  {
   "cell_type": "markdown",
   "metadata": {
    "id": "hNmHTAnVkirC"
   },
   "source": [
    "# **User Ratings-Based Recommendation System (Collaborative Filtering)** \n",
    "  > *Author - Ryan Tan Kang Khen (193190N)*"
   ]
  },
  {
   "cell_type": "markdown",
   "metadata": {
    "id": "T_SAS9a6JIWc"
   },
   "source": [
    "# **Section 0 – Introduction**\n",
    "- ***Explain the Machine Learning problem that you are trying to solve very briefly in your JupyterNotebook***\n",
    ">For this Jupyter Notebook , I want to recommend different bakeries \n",
    "and baked goods to different users based on different ratings that they have given. \n",
    "\n",
    "  >Normally, after a user gave a bakery a certain rating, the user has a hard time choosing a new bakery to try. So this JuyterNotebook aims to provide recommendations of different bakeries and different baked goods to users based on their own ratings.\n",
    "\n",
    "  >We will be using 2 different methods for this Jupyter Notebook: low Rank Matrix Factorization and Singular-Value Decomposition (SVN). "
   ]
  },
  {
   "cell_type": "markdown",
   "metadata": {
    "id": "gFMpFcdme01I"
   },
   "source": [
    "# **Section 1 – Data Collection**\n",
    "-  ***Describe your data source - where you got the data from (downloaded as a complete dataset online, or put together by yourself from various sources)***\n",
    "  >Since there were insufficient data on bakeries, I decided to scout around the Internet for existing bakeries data and even restaurants data. After looking around for a week, I found 3 Kaggle Datasets can be useful to combine with each other. \n",
    "  1. https://www.kaggle.com/uciml/restaurant-data-with-consumer-ratings\n",
    "  2. https://www.kaggle.com/sulmansarwar/transactions-from-a-bakery \n",
    "\n",
    "  >Due to the insufficient data like I mentioned, I had to combine and configure all 2 of the Kaggle datasets into our own. For this Jupyter Notebook, I will be using \"chefmozcuisine.csv\" and \"rating_final.csv\" from the 1st Kaggle Link.\n",
    "\n",
    "  >For the changes of the existing dataset, I firstly changed the cuisines of restaurants to types of bread sold in \"chefmozcuisine.csv\". The types of bread sold is taken from a column \"Item\" in the 2nd Kaggle Link Dataset (BreadBasket_DMS.csv)\n",
    "\n",
    "  >Secondly, I also changed the name of \"chefmozcuisine.csv\" to \"bakeries_location.csv\", and changed the name of \"rating_final.csv\" to \"userprofile_ratings.csv\" so as to identify the dataset better. \n",
    "\n",
    "  >Thirdly, I changed the userID and placeID for both datasets to numbers ranging from 1 to 150 and from 1 to 130 respectively, so as to identify the index of the data better."
   ]
  },
  {
   "cell_type": "markdown",
   "metadata": {
    "id": "DSmQdVaYnaqe"
   },
   "source": [
    "- ***Include the codes to load the data***\n",
    ">Now that we have changed the values in both datasets to suit this model training, we will import both datasets and certain packages into our model. The datasets \"bakeries_location.csv\" and \"userprofile_ratings.csv\" will be loaded into the models."
   ]
  },
  {
   "cell_type": "code",
   "execution_count": 9,
   "metadata": {
    "colab": {
     "base_uri": "https://localhost:8080/",
     "height": 73,
     "resources": {
      "http://localhost:8080/nbextensions/google.colab/files.js": {
       "data": "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",
       "headers": [
        [
         "content-type",
         "application/javascript"
        ]
       ],
       "ok": true,
       "status": 200,
       "status_text": ""
      }
     }
    },
    "executionInfo": {
     "elapsed": 11808,
     "status": "ok",
     "timestamp": 1624599579842,
     "user": {
      "displayName": "RockyChicken182",
      "photoUrl": "https://lh3.googleusercontent.com/a-/AOh14GiHn7vaq8S7ttcfulVDtTveJfGpbYI3y7X1MJhJsg=s64",
      "userId": "16427190797879463063"
     },
     "user_tz": -480
    },
    "id": "HqLxsvoRZ-FK",
    "outputId": "4951d7a6-f54a-481d-ced5-7c3ecb7c9335"
   },
   "outputs": [
    {
     "data": {
      "application/vnd.jupyter.widget-view+json": {
       "model_id": "d2458ab0e025409393ee9f90466ff543",
       "version_major": 2,
       "version_minor": 0
      },
      "text/plain": [
       "FileUpload(value={}, accept='/.csv*', description='Upload')"
      ]
     },
     "metadata": {},
     "output_type": "display_data"
    }
   ],
   "source": [
    "#importing packages\n",
    "import io\n",
    "import numpy as np\n",
    "import pandas as pd\n",
    "import webbrowser\n",
    "import os \n",
    "import scipy\n",
    "from scipy.optimize import fmin_cg\n",
    "\n",
    "\n",
    "\n",
    "import ipywidgets as widgets\n",
    "\n",
    "uploader = widgets.FileUpload(\n",
    "    accept='/.csv*',  # Accepted file extension'\n",
    "    multiple=False  # True to accept multiple files upload else False\n",
    ")\n",
    "\n",
    "display(uploader)\n"
   ]
  },
  {
   "cell_type": "code",
   "execution_count": 12,
   "metadata": {},
   "outputs": [],
   "source": [
    "bakery_df = pd.read_csv('C:/Users/ryant/IT3100 Project 2/dataset_ai/bakeries_location.csv')  "
   ]
  },
  {
   "cell_type": "code",
   "execution_count": 13,
   "metadata": {
    "colab": {
     "base_uri": "https://localhost:8080/",
     "height": 73,
     "resources": {
      "http://localhost:8080/nbextensions/google.colab/files.js": {
       "data": "Ly8gQ29weXJpZ2h0IDIwMTcgR29vZ2xlIExMQwovLwovLyBMaWNlbnNlZCB1bmRlciB0aGUgQXBhY2hlIExpY2Vuc2UsIFZlcnNpb24gMi4wICh0aGUgIkxpY2Vuc2UiKTsKLy8geW91IG1heSBub3QgdXNlIHRoaXMgZmlsZSBleGNlcHQgaW4gY29tcGxpYW5jZSB3aXRoIHRoZSBMaWNlbnNlLgovLyBZb3UgbWF5IG9idGFpbiBhIGNvcHkgb2YgdGhlIExpY2Vuc2UgYXQKLy8KLy8gICAgICBodHRwOi8vd3d3LmFwYWNoZS5vcmcvbGljZW5zZXMvTElDRU5TRS0yLjAKLy8KLy8gVW5sZXNzIHJlcXVpcmVkIGJ5IGFwcGxpY2FibGUgbGF3IG9yIGFncmVlZCB0byBpbiB3cml0aW5nLCBzb2Z0d2FyZQovLyBkaXN0cmlidXRlZCB1bmRlciB0aGUgTGljZW5zZSBpcyBkaXN0cmlidXRlZCBvbiBhbiAiQVMgSVMiIEJBU0lTLAovLyBXSVRIT1VUIFdBUlJBTlRJRVMgT1IgQ09ORElUSU9OUyBPRiBBTlkgS0lORCwgZWl0aGVyIGV4cHJlc3Mgb3IgaW1wbGllZC4KLy8gU2VlIHRoZSBMaWNlbnNlIGZvciB0aGUgc3BlY2lmaWMgbGFuZ3VhZ2UgZ292ZXJuaW5nIHBlcm1pc3Npb25zIGFuZAovLyBsaW1pdGF0aW9ucyB1bmRlciB0aGUgTGljZW5zZS4KCi8qKgogKiBAZmlsZW92ZXJ2aWV3IEhlbHBlcnMgZm9yIGdvb2dsZS5jb2xhYiBQeXRob24gbW9kdWxlLgogKi8KKGZ1bmN0aW9uKHNjb3BlKSB7CmZ1bmN0aW9uIHNwYW4odGV4dCwgc3R5bGVBdHRyaWJ1dGVzID0ge30pIHsKICBjb25zdCBlbGVtZW50ID0gZG9jdW1lbnQuY3JlYXRlRWxlbWVudCgnc3BhbicpOwogIGVsZW1lbnQudGV4dENvbnRlbnQgPSB0ZXh0OwogIGZvciAoY29uc3Qga2V5IG9mIE9iamVjdC5rZXlzKHN0eWxlQXR0cmlidXRlcykpIHsKICAgIGVsZW1lbnQuc3R5bGVba2V5XSA9IHN0eWxlQXR0cmlidXRlc1trZXldOwogIH0KICByZXR1cm4gZWxlbWVudDsKfQoKLy8gTWF4IG51bWJlciBvZiBieXRlcyB3aGljaCB3aWxsIGJlIHVwbG9hZGVkIGF0IGEgdGltZS4KY29uc3QgTUFYX1BBWUxPQURfU0laRSA9IDEwMCAqIDEwMjQ7CgpmdW5jdGlvbiBfdXBsb2FkRmlsZXMoaW5wdXRJZCwgb3V0cHV0SWQpIHsKICBjb25zdCBzdGVwcyA9IHVwbG9hZEZpbGVzU3RlcChpbnB1dElkLCBvdXRwdXRJZCk7CiAgY29uc3Qgb3V0cHV0RWxlbWVudCA9IGRvY3VtZW50LmdldEVsZW1lbnRCeUlkKG91dHB1dElkKTsKICAvLyBDYWNoZSBzdGVwcyBvbiB0aGUgb3V0cHV0RWxlbWVudCB0byBtYWtlIGl0IGF2YWlsYWJsZSBmb3IgdGhlIG5leHQgY2FsbAogIC8vIHRvIHVwbG9hZEZpbGVzQ29udGludWUgZnJvbSBQeXRob24uCiAgb3V0cHV0RWxlbWVudC5zdGVwcyA9IHN0ZXBzOwoKICByZXR1cm4gX3VwbG9hZEZpbGVzQ29udGludWUob3V0cHV0SWQpOwp9CgovLyBUaGlzIGlzIHJvdWdobHkgYW4gYXN5bmMgZ2VuZXJhdG9yIChub3Qgc3VwcG9ydGVkIGluIHRoZSBicm93c2VyIHlldCksCi8vIHdoZXJlIHRoZXJlIGFyZSBtdWx0aXBsZSBhc3luY2hyb25vdXMgc3RlcHMgYW5kIHRoZSBQeXRob24gc2lkZSBpcyBnb2luZwovLyB0byBwb2xsIGZvciBjb21wbGV0aW9uIG9mIGVhY2ggc3RlcC4KLy8gVGhpcyB1c2VzIGEgUHJvbWlzZSB0byBibG9jayB0aGUgcHl0aG9uIHNpZGUgb24gY29tcGxldGlvbiBvZiBlYWNoIHN0ZXAsCi8vIHRoZW4gcGFzc2VzIHRoZSByZXN1bHQgb2YgdGhlIHByZXZpb3VzIHN0ZXAgYXMgdGhlIGlucHV0IHRvIHRoZSBuZXh0IHN0ZXAuCmZ1bmN0aW9uIF91cGxvYWRGaWxlc0NvbnRpbnVlKG91dHB1dElkKSB7CiAgY29uc3Qgb3V0cHV0RWxlbWVudCA9IGRvY3VtZW50LmdldEVsZW1lbnRCeUlkKG91dHB1dElkKTsKICBjb25zdCBzdGVwcyA9IG91dHB1dEVsZW1lbnQuc3RlcHM7CgogIGNvbnN0IG5leHQgPSBzdGVwcy5uZXh0KG91dHB1dEVsZW1lbnQubGFzdFByb21pc2VWYWx1ZSk7CiAgcmV0dXJuIFByb21pc2UucmVzb2x2ZShuZXh0LnZhbHVlLnByb21pc2UpLnRoZW4oKHZhbHVlKSA9PiB7CiAgICAvLyBDYWNoZSB0aGUgbGFzdCBwcm9taXNlIHZhbHVlIHRvIG1ha2UgaXQgYXZhaWxhYmxlIHRvIHRoZSBuZXh0CiAgICAvLyBzdGVwIG9mIHRoZSBnZW5lcmF0b3IuCiAgICBvdXRwdXRFbGVtZW50Lmxhc3RQcm9taXNlVmFsdWUgPSB2YWx1ZTsKICAgIHJldHVybiBuZXh0LnZhbHVlLnJlc3BvbnNlOwogIH0pOwp9CgovKioKICogR2VuZXJhdG9yIGZ1bmN0aW9uIHdoaWNoIGlzIGNhbGxlZCBiZXR3ZWVuIGVhY2ggYXN5bmMgc3RlcCBvZiB0aGUgdXBsb2FkCiAqIHByb2Nlc3MuCiAqIEBwYXJhbSB7c3RyaW5nfSBpbnB1dElkIEVsZW1lbnQgSUQgb2YgdGhlIGlucHV0IGZpbGUgcGlja2VyIGVsZW1lbnQuCiAqIEBwYXJhbSB7c3RyaW5nfSBvdXRwdXRJZCBFbGVtZW50IElEIG9mIHRoZSBvdXRwdXQgZGlzcGxheS4KICogQHJldHVybiB7IUl0ZXJhYmxlPCFPYmplY3Q+fSBJdGVyYWJsZSBvZiBuZXh0IHN0ZXBzLgogKi8KZnVuY3Rpb24qIHVwbG9hZEZpbGVzU3RlcChpbnB1dElkLCBvdXRwdXRJZCkgewogIGNvbnN0IGlucHV0RWxlbWVudCA9IGRvY3VtZW50LmdldEVsZW1lbnRCeUlkKGlucHV0SWQpOwogIGlucHV0RWxlbWVudC5kaXNhYmxlZCA9IGZhbHNlOwoKICBjb25zdCBvdXRwdXRFbGVtZW50ID0gZG9jdW1lbnQuZ2V0RWxlbWVudEJ5SWQob3V0cHV0SWQpOwogIG91dHB1dEVsZW1lbnQuaW5uZXJIVE1MID0gJyc7CgogIGNvbnN0IHBpY2tlZFByb21pc2UgPSBuZXcgUHJvbWlzZSgocmVzb2x2ZSkgPT4gewogICAgaW5wdXRFbGVtZW50LmFkZEV2ZW50TGlzdGVuZXIoJ2NoYW5nZScsIChlKSA9PiB7CiAgICAgIHJlc29sdmUoZS50YXJnZXQuZmlsZXMpOwogICAgfSk7CiAgfSk7CgogIGNvbnN0IGNhbmNlbCA9IGRvY3VtZW50LmNyZWF0ZUVsZW1lbnQoJ2J1dHRvbicpOwogIGlucHV0RWxlbWVudC5wYXJlbnRFbGVtZW50LmFwcGVuZENoaWxkKGNhbmNlbCk7CiAgY2FuY2VsLnRleHRDb250ZW50ID0gJ0NhbmNlbCB1cGxvYWQnOwogIGNvbnN0IGNhbmNlbFByb21pc2UgPSBuZXcgUHJvbWlzZSgocmVzb2x2ZSkgPT4gewogICAgY2FuY2VsLm9uY2xpY2sgPSAoKSA9PiB7CiAgICAgIHJlc29sdmUobnVsbCk7CiAgICB9OwogIH0pOwoKICAvLyBXYWl0IGZvciB0aGUgdXNlciB0byBwaWNrIHRoZSBmaWxlcy4KICBjb25zdCBmaWxlcyA9IHlpZWxkIHsKICAgIHByb21pc2U6IFByb21pc2UucmFjZShbcGlja2VkUHJvbWlzZSwgY2FuY2VsUHJvbWlzZV0pLAogICAgcmVzcG9uc2U6IHsKICAgICAgYWN0aW9uOiAnc3RhcnRpbmcnLAogICAgfQogIH07CgogIGNhbmNlbC5yZW1vdmUoKTsKCiAgLy8gRGlzYWJsZSB0aGUgaW5wdXQgZWxlbWVudCBzaW5jZSBmdXJ0aGVyIHBpY2tzIGFyZSBub3QgYWxsb3dlZC4KICBpbnB1dEVsZW1lbnQuZGlzYWJsZWQgPSB0cnVlOwoKICBpZiAoIWZpbGVzKSB7CiAgICByZXR1cm4gewogICAgICByZXNwb25zZTogewogICAgICAgIGFjdGlvbjogJ2NvbXBsZXRlJywKICAgICAgfQogICAgfTsKICB9CgogIGZvciAoY29uc3QgZmlsZSBvZiBmaWxlcykgewogICAgY29uc3QgbGkgPSBkb2N1bWVudC5jcmVhdGVFbGVtZW50KCdsaScpOwogICAgbGkuYXBwZW5kKHNwYW4oZmlsZS5uYW1lLCB7Zm9udFdlaWdodDogJ2JvbGQnfSkpOwogICAgbGkuYXBwZW5kKHNwYW4oCiAgICAgICAgYCgke2ZpbGUudHlwZSB8fCAnbi9hJ30pIC0gJHtmaWxlLnNpemV9IGJ5dGVzLCBgICsKICAgICAgICBgbGFzdCBtb2RpZmllZDogJHsKICAgICAgICAgICAgZmlsZS5sYXN0TW9kaWZpZWREYXRlID8gZmlsZS5sYXN0TW9kaWZpZWREYXRlLnRvTG9jYWxlRGF0ZVN0cmluZygpIDoKICAgICAgICAgICAgICAgICAgICAgICAgICAgICAgICAgICAgJ24vYSd9IC0gYCkpOwogICAgY29uc3QgcGVyY2VudCA9IHNwYW4oJzAlIGRvbmUnKTsKICAgIGxpLmFwcGVuZENoaWxkKHBlcmNlbnQpOwoKICAgIG91dHB1dEVsZW1lbnQuYXBwZW5kQ2hpbGQobGkpOwoKICAgIGNvbnN0IGZpbGVEYXRhUHJvbWlzZSA9IG5ldyBQcm9taXNlKChyZXNvbHZlKSA9PiB7CiAgICAgIGNvbnN0IHJlYWRlciA9IG5ldyBGaWxlUmVhZGVyKCk7CiAgICAgIHJlYWRlci5vbmxvYWQgPSAoZSkgPT4gewogICAgICAgIHJlc29sdmUoZS50YXJnZXQucmVzdWx0KTsKICAgICAgfTsKICAgICAgcmVhZGVyLnJlYWRBc0FycmF5QnVmZmVyKGZpbGUpOwogICAgfSk7CiAgICAvLyBXYWl0IGZvciB0aGUgZGF0YSB0byBiZSByZWFkeS4KICAgIGxldCBmaWxlRGF0YSA9IHlpZWxkIHsKICAgICAgcHJvbWlzZTogZmlsZURhdGFQcm9taXNlLAogICAgICByZXNwb25zZTogewogICAgICAgIGFjdGlvbjogJ2NvbnRpbnVlJywKICAgICAgfQogICAgfTsKCiAgICAvLyBVc2UgYSBjaHVua2VkIHNlbmRpbmcgdG8gYXZvaWQgbWVzc2FnZSBzaXplIGxpbWl0cy4gU2VlIGIvNjIxMTU2NjAuCiAgICBsZXQgcG9zaXRpb24gPSAwOwogICAgZG8gewogICAgICBjb25zdCBsZW5ndGggPSBNYXRoLm1pbihmaWxlRGF0YS5ieXRlTGVuZ3RoIC0gcG9zaXRpb24sIE1BWF9QQVlMT0FEX1NJWkUpOwogICAgICBjb25zdCBjaHVuayA9IG5ldyBVaW50OEFycmF5KGZpbGVEYXRhLCBwb3NpdGlvbiwgbGVuZ3RoKTsKICAgICAgcG9zaXRpb24gKz0gbGVuZ3RoOwoKICAgICAgY29uc3QgYmFzZTY0ID0gYnRvYShTdHJpbmcuZnJvbUNoYXJDb2RlLmFwcGx5KG51bGwsIGNodW5rKSk7CiAgICAgIHlpZWxkIHsKICAgICAgICByZXNwb25zZTogewogICAgICAgICAgYWN0aW9uOiAnYXBwZW5kJywKICAgICAgICAgIGZpbGU6IGZpbGUubmFtZSwKICAgICAgICAgIGRhdGE6IGJhc2U2NCwKICAgICAgICB9LAogICAgICB9OwoKICAgICAgbGV0IHBlcmNlbnREb25lID0gZmlsZURhdGEuYnl0ZUxlbmd0aCA9PT0gMCA/CiAgICAgICAgICAxMDAgOgogICAgICAgICAgTWF0aC5yb3VuZCgocG9zaXRpb24gLyBmaWxlRGF0YS5ieXRlTGVuZ3RoKSAqIDEwMCk7CiAgICAgIHBlcmNlbnQudGV4dENvbnRlbnQgPSBgJHtwZXJjZW50RG9uZX0lIGRvbmVgOwoKICAgIH0gd2hpbGUgKHBvc2l0aW9uIDwgZmlsZURhdGEuYnl0ZUxlbmd0aCk7CiAgfQoKICAvLyBBbGwgZG9uZS4KICB5aWVsZCB7CiAgICByZXNwb25zZTogewogICAgICBhY3Rpb246ICdjb21wbGV0ZScsCiAgICB9CiAgfTsKfQoKc2NvcGUuZ29vZ2xlID0gc2NvcGUuZ29vZ2xlIHx8IHt9OwpzY29wZS5nb29nbGUuY29sYWIgPSBzY29wZS5nb29nbGUuY29sYWIgfHwge307CnNjb3BlLmdvb2dsZS5jb2xhYi5fZmlsZXMgPSB7CiAgX3VwbG9hZEZpbGVzLAogIF91cGxvYWRGaWxlc0NvbnRpbnVlLAp9Owp9KShzZWxmKTsK",
       "headers": [
        [
         "content-type",
         "application/javascript"
        ]
       ],
       "ok": true,
       "status": 200,
       "status_text": ""
      }
     }
    },
    "executionInfo": {
     "elapsed": 12240,
     "status": "ok",
     "timestamp": 1624599592077,
     "user": {
      "displayName": "RockyChicken182",
      "photoUrl": "https://lh3.googleusercontent.com/a-/AOh14GiHn7vaq8S7ttcfulVDtTveJfGpbYI3y7X1MJhJsg=s64",
      "userId": "16427190797879463063"
     },
     "user_tz": -480
    },
    "id": "AYS37EhZFgI4",
    "outputId": "0fe3c7a7-631b-4735-facd-12b3e60a53e7"
   },
   "outputs": [],
   "source": [
    "rating_df = pd.read_csv('C:/Users/ryant/IT3100 Project 2/dataset_ai/userprofile_ratings.csv') "
   ]
  },
  {
   "cell_type": "markdown",
   "metadata": {
    "id": "HNayxOpOGGp7"
   },
   "source": [
    "# **Section 2 – Data Preparation**\n",
    "- ***Explain how much you understand about the data you have. Any missing fields or invalid images/text?***\n",
    "\n",
    "  >For the data preparation, I conducted Exploratory Data Analysis (EDA) on the two datasets. It is important to do EDA as it will give us insights on what kind of data are we covering.\n",
    "\n",
    "  >After conducting EDA on the datasets, I realised that I do not really have to perform any processing as they are pretty much processed with no erroneous values and no missing values. \n",
    "\n",
    "- ***Explain what you have to do to process them, or why you do not need to process them if they are already processed***\n",
    "\n",
    "  >Since there weren't any missing values or improper values, I don't really need to process them as they are already processed.\n",
    "\n",
    "  >However, I would have to perform feature extraction on \"bakeries_location.csv\" as some of the columns included in the datasets are not really needed for this model. I will be focusing on columns that are relevant and heavily used for this Jupyter Notebook. As for \"userprofile_ratings.csv\", all the columns will be used and is relevant to the models, so I don't need to perform feature extraction on \"userprofile_ratings.csv\"."
   ]
  },
  {
   "cell_type": "markdown",
   "metadata": {
    "id": "MiwDTGm3o3F7"
   },
   "source": [
    "- ***Include the codes to prepare the data for training***\n",
    "\n",
    "  >The following are steps taken to conduct the full EDA and feature extraction. Each cell has specific functions that you can see below. "
   ]
  },
  {
   "cell_type": "code",
   "execution_count": 14,
   "metadata": {
    "colab": {
     "base_uri": "https://localhost:8080/"
    },
    "executionInfo": {
     "elapsed": 20,
     "status": "ok",
     "timestamp": 1624599592078,
     "user": {
      "displayName": "RockyChicken182",
      "photoUrl": "https://lh3.googleusercontent.com/a-/AOh14GiHn7vaq8S7ttcfulVDtTveJfGpbYI3y7X1MJhJsg=s64",
      "userId": "16427190797879463063"
     },
     "user_tz": -480
    },
    "id": "blffjS7j_53s",
    "outputId": "20c7643e-a536-4cc4-84a1-7850af5c9c86"
   },
   "outputs": [
    {
     "name": "stdout",
     "output_type": "stream",
     "text": [
      "Unique users:  150\n",
      "Unique restaurant:  130\n",
      "Total no.of ratings given:  999\n"
     ]
    }
   ],
   "source": [
    "#No.of unique users, restaurants, no. of ratings\n",
    "print('Unique users: ', rating_df['userID'].nunique())\n",
    "print('Unique restaurant: ', rating_df['placeID'].nunique())\n",
    "print('Total no.of ratings given: ', rating_df['rating'].count())"
   ]
  },
  {
   "cell_type": "code",
   "execution_count": 15,
   "metadata": {
    "colab": {
     "base_uri": "https://localhost:8080/"
    },
    "executionInfo": {
     "elapsed": 19,
     "status": "ok",
     "timestamp": 1624599592079,
     "user": {
      "displayName": "RockyChicken182",
      "photoUrl": "https://lh3.googleusercontent.com/a-/AOh14GiHn7vaq8S7ttcfulVDtTveJfGpbYI3y7X1MJhJsg=s64",
      "userId": "16427190797879463063"
     },
     "user_tz": -480
    },
    "id": "OKGUzYJBAfG-",
    "outputId": "92882259-a0ce-4c52-8011-d6656e017239"
   },
   "outputs": [
    {
     "data": {
      "text/plain": [
       "123    13\n",
       "35     13\n",
       "137    12\n",
       "21     12\n",
       "119    12\n",
       "       ..\n",
       "139     3\n",
       "109     2\n",
       "105     2\n",
       "114     2\n",
       "112     2\n",
       "Name: userID, Length: 150, dtype: int64"
      ]
     },
     "execution_count": 15,
     "metadata": {},
     "output_type": "execute_result"
    }
   ],
   "source": [
    "# How many times has a user rated\n",
    "most_rated_users = rating_df['userID'].value_counts()\n",
    "most_rated_users"
   ]
  },
  {
   "cell_type": "code",
   "execution_count": 16,
   "metadata": {
    "colab": {
     "base_uri": "https://localhost:8080/"
    },
    "executionInfo": {
     "elapsed": 11,
     "status": "ok",
     "timestamp": 1624599592079,
     "user": {
      "displayName": "RockyChicken182",
      "photoUrl": "https://lh3.googleusercontent.com/a-/AOh14GiHn7vaq8S7ttcfulVDtTveJfGpbYI3y7X1MJhJsg=s64",
      "userId": "16427190797879463063"
     },
     "user_tz": -480
    },
    "id": "PuJt9ztfAhpI",
    "outputId": "21995a81-3cdc-4f04-a2b2-541f928b6fdf"
   },
   "outputs": [
    {
     "data": {
      "text/plain": [
       "122    34\n",
       "2      29\n",
       "120    27\n",
       "61     24\n",
       "81     24\n",
       "       ..\n",
       "84      2\n",
       "124     1\n",
       "90      1\n",
       "104     1\n",
       "28      1\n",
       "Name: placeID, Length: 130, dtype: int64"
      ]
     },
     "execution_count": 16,
     "metadata": {},
     "output_type": "execute_result"
    }
   ],
   "source": [
    "#How many times has a bakery been rated\n",
    "most_rated_restaurants = rating_df['placeID'].value_counts()\n",
    "most_rated_restaurants"
   ]
  },
  {
   "cell_type": "code",
   "execution_count": 17,
   "metadata": {
    "colab": {
     "base_uri": "https://localhost:8080/",
     "height": 407
    },
    "executionInfo": {
     "elapsed": 742,
     "status": "ok",
     "timestamp": 1624599592811,
     "user": {
      "displayName": "RockyChicken182",
      "photoUrl": "https://lh3.googleusercontent.com/a-/AOh14GiHn7vaq8S7ttcfulVDtTveJfGpbYI3y7X1MJhJsg=s64",
      "userId": "16427190797879463063"
     },
     "user_tz": -480
    },
    "id": "9Jh24ykvF-6J",
    "outputId": "e73aed96-e801-4301-d501-d834dec8f29a"
   },
   "outputs": [
    {
     "name": "stderr",
     "output_type": "stream",
     "text": [
      "C:\\Users\\ryant\\anaconda3\\lib\\site-packages\\seaborn\\_decorators.py:36: FutureWarning: Pass the following variable as a keyword arg: x. From version 0.12, the only valid positional argument will be `data`, and passing other arguments without an explicit keyword will result in an error or misinterpretation.\n",
      "  warnings.warn(\n"
     ]
    },
    {
     "data": {
      "text/plain": [
       "<AxesSubplot:xlabel='rating', ylabel='count'>"
      ]
     },
     "execution_count": 17,
     "metadata": {},
     "output_type": "execute_result"
    },
    {
     "data": {
      "image/png": "[encoded data removed]",
      "text/plain": [
       "<Figure size 576x360 with 1 Axes>"
      ]
     },
     "metadata": {
      "needs_background": "light"
     },
     "output_type": "display_data"
    }
   ],
   "source": [
    "#What's the rating distribution among all users\n",
    "import matplotlib.pyplot as plt\n",
    "%matplotlib inline\n",
    "import seaborn as sns\n",
    "\n",
    "plt.figure(figsize = (8,5))\n",
    "sns.countplot(rating_df['rating'])"
   ]
  },
  {
   "cell_type": "code",
   "execution_count": 18,
   "metadata": {
    "colab": {
     "base_uri": "https://localhost:8080/"
    },
    "executionInfo": {
     "elapsed": 12,
     "status": "ok",
     "timestamp": 1624599592812,
     "user": {
      "displayName": "RockyChicken182",
      "photoUrl": "https://lh3.googleusercontent.com/a-/AOh14GiHn7vaq8S7ttcfulVDtTveJfGpbYI3y7X1MJhJsg=s64",
      "userId": "16427190797879463063"
     },
     "user_tz": -480
    },
    "id": "NpNhjuvn1vTu",
    "outputId": "37ee4036-0e96-4e4c-c32f-1a12175d3272"
   },
   "outputs": [
    {
     "data": {
      "text/plain": [
       "Muffins         13\n",
       "Croissants      10\n",
       "Cakes           10\n",
       "Swiss Rolls      9\n",
       "Kringles         9\n",
       "Tarts            9\n",
       "Curry Puffs      9\n",
       "Cupcakes         8\n",
       "Cookies          8\n",
       "Strudels         8\n",
       "Sandwiches       7\n",
       "Baos             7\n",
       "Baked Pizzas     6\n",
       "Doughnuts        6\n",
       "Taiyakis         5\n",
       "Bagels           3\n",
       "Pies             2\n",
       "E-Clairs         1\n",
       "Name: types_of_bread, dtype: int64"
      ]
     },
     "execution_count": 18,
     "metadata": {},
     "output_type": "execute_result"
    }
   ],
   "source": [
    "#Amount of bakeries that sells different types of bread\n",
    "bakery_df['types_of_bread'].value_counts()"
   ]
  },
  {
   "cell_type": "code",
   "execution_count": 19,
   "metadata": {
    "colab": {
     "base_uri": "https://localhost:8080/"
    },
    "executionInfo": {
     "elapsed": 10,
     "status": "ok",
     "timestamp": 1624599592812,
     "user": {
      "displayName": "RockyChicken182",
      "photoUrl": "https://lh3.googleusercontent.com/a-/AOh14GiHn7vaq8S7ttcfulVDtTveJfGpbYI3y7X1MJhJsg=s64",
      "userId": "16427190797879463063"
     },
     "user_tz": -480
    },
    "id": "lXOy6iRopYbx",
    "outputId": "8d5ed07f-ee02-4dcd-d25f-1440b5195b07"
   },
   "outputs": [
    {
     "data": {
      "text/plain": [
       "0"
      ]
     },
     "execution_count": 19,
     "metadata": {},
     "output_type": "execute_result"
    }
   ],
   "source": [
    "#Amount of missing values in rating_df\n",
    "rating_df.isnull().sum().sum()"
   ]
  },
  {
   "cell_type": "code",
   "execution_count": 20,
   "metadata": {
    "colab": {
     "base_uri": "https://localhost:8080/"
    },
    "executionInfo": {
     "elapsed": 9,
     "status": "ok",
     "timestamp": 1624599592812,
     "user": {
      "displayName": "RockyChicken182",
      "photoUrl": "https://lh3.googleusercontent.com/a-/AOh14GiHn7vaq8S7ttcfulVDtTveJfGpbYI3y7X1MJhJsg=s64",
      "userId": "16427190797879463063"
     },
     "user_tz": -480
    },
    "id": "LVWifS0FsWYO",
    "outputId": "827994e2-3864-41db-aee7-b07ff8782c3f"
   },
   "outputs": [
    {
     "data": {
      "text/plain": [
       "0"
      ]
     },
     "execution_count": 20,
     "metadata": {},
     "output_type": "execute_result"
    }
   ],
   "source": [
    "#Amount of missing values in visited_df\n",
    "bakery_df.isnull().sum().sum()"
   ]
  },
  {
   "cell_type": "code",
   "execution_count": 21,
   "metadata": {
    "id": "oOSzeKmUCzFn"
   },
   "outputs": [],
   "source": [
    "#Performing feature extraction #1 on bakeries.location.csv\n",
    "bakery_df1 = bakery_df[['placeID','name','types_of_bread']]"
   ]
  },
  {
   "cell_type": "code",
   "execution_count": 23,
   "metadata": {
    "id": "kTWxLE6XDC0C"
   },
   "outputs": [],
   "source": [
    "#Performing feature extraction #2 on bakeries.location.csv\n",
    "bakery_df2 = pd.read_csv('C:/Users/ryant/IT3100 Project 2/dataset_ai/bakeries_location.csv', index_col='placeID')"
   ]
  },
  {
   "cell_type": "markdown",
   "metadata": {
    "id": "UHgMyJaNi4au"
   },
   "source": [
    "# **Section 3 – Model Training and Experiments**\n",
    "- ***Explain your choice for the Machine Learning / Deep Learning model*** \n",
    "  >- **Low Rank Matrix Factorization** for multiplying user features and product features. This is pretty tedious to come up with, so I took reference from a BlackBoard link that provides some guides and steps in creating a rating-based model. \n",
    "  https://www.linkedin.com/learning/machine-learning-and-ai-foundations-recommendations/welcome?u=42278049\n",
    "  >- **Singular Value Decomposition (SVD)** for multiplying user features and product features. It is almost the same as Normal Matrix Factorization, but it doesn't include any hyper-parameters that can tune.\n"
   ]
  },
  {
   "cell_type": "markdown",
   "metadata": {
    "id": "Ql7KCya2x-VK"
   },
   "source": [
    "- ***Include the codes to conduct your experiment(s) and choose the appropriate metrics to see if your model is performing well on the training & validation datasets.***\n",
    ">- Success metrics for Collaborative Filtering include \n",
    "    - Root Mean Square Error **(RMSE)**\n",
    "- ***Make sure that your experiment outputs remain visible in your Notebook submission***"
   ]
  },
  {
   "cell_type": "markdown",
   "metadata": {
    "id": "6zSsDfACPDc1"
   },
   "source": [
    "### **Section 3.1- Training/Evaluating Low Rank Matrix Factorization for Ratings-Based Recommendation System**\n",
    "  > For the Low Rank Matrix Factorization model, it uses number of features and regularization amount for hyper-parameters that can be fine-tuned, then multiplies user features and bakery features together to provide a simple ratings-based recommendation system that filters based on similar bakeries and based on user ratings.\n",
    "\n",
    "Reasons to choose Low Rank Matrix Factorization\n",
    "- Quick calculation time\n",
    "- Able to fine-tune model with given hyper-parameters to improve accuracy\n",
    "- Simple algorithm – to interpret \n",
    "\n"
   ]
  },
  {
   "cell_type": "markdown",
   "metadata": {
    "id": "ovD2zox6na2p"
   },
   "source": [
    "> For the following cell blocks, it will convert user ratings into a matrix form that is going to be used for training."
   ]
  },
  {
   "cell_type": "code",
   "execution_count": 24,
   "metadata": {
    "colab": {
     "base_uri": "https://localhost:8080/"
    },
    "executionInfo": {
     "elapsed": 8,
     "status": "ok",
     "timestamp": 1624599592813,
     "user": {
      "displayName": "RockyChicken182",
      "photoUrl": "https://lh3.googleusercontent.com/a-/AOh14GiHn7vaq8S7ttcfulVDtTveJfGpbYI3y7X1MJhJsg=s64",
      "userId": "16427190797879463063"
     },
     "user_tz": -480
    },
    "id": "LyX2veFsZt28",
    "outputId": "a414fb36-77b1-40f1-83d1-166cd0ff42f0"
   },
   "outputs": [
    {
     "data": {
      "text/plain": [
       "True"
      ]
     },
     "execution_count": 24,
     "metadata": {},
     "output_type": "execute_result"
    }
   ],
   "source": [
    "# Create a web page view of the data for easy viewing\n",
    "html = rating_df[0:100].to_html()\n",
    "\n",
    "# Save the html to a temporary file\n",
    "with open(\"data.html\", \"w\") as f:\n",
    "    f.write(html)\n",
    "\n",
    "# Open the web page in our web browser\n",
    "full_filename = os.path.abspath(\"data.html\")\n",
    "webbrowser.open(\"file://{}\".format(full_filename))\n"
   ]
  },
  {
   "cell_type": "code",
   "execution_count": 25,
   "metadata": {
    "colab": {
     "base_uri": "https://localhost:8080/"
    },
    "executionInfo": {
     "elapsed": 8,
     "status": "ok",
     "timestamp": 1624599592814,
     "user": {
      "displayName": "RockyChicken182",
      "photoUrl": "https://lh3.googleusercontent.com/a-/AOh14GiHn7vaq8S7ttcfulVDtTveJfGpbYI3y7X1MJhJsg=s64",
      "userId": "16427190797879463063"
     },
     "user_tz": -480
    },
    "id": "JiSEAjCVZ5FX",
    "outputId": "a3bdde53-9252-4e5c-9ff2-377347e9387a"
   },
   "outputs": [
    {
     "data": {
      "text/plain": [
       "True"
      ]
     },
     "execution_count": 25,
     "metadata": {},
     "output_type": "execute_result"
    }
   ],
   "source": [
    "# Convert the running list of user ratings into a matrix using the 'pivot table' function\n",
    "ratings_df = pd.pivot_table(rating_df, index='userID', columns='placeID', aggfunc=np.max).fillna(0)\n",
    "\n",
    "# Create a web page view of the data for easy viewing\n",
    "html = ratings_df.to_html(na_rep=\"\")\n",
    "\n",
    "# Save the html to a temporary file\n",
    "with open(\"review_matrix.html\", \"w\") as f:\n",
    "    f.write(html)\n",
    "\n",
    "# Open the web page in our web browser\n",
    "full_filename = os.path.abspath(\"review_matrix.html\")\n",
    "webbrowser.open(\"file://{}\".format(full_filename))"
   ]
  },
  {
   "cell_type": "code",
   "execution_count": 26,
   "metadata": {
    "id": "nbJn1dcBa8rK"
   },
   "outputs": [],
   "source": [
    "# Convert the running list of user ratings into a matrix using the 'pivot table' function\n",
    "ratings_df = pd.pivot_table(rating_df, index='userID', columns='placeID', aggfunc=np.max).fillna(0)\n",
    "\n",
    "# Create a csv file of the data for easy viewing\n",
    "ratings_df.to_csv(\"review_matrix.csv\", na_rep=\"\")"
   ]
  },
  {
   "cell_type": "markdown",
   "metadata": {
    "id": "ktm_NG3int37"
   },
   "source": [
    "> For this cell block, it creates multiple functions which includes the Low Rank Matrix Factorization and RMSE."
   ]
  },
  {
   "cell_type": "code",
   "execution_count": 27,
   "metadata": {
    "id": "ZovjuVdabC2r"
   },
   "outputs": [],
   "source": [
    "def normalize_ratings(ratings):\n",
    "    \"\"\"\n",
    "    Given an array of user ratings, subtract the mean of each product's ratings\n",
    "    :param ratings: 2d array of user ratings\n",
    "    :return: (normalized ratings array, the calculated means)\n",
    "    \"\"\"\n",
    "    mean_ratings = np.nanmean(ratings, axis=0)\n",
    "    return ratings - mean_ratings, mean_ratings\n",
    "\n",
    "\n",
    "def cost(X, *args):\n",
    "    \"\"\"\n",
    "    Cost function for low rank matrix factorization\n",
    "    :param X: The matrices being factored (P and Q) rolled up as a contiguous array\n",
    "    :param args: Array containing (num_users, num_products, num_features, ratings, mask, regularization_amount)\n",
    "    :return: The cost with the current P and Q matrices\n",
    "    \"\"\"\n",
    "    num_users, num_products, num_features, ratings, mask, regularization_amount = args\n",
    "\n",
    "    # Unroll P and Q\n",
    "    P = X[0:(num_users * num_features)].reshape(num_users, num_features)\n",
    "    Q = X[(num_users * num_features):].reshape(num_products, num_features)\n",
    "    Q = Q.T\n",
    "\n",
    "    # Calculate current cost\n",
    "    return (np.sum(np.square(mask * (np.dot(P, Q) - ratings))) / 2) + ((regularization_amount / 2.0) * np.sum(np.square(Q.T))) + ((regularization_amount / 2.0) * np.sum(np.square(P)))\n",
    "\n",
    "def gradient(X, *args):\n",
    "    \"\"\"\n",
    "    Calculate the cost gradients with the current P and Q.\n",
    "    :param X: The matrices being factored (P and Q) rolled up as a contiguous array\n",
    "    :param args: Array containing (num_users, num_products, num_features, ratings, mask, regularization_amount)\n",
    "    :return: The gradient with the current X\n",
    "    \"\"\"\n",
    "    num_users, num_products, num_features, ratings, mask, regularization_amount = args\n",
    "\n",
    "    # Unroll P and Q\n",
    "    P = X[0:(num_users * num_features)].reshape(num_users, num_features)\n",
    "    Q = X[(num_users * num_features):].reshape(num_products, num_features)\n",
    "    Q = Q.T\n",
    "\n",
    "    # Calculate the current gradients for both P and Q\n",
    "    P_grad = np.dot((mask * (np.dot(P, Q) - ratings)), Q.T) + (regularization_amount * P)\n",
    "    Q_grad = np.dot((mask * (np.dot(P, Q) - ratings)).T, P) + (regularization_amount * Q.T)\n",
    "\n",
    "    # Return the gradients as one rolled-up array as expected by fmin_cg\n",
    "    return np.append(P_grad.ravel(), Q_grad.ravel())\n",
    "\n",
    "def low_rank_matrix_factorization(ratings, mask=None, num_features=18, regularization_amount=0.01):\n",
    "    \"\"\"\n",
    "    Factor a ratings array into two latent feature arrays (user features and product features)\n",
    "\n",
    "    :param ratings: Matrix with user ratings to factor\n",
    "    :param mask: A binary mask of which ratings are present in the ratings array to factor\n",
    "    :param num_features: Number of latent features to generate for users and products\n",
    "    :param regularization_amount: How much regularization to apply\n",
    "    :return: (P, Q) - the factored latent feature arrays\n",
    "    \"\"\"\n",
    "    num_users, num_products = ratings.shape\n",
    "\n",
    "    # If no mask is provided, consider all 'NaN' elements as missing and create a mask.\n",
    "    if mask is None:\n",
    "        mask = np.invert(np.isnan(ratings))\n",
    "\n",
    "    # Replace NaN values with zero\n",
    "    ratings = np.nan_to_num(ratings)\n",
    "\n",
    "    # Create P and Q and fill with random numbers to start\n",
    "    np.random.seed(0)\n",
    "    P = np.random.randn(num_users, num_features)\n",
    "    Q = np.random.randn(num_products, num_features)\n",
    "\n",
    "    # Roll up P and Q into a contiguous array as fmin_cg expects\n",
    "    initial = np.append(P.ravel(), Q.ravel())\n",
    "\n",
    "    # Create an args array as fmin_cg expects\n",
    "    args = (num_users, num_products, num_features, ratings, mask, regularization_amount)\n",
    "\n",
    "    # Call fmin_cg to minimize the cost function and this find the best values for P and Q\n",
    "    X = fmin_cg(cost, initial, fprime=gradient, args=args, maxiter=3000)\n",
    "\n",
    "    # Unroll the new P and new Q arrays out of the contiguous array returned by fmin_cg\n",
    "    nP = X[0:(num_users * num_features)].reshape(num_users, num_features)\n",
    "    nQ = X[(num_users * num_features):].reshape(num_products, num_features)\n",
    "\n",
    "    return nP, nQ.T\n",
    "\n",
    "\n",
    "def RMSE(real, predicted):\n",
    "    \"\"\"\n",
    "    Calculate the root mean squared error between a matrix of real ratings and predicted ratings\n",
    "    :param real: A matrix containing the real ratings (with 'NaN' for any missing elements)\n",
    "    :param predicted: A matrix of predictions\n",
    "    :return: The RMSE as a float\n",
    "    \"\"\"\n",
    "    return np.sqrt(np.nanmean(np.square(real - predicted)))"
   ]
  },
  {
   "cell_type": "markdown",
   "metadata": {
    "id": "nHHlyUXJolg2"
   },
   "source": [
    "> After creating the above functions, we are able to call the functions, especially the Low Rank Matrix Factorization function, to perform our training."
   ]
  },
  {
   "cell_type": "code",
   "execution_count": 28,
   "metadata": {
    "colab": {
     "base_uri": "https://localhost:8080/"
    },
    "executionInfo": {
     "elapsed": 450,
     "status": "ok",
     "timestamp": 1624600904078,
     "user": {
      "displayName": "RockyChicken182",
      "photoUrl": "https://lh3.googleusercontent.com/a-/AOh14GiHn7vaq8S7ttcfulVDtTveJfGpbYI3y7X1MJhJsg=s64",
      "userId": "16427190797879463063"
     },
     "user_tz": -480
    },
    "id": "8ZK6c8keb7lQ",
    "outputId": "ac671e3e-e9f2-40e9-c426-6e4caacbb2a2"
   },
   "outputs": [
    {
     "name": "stdout",
     "output_type": "stream",
     "text": [
      "Optimization terminated successfully.\n",
      "         Current function value: 8063.151412\n",
      "         Iterations: 182\n",
      "         Function evaluations: 317\n",
      "         Gradient evaluations: 317\n"
     ]
    }
   ],
   "source": [
    "# Convert the running list of user ratings into a matrix\n",
    "ratings_df = pd.pivot_table(rating_df, index='userID', columns='placeID', aggfunc=np.max).fillna(0)\n",
    "\n",
    "# Apply matrix factorization to find the latent features\n",
    "U, M = low_rank_matrix_factorization(ratings_df.values,\n",
    "       num_features=1,\n",
    "       regularization_amount=0.01)\n",
    "\n",
    "# Find all predicted ratings by multiplying the U by M\n",
    "predicted_ratings = np.matmul(U, M)\n",
    "\n",
    "# Save all the ratings to a csv file\n",
    "predicted_ratings_df = pd.DataFrame(index=ratings_df.index,\n",
    "                                    columns=ratings_df.columns,\n",
    "                                    data=predicted_ratings)\n",
    "predicted_ratings_df.to_csv(\"predicted_ratings.csv\")\n"
   ]
  },
  {
   "cell_type": "code",
   "execution_count": 29,
   "metadata": {
    "colab": {
     "base_uri": "https://localhost:8080/"
    },
    "executionInfo": {
     "elapsed": 5116,
     "status": "ok",
     "timestamp": 1624600954271,
     "user": {
      "displayName": "RockyChicken182",
      "photoUrl": "https://lh3.googleusercontent.com/a-/AOh14GiHn7vaq8S7ttcfulVDtTveJfGpbYI3y7X1MJhJsg=s64",
      "userId": "16427190797879463063"
     },
     "user_tz": -480
    },
    "id": "-1gWP4LscD4W",
    "outputId": "906abe0e-6fef-4a28-d8a9-85ebf4c0ccfc"
   },
   "outputs": [
    {
     "name": "stdout",
     "output_type": "stream",
     "text": [
      "Warning: Maximum number of iterations has been exceeded.\n",
      "         Current function value: 7.243274\n",
      "         Iterations: 3000\n",
      "         Function evaluations: 4513\n",
      "         Gradient evaluations: 4513\n",
      "We are finding bakeries simi lar to this bakery:\n",
      "Bakery Name: 129\n",
      "Types of bread sold: Pies\n",
      "The attributes for this bakery are:\n",
      "[-0.13062574  0.17568354  1.11860237 -0.49910325  0.1981651  -0.34950016\n",
      " -0.88907546 -0.29170962 -1.06278798  0.99568884  0.25944475 -0.05501121\n",
      "  0.4586749   0.1095341  -0.43058347 -0.29420098  0.45343543 -0.77776979]\n",
      "The five most similar bakeries are:\n",
      "                            name types_of_bread  difference_score\n",
      "128  Restaurant Bar Coty y Pablo       Strudels          0.000000\n",
      "0                Kiku Cuernavaca         Bagels          4.213110\n",
      "107                      Log Yin    Swiss Rolls          4.359600\n",
      "24                     Giovannis     Sandwiches          4.412562\n",
      "48                          Vips          Cakes          4.941174\n"
     ]
    },
    {
     "name": "stderr",
     "output_type": "stream",
     "text": [
      "<ipython-input-29-bb2877d8d312>:40: SettingWithCopyWarning: \n",
      "A value is trying to be set on a copy of a slice from a DataFrame.\n",
      "Try using .loc[row_indexer,col_indexer] = value instead\n",
      "\n",
      "See the caveats in the documentation: https://pandas.pydata.org/pandas-docs/stable/user_guide/indexing.html#returning-a-view-versus-a-copy\n",
      "  bakery_df1['difference_score'] = total_difference\n"
     ]
    }
   ],
   "source": [
    "# Convert the running list of user ratings into a matrix\n",
    "ratings_df = pd.pivot_table(rating_df, index='userID', columns='placeID', aggfunc=np.max)\n",
    "\n",
    "# Apply matrix factorization to find the latent features\n",
    "U, M = low_rank_matrix_factorization(ratings_df.values,\n",
    "                                     num_features=18,\n",
    "                                     regularization_amount=0.01)\n",
    "\n",
    "# Swap the rows and columns of product_features just so it's easier to work with\n",
    "M = np.transpose(M)\n",
    "\n",
    "# Choose a bakery to find similar bakeries to. Let's find bakery similar to bakery_id #129:\n",
    "bakery_id = 129\n",
    "\n",
    "# Get bakery_id #129's name and type of bread they sell\n",
    "bakery_information = bakery_df1.iloc[bakery_id]\n",
    "\n",
    "print(\"We are finding bakeries simi lar to this bakery:\")\n",
    "print(\"Bakery Name: {}\".format(bakery_information.name))\n",
    "print(\"Types of bread sold: {}\".format(bakery_information.types_of_bread))\n",
    "\n",
    "# Get the features for bakery_id #129 we found via matrix factorization\n",
    "current_bakery_features = M[bakery_id - 1]\n",
    "\n",
    "print(\"The attributes for this bakery are:\")\n",
    "print(current_bakery_features)\n",
    "\n",
    "# The main logic for finding similar movies:\n",
    "\n",
    "# 1. Subtract the current bakery's features from every other bakery's features\n",
    "difference = M - current_bakery_features\n",
    "\n",
    "# 2. Take the absolute value of that difference (so all numbers are positive)\n",
    "absolute_difference = np.abs(difference)\n",
    "\n",
    "# 3. Each bakery has 18 features. Sum those 18 features to get a total 'difference score' for each bakery\n",
    "total_difference = np.sum(absolute_difference, axis=1)\n",
    "\n",
    "# 4. Create a new column in the bakery list with the difference score for each bakery\n",
    "bakery_df1['difference_score'] = total_difference\n",
    "\n",
    "# 5. Sort the bakery list by difference score, from least different to most different\n",
    "sorted_bakery_list = bakery_df1.sort_values('difference_score')\n",
    "\n",
    "# 6. Print the result, showing the 5 most similar bakeries to bakery_id #129\n",
    "print(\"The five most similar bakeries are:\")\n",
    "print(sorted_bakery_list[['name','types_of_bread', 'difference_score']][0:5])"
   ]
  },
  {
   "cell_type": "code",
   "execution_count": 31,
   "metadata": {
    "colab": {
     "base_uri": "https://localhost:8080/"
    },
    "executionInfo": {
     "elapsed": 8419,
     "status": "ok",
     "timestamp": 1624599606296,
     "user": {
      "displayName": "RockyChicken182",
      "photoUrl": "https://lh3.googleusercontent.com/a-/AOh14GiHn7vaq8S7ttcfulVDtTveJfGpbYI3y7X1MJhJsg=s64",
      "userId": "16427190797879463063"
     },
     "user_tz": -480
    },
    "id": "TzzAz9tNZc1u",
    "outputId": "3107da4c-9da3-4dec-d27c-e4478edf8c6a"
   },
   "outputs": [
    {
     "name": "stdout",
     "output_type": "stream",
     "text": [
      "Optimization terminated successfully.\n",
      "         Current function value: 4092.856670\n",
      "         Iterations: 818\n",
      "         Function evaluations: 1220\n",
      "         Gradient evaluations: 1220\n",
      "Enter a user_id to get recommendations (Between 1 and 150):\n",
      "34\n",
      "Bakeries previously reviewed by user_id 34:\n",
      "                                     name types_of_bread  rating\n",
      "230           Restaurant Oriental Express         Bagels       5\n",
      "231                Restaurante la Cantina        Cookies       5\n",
      "232      Restaurante y Pescaderia Tampico       Kringles       5\n",
      "233                        Restaurante 75        Cookies       5\n",
      "234                    Restaurante Guerra    Curry Puffs       5\n",
      "235  Swiss Rolls y Restaurant El Pacifico       Cupcakes       3\n",
      "236                               El Club      Doughnuts       4\n",
      "Press enter to continue.\n",
      "Movies we will recommend:\n",
      "                           name types_of_bread    rating\n",
      "placeID                                                 \n",
      "122      Tortas Locas Hipocampo    Swiss Rolls  1.174744\n",
      "2               puesto de tacos          Cakes  0.934757\n",
      "61        Restaurant la Chalita    Swiss Rolls  0.833453\n",
      "66       La Cantina Restaurante    Swiss Rolls  0.794364\n",
      "81          Gorditas Doa Gloria     Sandwiches  0.752750\n"
     ]
    }
   ],
   "source": [
    "# Convert the running list of user ratings into a matrix\n",
    "ratings_df = pd.pivot_table(rating_df, index='userID', columns='placeID', aggfunc=np.max).fillna(0)\n",
    "\n",
    "# Apply matrix factorization to find the latent features\n",
    "U, M = low_rank_matrix_factorization(ratings_df.values,\n",
    "       num_features=18,\n",
    "       regularization_amount=0.01)\n",
    "\n",
    "print(\"Enter a user_id to get recommendations (Between 1 and 150):\")\n",
    "user_id_to_search = int(input())\n",
    "\n",
    "print(\"Bakeries previously reviewed by user_id {}:\".format(user_id_to_search))\n",
    "\n",
    "reviewed_bakery_df = rating_df[rating_df['userID'] == user_id_to_search]\n",
    "reviewed_bakery_df = reviewed_bakery_df.join(bakery_df2, on='placeID')\n",
    "\n",
    "print(reviewed_bakery_df[['name', 'types_of_bread', 'rating']])\n",
    "\n",
    "input(\"Press enter to continue.\")\n",
    "\n",
    "print(\"Movies we will recommend:\")\n",
    "\n",
    "user_ratings = predicted_ratings[user_id_to_search - 1]\n",
    "bakery_df2['rating'] = user_ratings\n",
    "\n",
    "already_reviewed = reviewed_bakery_df['placeID']\n",
    "recommended_df = bakery_df2[bakery_df2.index.isin(already_reviewed) == False]\n",
    "recommended_df = recommended_df.sort_values(by=['rating'], ascending=False)\n",
    "\n",
    "print(recommended_df[['name', 'types_of_bread', 'rating']].head(5))"
   ]
  },
  {
   "cell_type": "markdown",
   "metadata": {
    "id": "PCdeQbH0qBmy"
   },
   "source": [
    "> Based on the results and testing different placeIDs and userIDs, it does not look really good, with bakeries selling Pies not recommending other bakeries that sells Pies as well. And even though userID 45 gave a bakery that sells curry puffs a 5, it does not seem to recommend other bakeries that sells curry puffs as well. Either way, we will move on to calculating the RMSE. "
   ]
  },
  {
   "cell_type": "markdown",
   "metadata": {
    "id": "r57NaplsgC21"
   },
   "source": [
    "> For calculating the RMSE, we will need to split the ratings data into 3 different datasets: train, test and validation. Since it will not accept incompatible shapes later in the model, I have set to have all the same shapes for the 3 datasets that we are going to be splitting. However, these training and test datasets that was splitted up will be used for calculating the RMSE later on for the first experiment model , and not for training the model.  "
   ]
  },
  {
   "cell_type": "code",
   "execution_count": 32,
   "metadata": {
    "id": "UEqsbd9ycqEl"
   },
   "outputs": [],
   "source": [
    "# Splitting up the dataset \n",
    "from sklearn.model_selection import train_test_split\n",
    "train, test_and_validate= train_test_split(rating_df,test_size=0.50,random_state=42)"
   ]
  },
  {
   "cell_type": "code",
   "execution_count": 33,
   "metadata": {
    "id": "NsPV9-UuSbyX"
   },
   "outputs": [],
   "source": [
    "test , validate= train_test_split(rating_df,test_size=0.50,random_state=42)"
   ]
  },
  {
   "cell_type": "code",
   "execution_count": 34,
   "metadata": {
    "colab": {
     "base_uri": "https://localhost:8080/"
    },
    "executionInfo": {
     "elapsed": 10,
     "status": "ok",
     "timestamp": 1624599606299,
     "user": {
      "displayName": "RockyChicken182",
      "photoUrl": "https://lh3.googleusercontent.com/a-/AOh14GiHn7vaq8S7ttcfulVDtTveJfGpbYI3y7X1MJhJsg=s64",
      "userId": "16427190797879463063"
     },
     "user_tz": -480
    },
    "id": "PUzAB1Y8c2NZ",
    "outputId": "51c8a3da-b2f3-479b-b544-4df04e5c426f"
   },
   "outputs": [
    {
     "name": "stdout",
     "output_type": "stream",
     "text": [
      "(499, 3)\n",
      "(499, 3)\n",
      "(500, 3)\n"
     ]
    }
   ],
   "source": [
    "print(train.shape)\n",
    "print(test.shape)\n",
    "print(validate.shape)"
   ]
  },
  {
   "cell_type": "code",
   "execution_count": 35,
   "metadata": {
    "colab": {
     "base_uri": "https://localhost:8080/",
     "height": 202
    },
    "executionInfo": {
     "elapsed": 8,
     "status": "ok",
     "timestamp": 1624599606299,
     "user": {
      "displayName": "RockyChicken182",
      "photoUrl": "https://lh3.googleusercontent.com/a-/AOh14GiHn7vaq8S7ttcfulVDtTveJfGpbYI3y7X1MJhJsg=s64",
      "userId": "16427190797879463063"
     },
     "user_tz": -480
    },
    "id": "3cVBJs4qc4PZ",
    "outputId": "c47e8e07-d777-4dac-c84d-f4b22af4a0aa"
   },
   "outputs": [
    {
     "data": {
      "text/html": [
       "<div>\n",
       "<style scoped>\n",
       "    .dataframe tbody tr th:only-of-type {\n",
       "        vertical-align: middle;\n",
       "    }\n",
       "\n",
       "    .dataframe tbody tr th {\n",
       "        vertical-align: top;\n",
       "    }\n",
       "\n",
       "    .dataframe thead th {\n",
       "        text-align: right;\n",
       "    }\n",
       "</style>\n",
       "<table border=\"1\" class=\"dataframe\">\n",
       "  <thead>\n",
       "    <tr style=\"text-align: right;\">\n",
       "      <th></th>\n",
       "      <th>userID</th>\n",
       "      <th>placeID</th>\n",
       "      <th>rating</th>\n",
       "    </tr>\n",
       "  </thead>\n",
       "  <tbody>\n",
       "    <tr>\n",
       "      <th>395</th>\n",
       "      <td>58</td>\n",
       "      <td>106</td>\n",
       "      <td>3</td>\n",
       "    </tr>\n",
       "    <tr>\n",
       "      <th>675</th>\n",
       "      <td>100</td>\n",
       "      <td>130</td>\n",
       "      <td>1</td>\n",
       "    </tr>\n",
       "    <tr>\n",
       "      <th>792</th>\n",
       "      <td>121</td>\n",
       "      <td>38</td>\n",
       "      <td>5</td>\n",
       "    </tr>\n",
       "    <tr>\n",
       "      <th>959</th>\n",
       "      <td>144</td>\n",
       "      <td>15</td>\n",
       "      <td>1</td>\n",
       "    </tr>\n",
       "    <tr>\n",
       "      <th>734</th>\n",
       "      <td>110</td>\n",
       "      <td>93</td>\n",
       "      <td>5</td>\n",
       "    </tr>\n",
       "  </tbody>\n",
       "</table>\n",
       "</div>"
      ],
      "text/plain": [
       "     userID  placeID  rating\n",
       "395      58      106       3\n",
       "675     100      130       1\n",
       "792     121       38       5\n",
       "959     144       15       1\n",
       "734     110       93       5"
      ]
     },
     "execution_count": 35,
     "metadata": {},
     "output_type": "execute_result"
    }
   ],
   "source": [
    "train.head()"
   ]
  },
  {
   "cell_type": "code",
   "execution_count": 36,
   "metadata": {
    "id": "LpA91pPPc5_T"
   },
   "outputs": [],
   "source": [
    "train.to_csv(\"bakery_ratings_data_set_training.csv\")\n",
    "test.to_csv(\"bakery_ratings_data_set_test.csv\")\n",
    "validate.to_csv(\"bakery_ratings_data_set_validate.csv\")"
   ]
  },
  {
   "cell_type": "code",
   "execution_count": 37,
   "metadata": {
    "colab": {
     "base_uri": "https://localhost:8080/"
    },
    "executionInfo": {
     "elapsed": 7723,
     "status": "ok",
     "timestamp": 1624599614015,
     "user": {
      "displayName": "RockyChicken182",
      "photoUrl": "https://lh3.googleusercontent.com/a-/AOh14GiHn7vaq8S7ttcfulVDtTveJfGpbYI3y7X1MJhJsg=s64",
      "userId": "16427190797879463063"
     },
     "user_tz": -480
    },
    "id": "LO5dgzbGZxI6",
    "outputId": "98808dbf-f6fa-41f3-af96-223c16b3f2f1"
   },
   "outputs": [
    {
     "name": "stdout",
     "output_type": "stream",
     "text": [
      "Warning: Maximum number of iterations has been exceeded.\n",
      "         Current function value: 967.090243\n",
      "         Iterations: 3000\n",
      "         Function evaluations: 4518\n",
      "         Gradient evaluations: 4518\n",
      "Training RMSE: 0.009117724843958085\n",
      "Testing RMSE: 0.009117724843958085\n",
      "Validate RMSE: 0.009117724843958085\n"
     ]
    }
   ],
   "source": [
    "# Load user ratings\n",
    "raw_training_dataset_df = pd.read_csv('bakery_ratings_data_set_training.csv')\n",
    "raw_testing_dataset_df = pd.read_csv('bakery_ratings_data_set_test.csv')\n",
    "raw_validate_dataset_df = pd.read_csv('bakery_ratings_data_set_test.csv')\n",
    "\n",
    "# Convert the running list of user ratings into a matrix\n",
    "ratings_training_df = pd.pivot_table(raw_training_dataset_df, index='userID', columns='placeID', aggfunc=np.max)\n",
    "ratings_testing_df = pd.pivot_table(raw_testing_dataset_df, index='userID', columns='placeID', aggfunc=np.max)\n",
    "ratings_validate_df = pd.pivot_table(raw_validate_dataset_df, index='userID', columns='placeID', aggfunc=np.max)\n",
    "\n",
    "# Apply matrix factorization to find the latent features\n",
    "U, M = low_rank_matrix_factorization(ratings_training_df.values,\n",
    "                                     num_features=18,\n",
    "                                    regularization_amount=0.01)\n",
    "\n",
    "# Find all predicted ratings by multiplying U and M\n",
    "predicted_ratings = np.matmul(U, M)\n",
    "\n",
    "# Measure RMSE\n",
    "rmse_training = RMSE(ratings_training_df.values,\n",
    "                     predicted_ratings)\n",
    "rmse_testing = RMSE(predicted_ratings,\n",
    "                    ratings_testing_df.values)\n",
    "rmse_validate = RMSE(ratings_validate_df.values,\n",
    "                    predicted_ratings)\n",
    "\n",
    "print(\"Training RMSE: {}\".format(rmse_training))\n",
    "print(\"Testing RMSE: {}\".format(rmse_testing))\n",
    "print(\"Validate RMSE: {}\".format(rmse_validate))\n",
    "\n"
   ]
  },
  {
   "cell_type": "markdown",
   "metadata": {
    "id": "3zBeoYV4rSTt"
   },
   "source": [
    "> **NOTE:**Looking at the RMSE, it is pretty weird. Although it has a very low training RMSE of 0.013677065676726384, the testing RMSE and the Validate RMSE is the same as well, which is not supposed to happen! After debugging the model for close to 5 hours, it still leads to the same results. Thus, it shows that this Low Rank Matrix Factorization model is a complete failure. But since all RMSEs are the same, I take it as the RMSE of the whole model is 0.013677065676726384. "
   ]
  },
  {
   "cell_type": "markdown",
   "metadata": {
    "id": "iemnb70BsDOb"
   },
   "source": [
    "> Even though it's a complete failure, I wanted to save the model into the data files, so that it can retrieve recommendations in an instant, without having to read the CSV files over and over again."
   ]
  },
  {
   "cell_type": "code",
   "execution_count": 38,
   "metadata": {
    "colab": {
     "base_uri": "https://localhost:8080/"
    },
    "executionInfo": {
     "elapsed": 4097,
     "status": "ok",
     "timestamp": 1624599618110,
     "user": {
      "displayName": "RockyChicken182",
      "photoUrl": "https://lh3.googleusercontent.com/a-/AOh14GiHn7vaq8S7ttcfulVDtTveJfGpbYI3y7X1MJhJsg=s64",
      "userId": "16427190797879463063"
     },
     "user_tz": -480
    },
    "id": "-Pumo6tqZ_Cu",
    "outputId": "42df55c4-6cdb-4a34-989d-b8993a5f8530"
   },
   "outputs": [
    {
     "name": "stdout",
     "output_type": "stream",
     "text": [
      "Optimization terminated successfully.\n",
      "         Current function value: 23.252241\n",
      "         Iterations: 2872\n",
      "         Function evaluations: 4307\n",
      "         Gradient evaluations: 4307\n"
     ]
    }
   ],
   "source": [
    "import pickle\n",
    "\n",
    "# Load userprofile_ratings.csv\n",
    "raw_dataset_df = pd.read_csv('C:/Users/ryant/IT3100 Project 2/dataset_ai/userprofile_ratings.csv')\n",
    "\n",
    "# Convert the running list of user ratings into a matrix\n",
    "ratings_df = pd.pivot_table(raw_dataset_df, index='userID', columns='placeID', aggfunc=np.max)\n",
    "\n",
    "# Normalize the ratings (center them around their mean)\n",
    "normalized_ratings, means = normalize_ratings(ratings_df.values)\n",
    "\n",
    "# Apply matrix factorization to find the latent features\n",
    "U, M = low_rank_matrix_factorization(normalized_ratings,\n",
    "                                      num_features=18,\n",
    "                                      regularization_amount=0.1)\n",
    "\n",
    "# Find all predicted ratings by multiplying U and M\n",
    "predicted_ratings = np.matmul(U, M)\n",
    "\n",
    "# Add back in the mean ratings for each product to de-normalize the predicted results\n",
    "predicted_ratings = predicted_ratings + means\n",
    "\n",
    "# Save features and predicted ratings to files for later use\n",
    "pickle.dump(U, open(\"user_features.dat\", \"wb\"))\n",
    "pickle.dump(M, open(\"product_features.dat\", \"wb\"))\n",
    "pickle.dump(predicted_ratings, open(\"predicted_ratings.dat\", \"wb\" ))\n",
    "pickle.dump(means, open(\"means.dat\", \"wb\" ))\n"
   ]
  },
  {
   "cell_type": "code",
   "execution_count": 39,
   "metadata": {
    "colab": {
     "base_uri": "https://localhost:8080/"
    },
    "executionInfo": {
     "elapsed": 11,
     "status": "ok",
     "timestamp": 1624599618110,
     "user": {
      "displayName": "RockyChicken182",
      "photoUrl": "https://lh3.googleusercontent.com/a-/AOh14GiHn7vaq8S7ttcfulVDtTveJfGpbYI3y7X1MJhJsg=s64",
      "userId": "16427190797879463063"
     },
     "user_tz": -480
    },
    "id": "AXRC3FwHbPVN",
    "outputId": "3ba795a8-381b-4a4e-f581-daa7b873d99a"
   },
   "outputs": [
    {
     "name": "stdout",
     "output_type": "stream",
     "text": [
      "Bakeries  we will recommend:\n",
      "                       name types_of_bread  rating\n",
      "placeID                                           \n",
      "84             tortas hawai        Cookies     5.0\n",
      "28               cafe ambar          Cakes     5.0\n",
      "128               Paniroles    Swiss Rolls     5.0\n",
      "77       TACOS CORRECAMINOS       Cupcakes     5.0\n",
      "90       Gorditas Dona Tota       Kringles     5.0\n"
     ]
    }
   ],
   "source": [
    "# Load prediction rules from data files\n",
    "means = pickle.load(open(\"means.dat\", \"rb\"))\n",
    "\n",
    "# Just use the average bakery ratings directly as the user's predicted ratings\n",
    "user_ratings = means\n",
    "\n",
    "print(\"Bakeries  we will recommend:\")\n",
    "\n",
    "bakery_df2['rating'] = user_ratings\n",
    "bakery_df2 = bakery_df2.sort_values(by=['rating'], ascending=False)\n",
    "\n",
    "print(bakery_df2[['name', 'types_of_bread', 'rating']].head(5))"
   ]
  },
  {
   "cell_type": "code",
   "execution_count": 41,
   "metadata": {
    "colab": {
     "base_uri": "https://localhost:8080/"
    },
    "executionInfo": {
     "elapsed": 2969,
     "status": "ok",
     "timestamp": 1624599621071,
     "user": {
      "displayName": "RockyChicken182",
      "photoUrl": "https://lh3.googleusercontent.com/a-/AOh14GiHn7vaq8S7ttcfulVDtTveJfGpbYI3y7X1MJhJsg=s64",
      "userId": "16427190797879463063"
     },
     "user_tz": -480
    },
    "id": "0D-CvNakbVDZ",
    "outputId": "3c2a986b-f115-4de0-f68b-768469757a17"
   },
   "outputs": [
    {
     "name": "stdout",
     "output_type": "stream",
     "text": [
      "Enter a user_id to get recommendations (Between 1 and 100):\n",
      "67\n",
      "Bakeries we will recommend:\n",
      "                               name types_of_bread    rating\n",
      "74   Restaurante Casa de las Flores     Sandwiches  5.397742\n",
      "92                     Cafe Chaires   Baked Pizzas  5.306172\n",
      "110                        crudalia        Muffins  5.277906\n",
      "49            Restaurante Alhondiga          Tarts  5.199095\n",
      "86    Carreton de Flautas y Migadas    Curry Puffs  5.187564\n"
     ]
    },
    {
     "name": "stderr",
     "output_type": "stream",
     "text": [
      "<ipython-input-41-d1ed26e654e8>:13: SettingWithCopyWarning: \n",
      "A value is trying to be set on a copy of a slice from a DataFrame.\n",
      "Try using .loc[row_indexer,col_indexer] = value instead\n",
      "\n",
      "See the caveats in the documentation: https://pandas.pydata.org/pandas-docs/stable/user_guide/indexing.html#returning-a-view-versus-a-copy\n",
      "  bakery_df1['rating'] = user_ratings\n"
     ]
    }
   ],
   "source": [
    "# Load prediction rules from data files\n",
    "U = pickle.load(open(\"user_features.dat\", \"rb\"))\n",
    "M = pickle.load(open(\"product_features.dat\", \"rb\"))\n",
    "predicted_ratings = pickle.load(open(\"predicted_ratings.dat\", \"rb\"))\n",
    "\n",
    "#Recommending bakeries based on the user's ratings\n",
    "print(\"Enter a user_id to get recommendations (Between 1 and 100):\")\n",
    "user_id_to_search = int(input())\n",
    "\n",
    "print(\"Bakeries we will recommend:\")\n",
    "\n",
    "user_ratings = predicted_ratings[user_id_to_search - 1]\n",
    "bakery_df1['rating'] = user_ratings\n",
    "bakery_df1 = bakery_df1.sort_values(by=['rating'], ascending=False)\n",
    "\n",
    "print(bakery_df1[['name', 'types_of_bread', 'rating']].head(5))"
   ]
  },
  {
   "cell_type": "code",
   "execution_count": 43,
   "metadata": {
    "colab": {
     "base_uri": "https://localhost:8080/"
    },
    "executionInfo": {
     "elapsed": 6,
     "status": "ok",
     "timestamp": 1624599621071,
     "user": {
      "displayName": "RockyChicken182",
      "photoUrl": "https://lh3.googleusercontent.com/a-/AOh14GiHn7vaq8S7ttcfulVDtTveJfGpbYI3y7X1MJhJsg=s64",
      "userId": "16427190797879463063"
     },
     "user_tz": -480
    },
    "id": "RS85In8RbYeB",
    "outputId": "e4951ef8-6208-4ede-dba9-7eb3023987cc"
   },
   "outputs": [
    {
     "name": "stdout",
     "output_type": "stream",
     "text": [
      "We are finding bakeries similar to this bakery:\n",
      "Bakery Name: 5\n",
      "Types of Bread Sold: Baos\n",
      "The attributes for this movie are:\n",
      "[ 0.01055931 -0.14053824  0.69340141 -0.14160529 -0.15545172  0.41862717\n",
      " -0.31528417 -0.13795819 -0.35435253 -0.1451756   0.46387157 -0.10923334\n",
      "  0.33824655  0.47463579  0.03076818 -0.31470129  0.14067145  0.17602568]\n",
      "The five most similar bakeries are:\n",
      "                            name types_of_bread  difference_score\n",
      "placeID                                                          \n",
      "90            Gorditas Dona Tota       Kringles          0.000000\n",
      "29       Restaurante la Gran Via   Baked Pizzas          3.554003\n",
      "17                       Sirlone         Bagels          3.686113\n",
      "11                Restaurante 75        Cookies          3.767854\n",
      "19                 Unicols Pizza     Croissants          4.007702\n"
     ]
    }
   ],
   "source": [
    "# Load prediction rules from data files\n",
    "M = pickle.load(open(\"product_features.dat\", \"rb\"))\n",
    "\n",
    "# Swap the rows and columns of product_features just so it's easier to work with\n",
    "M = np.transpose(M)\n",
    "\n",
    "# Choose a movie to find similar movies to. Let's find movies similar to movie #5:\n",
    "bakery_id = 5\n",
    "\n",
    "# Get bakery_id #5's name and genre\n",
    "bakery_information = bakery_df2.loc[bakery_id]\n",
    "\n",
    "print(\"We are finding bakeries similar to this bakery:\")\n",
    "print(\"Bakery Name: {}\".format(bakery_information.name))\n",
    "print(\"Types of Bread Sold: {}\".format(bakery_information.types_of_bread))\n",
    "\n",
    "# Get the features for bakery_id #5 we found via matrix factorization\n",
    "current_bakery_features = M[bakery_id - 1]\n",
    "\n",
    "print(\"The attributes for this movie are:\")\n",
    "print(current_bakery_features)\n",
    "\n",
    "# The main logic for finding similar bakeries:\n",
    "\n",
    "# 1. Subtract the current bakery's features from every other bakery's features\n",
    "difference = M - current_bakery_features\n",
    "\n",
    "# 2. Take the absolute value of that difference (so all numbers are positive)\n",
    "absolute_difference = np.abs(difference)\n",
    "\n",
    "# 3. Each bakery has several features. Sum those features to get a total 'difference score' for each bakery\n",
    "total_difference = np.sum(absolute_difference, axis=1)\n",
    "\n",
    "# 4. Create a new column in the bakery list with the difference score for each bakery\n",
    "bakery_df2['difference_score'] = total_difference\n",
    "\n",
    "# 5. Sort the bakery list by difference score, from least different to most different\n",
    "sorted_bakery_list = bakery_df2.sort_values('difference_score')\n",
    "\n",
    "# 6. Print the result, showing the 5 most similar bakeries to bakery_id #5\n",
    "print(\"The five most similar bakeries are:\")\n",
    "print(sorted_bakery_list[['name', 'types_of_bread', 'difference_score']][0:5])"
   ]
  },
  {
   "cell_type": "markdown",
   "metadata": {
    "id": "S4wRi6j_sz2B"
   },
   "source": [
    ">Based on this Low Rank Matrix Factorization model, it failed to give correct recommendations to users based on their ratings of different bakeries."
   ]
  },
  {
   "cell_type": "markdown",
   "metadata": {
    "id": "Aes7-8aCJqRn"
   },
   "source": [
    "### **Section 3.2- Training/Evaluating SVD for Ratings-Based Recommendation System**\n",
    "\n",
    ">For the SVD model, I wanted to try a different collaborative-filtering model, that involves a Singular Value Decomposition (SVD) model, that also uses matrix factorization , but produces singular vectors and singular values to provide recommendations based on user ratings only. \n",
    "\n",
    "\n",
    "Reasons to choose SVD\n",
    "- Quick calculation time\n",
    "- Simple algorithm – to interpret \n",
    "- Higher accuracy \n",
    "- Works better than the Low Rank Matrix Factorization model"
   ]
  },
  {
   "cell_type": "markdown",
   "metadata": {
    "id": "XJzycJQ_uO2_"
   },
   "source": [
    ">  The following cell blocks will pivot the user ratings into a matrix form that is going to be used for training the SVD model."
   ]
  },
  {
   "cell_type": "code",
   "execution_count": 44,
   "metadata": {
    "colab": {
     "base_uri": "https://localhost:8080/"
    },
    "executionInfo": {
     "elapsed": 5,
     "status": "ok",
     "timestamp": 1624599621072,
     "user": {
      "displayName": "RockyChicken182",
      "photoUrl": "https://lh3.googleusercontent.com/a-/AOh14GiHn7vaq8S7ttcfulVDtTveJfGpbYI3y7X1MJhJsg=s64",
      "userId": "16427190797879463063"
     },
     "user_tz": -480
    },
    "id": "b721Ld_gKA8s",
    "outputId": "9856c49a-6953-4e4d-f6b3-13f91095d23c"
   },
   "outputs": [
    {
     "data": {
      "text/plain": [
       "(150, 130)"
      ]
     },
     "execution_count": 44,
     "metadata": {},
     "output_type": "execute_result"
    }
   ],
   "source": [
    "#Transform the data into a pivot table for training\n",
    "pivot_data = rating_df.pivot_table(index = 'userID', columns = 'placeID', values = 'rating').fillna(0)\n",
    "pivot_data.shape"
   ]
  },
  {
   "cell_type": "code",
   "execution_count": 45,
   "metadata": {
    "colab": {
     "base_uri": "https://localhost:8080/",
     "height": 281
    },
    "executionInfo": {
     "elapsed": 673,
     "status": "ok",
     "timestamp": 1624599621741,
     "user": {
      "displayName": "RockyChicken182",
      "photoUrl": "https://lh3.googleusercontent.com/a-/AOh14GiHn7vaq8S7ttcfulVDtTveJfGpbYI3y7X1MJhJsg=s64",
      "userId": "16427190797879463063"
     },
     "user_tz": -480
    },
    "id": "CHp6XR7EK8Cq",
    "outputId": "b5936de1-86e6-4892-d4f9-0494b69b09d3"
   },
   "outputs": [
    {
     "data": {
      "text/html": [
       "<div>\n",
       "<style scoped>\n",
       "    .dataframe tbody tr th:only-of-type {\n",
       "        vertical-align: middle;\n",
       "    }\n",
       "\n",
       "    .dataframe tbody tr th {\n",
       "        vertical-align: top;\n",
       "    }\n",
       "\n",
       "    .dataframe thead th {\n",
       "        text-align: right;\n",
       "    }\n",
       "</style>\n",
       "<table border=\"1\" class=\"dataframe\">\n",
       "  <thead>\n",
       "    <tr style=\"text-align: right;\">\n",
       "      <th>placeID</th>\n",
       "      <th>1</th>\n",
       "      <th>2</th>\n",
       "      <th>3</th>\n",
       "      <th>4</th>\n",
       "      <th>5</th>\n",
       "      <th>6</th>\n",
       "      <th>7</th>\n",
       "      <th>8</th>\n",
       "      <th>9</th>\n",
       "      <th>10</th>\n",
       "      <th>...</th>\n",
       "      <th>121</th>\n",
       "      <th>122</th>\n",
       "      <th>123</th>\n",
       "      <th>124</th>\n",
       "      <th>125</th>\n",
       "      <th>126</th>\n",
       "      <th>127</th>\n",
       "      <th>128</th>\n",
       "      <th>129</th>\n",
       "      <th>130</th>\n",
       "    </tr>\n",
       "    <tr>\n",
       "      <th>userID</th>\n",
       "      <th></th>\n",
       "      <th></th>\n",
       "      <th></th>\n",
       "      <th></th>\n",
       "      <th></th>\n",
       "      <th></th>\n",
       "      <th></th>\n",
       "      <th></th>\n",
       "      <th></th>\n",
       "      <th></th>\n",
       "      <th></th>\n",
       "      <th></th>\n",
       "      <th></th>\n",
       "      <th></th>\n",
       "      <th></th>\n",
       "      <th></th>\n",
       "      <th></th>\n",
       "      <th></th>\n",
       "      <th></th>\n",
       "      <th></th>\n",
       "      <th></th>\n",
       "    </tr>\n",
       "  </thead>\n",
       "  <tbody>\n",
       "    <tr>\n",
       "      <th>1</th>\n",
       "      <td>0.0</td>\n",
       "      <td>4.0</td>\n",
       "      <td>0.0</td>\n",
       "      <td>0.0</td>\n",
       "      <td>0.0</td>\n",
       "      <td>0.0</td>\n",
       "      <td>0.0</td>\n",
       "      <td>0.0</td>\n",
       "      <td>0.0</td>\n",
       "      <td>0.0</td>\n",
       "      <td>...</td>\n",
       "      <td>0.0</td>\n",
       "      <td>4.0</td>\n",
       "      <td>0.0</td>\n",
       "      <td>0.0</td>\n",
       "      <td>0.0</td>\n",
       "      <td>0.0</td>\n",
       "      <td>0.0</td>\n",
       "      <td>0.0</td>\n",
       "      <td>0.0</td>\n",
       "      <td>0.0</td>\n",
       "    </tr>\n",
       "    <tr>\n",
       "      <th>2</th>\n",
       "      <td>0.0</td>\n",
       "      <td>0.0</td>\n",
       "      <td>0.0</td>\n",
       "      <td>0.0</td>\n",
       "      <td>0.0</td>\n",
       "      <td>0.0</td>\n",
       "      <td>4.0</td>\n",
       "      <td>0.0</td>\n",
       "      <td>0.0</td>\n",
       "      <td>0.0</td>\n",
       "      <td>...</td>\n",
       "      <td>0.0</td>\n",
       "      <td>0.0</td>\n",
       "      <td>5.0</td>\n",
       "      <td>0.0</td>\n",
       "      <td>0.0</td>\n",
       "      <td>0.0</td>\n",
       "      <td>0.0</td>\n",
       "      <td>0.0</td>\n",
       "      <td>0.0</td>\n",
       "      <td>0.0</td>\n",
       "    </tr>\n",
       "    <tr>\n",
       "      <th>3</th>\n",
       "      <td>0.0</td>\n",
       "      <td>0.0</td>\n",
       "      <td>0.0</td>\n",
       "      <td>0.0</td>\n",
       "      <td>3.0</td>\n",
       "      <td>0.0</td>\n",
       "      <td>5.0</td>\n",
       "      <td>0.0</td>\n",
       "      <td>0.0</td>\n",
       "      <td>0.0</td>\n",
       "      <td>...</td>\n",
       "      <td>0.0</td>\n",
       "      <td>0.0</td>\n",
       "      <td>0.0</td>\n",
       "      <td>0.0</td>\n",
       "      <td>0.0</td>\n",
       "      <td>0.0</td>\n",
       "      <td>0.0</td>\n",
       "      <td>0.0</td>\n",
       "      <td>0.0</td>\n",
       "      <td>0.0</td>\n",
       "    </tr>\n",
       "    <tr>\n",
       "      <th>4</th>\n",
       "      <td>0.0</td>\n",
       "      <td>0.0</td>\n",
       "      <td>0.0</td>\n",
       "      <td>5.0</td>\n",
       "      <td>0.0</td>\n",
       "      <td>0.0</td>\n",
       "      <td>0.0</td>\n",
       "      <td>0.0</td>\n",
       "      <td>0.0</td>\n",
       "      <td>0.0</td>\n",
       "      <td>...</td>\n",
       "      <td>0.0</td>\n",
       "      <td>0.0</td>\n",
       "      <td>5.0</td>\n",
       "      <td>0.0</td>\n",
       "      <td>0.0</td>\n",
       "      <td>0.0</td>\n",
       "      <td>0.0</td>\n",
       "      <td>0.0</td>\n",
       "      <td>0.0</td>\n",
       "      <td>0.0</td>\n",
       "    </tr>\n",
       "    <tr>\n",
       "      <th>5</th>\n",
       "      <td>0.0</td>\n",
       "      <td>0.0</td>\n",
       "      <td>0.0</td>\n",
       "      <td>0.0</td>\n",
       "      <td>5.0</td>\n",
       "      <td>0.0</td>\n",
       "      <td>0.0</td>\n",
       "      <td>0.0</td>\n",
       "      <td>5.0</td>\n",
       "      <td>0.0</td>\n",
       "      <td>...</td>\n",
       "      <td>0.0</td>\n",
       "      <td>0.0</td>\n",
       "      <td>3.0</td>\n",
       "      <td>0.0</td>\n",
       "      <td>5.0</td>\n",
       "      <td>0.0</td>\n",
       "      <td>0.0</td>\n",
       "      <td>0.0</td>\n",
       "      <td>0.0</td>\n",
       "      <td>0.0</td>\n",
       "    </tr>\n",
       "  </tbody>\n",
       "</table>\n",
       "<p>5 rows × 130 columns</p>\n",
       "</div>"
      ],
      "text/plain": [
       "placeID  1    2    3    4    5    6    7    8    9    10   ...  121  122  123  \\\n",
       "userID                                                     ...                  \n",
       "1        0.0  4.0  0.0  0.0  0.0  0.0  0.0  0.0  0.0  0.0  ...  0.0  4.0  0.0   \n",
       "2        0.0  0.0  0.0  0.0  0.0  0.0  4.0  0.0  0.0  0.0  ...  0.0  0.0  5.0   \n",
       "3        0.0  0.0  0.0  0.0  3.0  0.0  5.0  0.0  0.0  0.0  ...  0.0  0.0  0.0   \n",
       "4        0.0  0.0  0.0  5.0  0.0  0.0  0.0  0.0  0.0  0.0  ...  0.0  0.0  5.0   \n",
       "5        0.0  0.0  0.0  0.0  5.0  0.0  0.0  0.0  5.0  0.0  ...  0.0  0.0  3.0   \n",
       "\n",
       "placeID  124  125  126  127  128  129  130  \n",
       "userID                                      \n",
       "1        0.0  0.0  0.0  0.0  0.0  0.0  0.0  \n",
       "2        0.0  0.0  0.0  0.0  0.0  0.0  0.0  \n",
       "3        0.0  0.0  0.0  0.0  0.0  0.0  0.0  \n",
       "4        0.0  0.0  0.0  0.0  0.0  0.0  0.0  \n",
       "5        0.0  5.0  0.0  0.0  0.0  0.0  0.0  \n",
       "\n",
       "[5 rows x 130 columns]"
      ]
     },
     "execution_count": 45,
     "metadata": {},
     "output_type": "execute_result"
    }
   ],
   "source": [
    "pivot_data.head()"
   ]
  },
  {
   "cell_type": "code",
   "execution_count": 46,
   "metadata": {
    "colab": {
     "base_uri": "https://localhost:8080/",
     "height": 281
    },
    "executionInfo": {
     "elapsed": 10,
     "status": "ok",
     "timestamp": 1624599621741,
     "user": {
      "displayName": "RockyChicken182",
      "photoUrl": "https://lh3.googleusercontent.com/a-/AOh14GiHn7vaq8S7ttcfulVDtTveJfGpbYI3y7X1MJhJsg=s64",
      "userId": "16427190797879463063"
     },
     "user_tz": -480
    },
    "id": "3NJ6US-qLGPL",
    "outputId": "270db6c8-38df-470a-8a1e-2b2c5e7c174c"
   },
   "outputs": [
    {
     "data": {
      "text/html": [
       "<div>\n",
       "<style scoped>\n",
       "    .dataframe tbody tr th:only-of-type {\n",
       "        vertical-align: middle;\n",
       "    }\n",
       "\n",
       "    .dataframe tbody tr th {\n",
       "        vertical-align: top;\n",
       "    }\n",
       "\n",
       "    .dataframe thead th {\n",
       "        text-align: right;\n",
       "    }\n",
       "</style>\n",
       "<table border=\"1\" class=\"dataframe\">\n",
       "  <thead>\n",
       "    <tr style=\"text-align: right;\">\n",
       "      <th>placeID</th>\n",
       "      <th>1</th>\n",
       "      <th>2</th>\n",
       "      <th>3</th>\n",
       "      <th>4</th>\n",
       "      <th>5</th>\n",
       "      <th>6</th>\n",
       "      <th>7</th>\n",
       "      <th>8</th>\n",
       "      <th>9</th>\n",
       "      <th>10</th>\n",
       "      <th>...</th>\n",
       "      <th>122</th>\n",
       "      <th>123</th>\n",
       "      <th>124</th>\n",
       "      <th>125</th>\n",
       "      <th>126</th>\n",
       "      <th>127</th>\n",
       "      <th>128</th>\n",
       "      <th>129</th>\n",
       "      <th>130</th>\n",
       "      <th>user_index</th>\n",
       "    </tr>\n",
       "    <tr>\n",
       "      <th>userID</th>\n",
       "      <th></th>\n",
       "      <th></th>\n",
       "      <th></th>\n",
       "      <th></th>\n",
       "      <th></th>\n",
       "      <th></th>\n",
       "      <th></th>\n",
       "      <th></th>\n",
       "      <th></th>\n",
       "      <th></th>\n",
       "      <th></th>\n",
       "      <th></th>\n",
       "      <th></th>\n",
       "      <th></th>\n",
       "      <th></th>\n",
       "      <th></th>\n",
       "      <th></th>\n",
       "      <th></th>\n",
       "      <th></th>\n",
       "      <th></th>\n",
       "      <th></th>\n",
       "    </tr>\n",
       "  </thead>\n",
       "  <tbody>\n",
       "    <tr>\n",
       "      <th>1</th>\n",
       "      <td>0.0</td>\n",
       "      <td>4.0</td>\n",
       "      <td>0.0</td>\n",
       "      <td>0.0</td>\n",
       "      <td>0.0</td>\n",
       "      <td>0.0</td>\n",
       "      <td>0.0</td>\n",
       "      <td>0.0</td>\n",
       "      <td>0.0</td>\n",
       "      <td>0.0</td>\n",
       "      <td>...</td>\n",
       "      <td>4.0</td>\n",
       "      <td>0.0</td>\n",
       "      <td>0.0</td>\n",
       "      <td>0.0</td>\n",
       "      <td>0.0</td>\n",
       "      <td>0.0</td>\n",
       "      <td>0.0</td>\n",
       "      <td>0.0</td>\n",
       "      <td>0.0</td>\n",
       "      <td>0</td>\n",
       "    </tr>\n",
       "    <tr>\n",
       "      <th>2</th>\n",
       "      <td>0.0</td>\n",
       "      <td>0.0</td>\n",
       "      <td>0.0</td>\n",
       "      <td>0.0</td>\n",
       "      <td>0.0</td>\n",
       "      <td>0.0</td>\n",
       "      <td>4.0</td>\n",
       "      <td>0.0</td>\n",
       "      <td>0.0</td>\n",
       "      <td>0.0</td>\n",
       "      <td>...</td>\n",
       "      <td>0.0</td>\n",
       "      <td>5.0</td>\n",
       "      <td>0.0</td>\n",
       "      <td>0.0</td>\n",
       "      <td>0.0</td>\n",
       "      <td>0.0</td>\n",
       "      <td>0.0</td>\n",
       "      <td>0.0</td>\n",
       "      <td>0.0</td>\n",
       "      <td>1</td>\n",
       "    </tr>\n",
       "    <tr>\n",
       "      <th>3</th>\n",
       "      <td>0.0</td>\n",
       "      <td>0.0</td>\n",
       "      <td>0.0</td>\n",
       "      <td>0.0</td>\n",
       "      <td>3.0</td>\n",
       "      <td>0.0</td>\n",
       "      <td>5.0</td>\n",
       "      <td>0.0</td>\n",
       "      <td>0.0</td>\n",
       "      <td>0.0</td>\n",
       "      <td>...</td>\n",
       "      <td>0.0</td>\n",
       "      <td>0.0</td>\n",
       "      <td>0.0</td>\n",
       "      <td>0.0</td>\n",
       "      <td>0.0</td>\n",
       "      <td>0.0</td>\n",
       "      <td>0.0</td>\n",
       "      <td>0.0</td>\n",
       "      <td>0.0</td>\n",
       "      <td>2</td>\n",
       "    </tr>\n",
       "    <tr>\n",
       "      <th>4</th>\n",
       "      <td>0.0</td>\n",
       "      <td>0.0</td>\n",
       "      <td>0.0</td>\n",
       "      <td>5.0</td>\n",
       "      <td>0.0</td>\n",
       "      <td>0.0</td>\n",
       "      <td>0.0</td>\n",
       "      <td>0.0</td>\n",
       "      <td>0.0</td>\n",
       "      <td>0.0</td>\n",
       "      <td>...</td>\n",
       "      <td>0.0</td>\n",
       "      <td>5.0</td>\n",
       "      <td>0.0</td>\n",
       "      <td>0.0</td>\n",
       "      <td>0.0</td>\n",
       "      <td>0.0</td>\n",
       "      <td>0.0</td>\n",
       "      <td>0.0</td>\n",
       "      <td>0.0</td>\n",
       "      <td>3</td>\n",
       "    </tr>\n",
       "    <tr>\n",
       "      <th>5</th>\n",
       "      <td>0.0</td>\n",
       "      <td>0.0</td>\n",
       "      <td>0.0</td>\n",
       "      <td>0.0</td>\n",
       "      <td>5.0</td>\n",
       "      <td>0.0</td>\n",
       "      <td>0.0</td>\n",
       "      <td>0.0</td>\n",
       "      <td>5.0</td>\n",
       "      <td>0.0</td>\n",
       "      <td>...</td>\n",
       "      <td>0.0</td>\n",
       "      <td>3.0</td>\n",
       "      <td>0.0</td>\n",
       "      <td>5.0</td>\n",
       "      <td>0.0</td>\n",
       "      <td>0.0</td>\n",
       "      <td>0.0</td>\n",
       "      <td>0.0</td>\n",
       "      <td>0.0</td>\n",
       "      <td>4</td>\n",
       "    </tr>\n",
       "  </tbody>\n",
       "</table>\n",
       "<p>5 rows × 131 columns</p>\n",
       "</div>"
      ],
      "text/plain": [
       "placeID    1    2    3    4    5    6    7    8    9   10  ...  122  123  124  \\\n",
       "userID                                                     ...                  \n",
       "1        0.0  4.0  0.0  0.0  0.0  0.0  0.0  0.0  0.0  0.0  ...  4.0  0.0  0.0   \n",
       "2        0.0  0.0  0.0  0.0  0.0  0.0  4.0  0.0  0.0  0.0  ...  0.0  5.0  0.0   \n",
       "3        0.0  0.0  0.0  0.0  3.0  0.0  5.0  0.0  0.0  0.0  ...  0.0  0.0  0.0   \n",
       "4        0.0  0.0  0.0  5.0  0.0  0.0  0.0  0.0  0.0  0.0  ...  0.0  5.0  0.0   \n",
       "5        0.0  0.0  0.0  0.0  5.0  0.0  0.0  0.0  5.0  0.0  ...  0.0  3.0  0.0   \n",
       "\n",
       "placeID  125  126  127  128  129  130  user_index  \n",
       "userID                                             \n",
       "1        0.0  0.0  0.0  0.0  0.0  0.0           0  \n",
       "2        0.0  0.0  0.0  0.0  0.0  0.0           1  \n",
       "3        0.0  0.0  0.0  0.0  0.0  0.0           2  \n",
       "4        0.0  0.0  0.0  0.0  0.0  0.0           3  \n",
       "5        5.0  0.0  0.0  0.0  0.0  0.0           4  \n",
       "\n",
       "[5 rows x 131 columns]"
      ]
     },
     "execution_count": 46,
     "metadata": {},
     "output_type": "execute_result"
    }
   ],
   "source": [
    "#Create a user_index column to count the no. of users -> Change naming convention of user by using counter\n",
    "pivot_data['user_index'] = np.arange(0, pivot_data.shape[0],1)\n",
    "pivot_data.head()"
   ]
  },
  {
   "cell_type": "code",
   "execution_count": 47,
   "metadata": {
    "colab": {
     "base_uri": "https://localhost:8080/",
     "height": 281
    },
    "executionInfo": {
     "elapsed": 10,
     "status": "ok",
     "timestamp": 1624599621742,
     "user": {
      "displayName": "RockyChicken182",
      "photoUrl": "https://lh3.googleusercontent.com/a-/AOh14GiHn7vaq8S7ttcfulVDtTveJfGpbYI3y7X1MJhJsg=s64",
      "userId": "16427190797879463063"
     },
     "user_tz": -480
    },
    "id": "BoqBA7Q7LLNs",
    "outputId": "8940243b-8d32-40f3-aae3-899fa5262133"
   },
   "outputs": [
    {
     "data": {
      "text/html": [
       "<div>\n",
       "<style scoped>\n",
       "    .dataframe tbody tr th:only-of-type {\n",
       "        vertical-align: middle;\n",
       "    }\n",
       "\n",
       "    .dataframe tbody tr th {\n",
       "        vertical-align: top;\n",
       "    }\n",
       "\n",
       "    .dataframe thead th {\n",
       "        text-align: right;\n",
       "    }\n",
       "</style>\n",
       "<table border=\"1\" class=\"dataframe\">\n",
       "  <thead>\n",
       "    <tr style=\"text-align: right;\">\n",
       "      <th>placeID</th>\n",
       "      <th>1</th>\n",
       "      <th>2</th>\n",
       "      <th>3</th>\n",
       "      <th>4</th>\n",
       "      <th>5</th>\n",
       "      <th>6</th>\n",
       "      <th>7</th>\n",
       "      <th>8</th>\n",
       "      <th>9</th>\n",
       "      <th>10</th>\n",
       "      <th>...</th>\n",
       "      <th>121</th>\n",
       "      <th>122</th>\n",
       "      <th>123</th>\n",
       "      <th>124</th>\n",
       "      <th>125</th>\n",
       "      <th>126</th>\n",
       "      <th>127</th>\n",
       "      <th>128</th>\n",
       "      <th>129</th>\n",
       "      <th>130</th>\n",
       "    </tr>\n",
       "    <tr>\n",
       "      <th>user_index</th>\n",
       "      <th></th>\n",
       "      <th></th>\n",
       "      <th></th>\n",
       "      <th></th>\n",
       "      <th></th>\n",
       "      <th></th>\n",
       "      <th></th>\n",
       "      <th></th>\n",
       "      <th></th>\n",
       "      <th></th>\n",
       "      <th></th>\n",
       "      <th></th>\n",
       "      <th></th>\n",
       "      <th></th>\n",
       "      <th></th>\n",
       "      <th></th>\n",
       "      <th></th>\n",
       "      <th></th>\n",
       "      <th></th>\n",
       "      <th></th>\n",
       "      <th></th>\n",
       "    </tr>\n",
       "  </thead>\n",
       "  <tbody>\n",
       "    <tr>\n",
       "      <th>0</th>\n",
       "      <td>0.0</td>\n",
       "      <td>4.0</td>\n",
       "      <td>0.0</td>\n",
       "      <td>0.0</td>\n",
       "      <td>0.0</td>\n",
       "      <td>0.0</td>\n",
       "      <td>0.0</td>\n",
       "      <td>0.0</td>\n",
       "      <td>0.0</td>\n",
       "      <td>0.0</td>\n",
       "      <td>...</td>\n",
       "      <td>0.0</td>\n",
       "      <td>4.0</td>\n",
       "      <td>0.0</td>\n",
       "      <td>0.0</td>\n",
       "      <td>0.0</td>\n",
       "      <td>0.0</td>\n",
       "      <td>0.0</td>\n",
       "      <td>0.0</td>\n",
       "      <td>0.0</td>\n",
       "      <td>0.0</td>\n",
       "    </tr>\n",
       "    <tr>\n",
       "      <th>1</th>\n",
       "      <td>0.0</td>\n",
       "      <td>0.0</td>\n",
       "      <td>0.0</td>\n",
       "      <td>0.0</td>\n",
       "      <td>0.0</td>\n",
       "      <td>0.0</td>\n",
       "      <td>4.0</td>\n",
       "      <td>0.0</td>\n",
       "      <td>0.0</td>\n",
       "      <td>0.0</td>\n",
       "      <td>...</td>\n",
       "      <td>0.0</td>\n",
       "      <td>0.0</td>\n",
       "      <td>5.0</td>\n",
       "      <td>0.0</td>\n",
       "      <td>0.0</td>\n",
       "      <td>0.0</td>\n",
       "      <td>0.0</td>\n",
       "      <td>0.0</td>\n",
       "      <td>0.0</td>\n",
       "      <td>0.0</td>\n",
       "    </tr>\n",
       "    <tr>\n",
       "      <th>2</th>\n",
       "      <td>0.0</td>\n",
       "      <td>0.0</td>\n",
       "      <td>0.0</td>\n",
       "      <td>0.0</td>\n",
       "      <td>3.0</td>\n",
       "      <td>0.0</td>\n",
       "      <td>5.0</td>\n",
       "      <td>0.0</td>\n",
       "      <td>0.0</td>\n",
       "      <td>0.0</td>\n",
       "      <td>...</td>\n",
       "      <td>0.0</td>\n",
       "      <td>0.0</td>\n",
       "      <td>0.0</td>\n",
       "      <td>0.0</td>\n",
       "      <td>0.0</td>\n",
       "      <td>0.0</td>\n",
       "      <td>0.0</td>\n",
       "      <td>0.0</td>\n",
       "      <td>0.0</td>\n",
       "      <td>0.0</td>\n",
       "    </tr>\n",
       "    <tr>\n",
       "      <th>3</th>\n",
       "      <td>0.0</td>\n",
       "      <td>0.0</td>\n",
       "      <td>0.0</td>\n",
       "      <td>5.0</td>\n",
       "      <td>0.0</td>\n",
       "      <td>0.0</td>\n",
       "      <td>0.0</td>\n",
       "      <td>0.0</td>\n",
       "      <td>0.0</td>\n",
       "      <td>0.0</td>\n",
       "      <td>...</td>\n",
       "      <td>0.0</td>\n",
       "      <td>0.0</td>\n",
       "      <td>5.0</td>\n",
       "      <td>0.0</td>\n",
       "      <td>0.0</td>\n",
       "      <td>0.0</td>\n",
       "      <td>0.0</td>\n",
       "      <td>0.0</td>\n",
       "      <td>0.0</td>\n",
       "      <td>0.0</td>\n",
       "    </tr>\n",
       "    <tr>\n",
       "      <th>4</th>\n",
       "      <td>0.0</td>\n",
       "      <td>0.0</td>\n",
       "      <td>0.0</td>\n",
       "      <td>0.0</td>\n",
       "      <td>5.0</td>\n",
       "      <td>0.0</td>\n",
       "      <td>0.0</td>\n",
       "      <td>0.0</td>\n",
       "      <td>5.0</td>\n",
       "      <td>0.0</td>\n",
       "      <td>...</td>\n",
       "      <td>0.0</td>\n",
       "      <td>0.0</td>\n",
       "      <td>3.0</td>\n",
       "      <td>0.0</td>\n",
       "      <td>5.0</td>\n",
       "      <td>0.0</td>\n",
       "      <td>0.0</td>\n",
       "      <td>0.0</td>\n",
       "      <td>0.0</td>\n",
       "      <td>0.0</td>\n",
       "    </tr>\n",
       "  </tbody>\n",
       "</table>\n",
       "<p>5 rows × 130 columns</p>\n",
       "</div>"
      ],
      "text/plain": [
       "placeID     1    2    3    4    5    6    7    8    9    10   ...  121  122  \\\n",
       "user_index                                                    ...             \n",
       "0           0.0  4.0  0.0  0.0  0.0  0.0  0.0  0.0  0.0  0.0  ...  0.0  4.0   \n",
       "1           0.0  0.0  0.0  0.0  0.0  0.0  4.0  0.0  0.0  0.0  ...  0.0  0.0   \n",
       "2           0.0  0.0  0.0  0.0  3.0  0.0  5.0  0.0  0.0  0.0  ...  0.0  0.0   \n",
       "3           0.0  0.0  0.0  5.0  0.0  0.0  0.0  0.0  0.0  0.0  ...  0.0  0.0   \n",
       "4           0.0  0.0  0.0  0.0  5.0  0.0  0.0  0.0  5.0  0.0  ...  0.0  0.0   \n",
       "\n",
       "placeID     123  124  125  126  127  128  129  130  \n",
       "user_index                                          \n",
       "0           0.0  0.0  0.0  0.0  0.0  0.0  0.0  0.0  \n",
       "1           5.0  0.0  0.0  0.0  0.0  0.0  0.0  0.0  \n",
       "2           0.0  0.0  0.0  0.0  0.0  0.0  0.0  0.0  \n",
       "3           5.0  0.0  0.0  0.0  0.0  0.0  0.0  0.0  \n",
       "4           3.0  0.0  5.0  0.0  0.0  0.0  0.0  0.0  \n",
       "\n",
       "[5 rows x 130 columns]"
      ]
     },
     "execution_count": 47,
     "metadata": {},
     "output_type": "execute_result"
    }
   ],
   "source": [
    "pivot_data.set_index(['user_index'], inplace = True)\n",
    "pivot_data.head()"
   ]
  },
  {
   "cell_type": "markdown",
   "metadata": {
    "id": "0vGfacolwWt6"
   },
   "source": [
    "> This next cell block involves importing the SVD model from SciPy and feeding the pivoted data into the model."
   ]
  },
  {
   "cell_type": "code",
   "execution_count": 48,
   "metadata": {
    "colab": {
     "base_uri": "https://localhost:8080/"
    },
    "executionInfo": {
     "elapsed": 9,
     "status": "ok",
     "timestamp": 1624599621742,
     "user": {
      "displayName": "RockyChicken182",
      "photoUrl": "https://lh3.googleusercontent.com/a-/AOh14GiHn7vaq8S7ttcfulVDtTveJfGpbYI3y7X1MJhJsg=s64",
      "userId": "16427190797879463063"
     },
     "user_tz": -480
    },
    "id": "7NcVL1xxLNy2",
    "outputId": "b185e931-20cf-4ec5-ac22-477f03d4fd43"
   },
   "outputs": [
    {
     "name": "stdout",
     "output_type": "stream",
     "text": [
      "U =  [[ 0.11208066  0.00357439  0.11644926 ... -0.00368808  0.02685263\n",
      "  -0.10294641]\n",
      " [-0.04931624  0.06806939  0.21482191 ... -0.00247915 -0.00058921\n",
      "  -0.00046884]\n",
      " [-0.03796138  0.05548978  0.1754966  ... -0.00163375  0.00045104\n",
      "  -0.0011805 ]\n",
      " ...\n",
      " [ 0.03979567  0.10085645  0.00477352 ... -0.01923895 -0.00660949\n",
      "  -0.05328707]\n",
      " [-0.04629106  0.01044035  0.00510177 ...  0.01668328  0.04359107\n",
      "  -0.0257342 ]\n",
      " [ 0.00308378 -0.00902607  0.00510893 ... -0.01230067  0.01714347\n",
      "  -0.01296043]]\n",
      "************************************************\n",
      "S =  [20.85471165 21.6224788  21.97223871 22.43547553 23.0011824  23.99318653\n",
      " 24.20905035 25.06892899 29.72895055 43.17758806]\n",
      "************************************************\n",
      "VT =  [[-0.0056128   0.08194205  0.09680959 ... -0.00873917 -0.04466289\n",
      "   0.01961769]\n",
      " [-0.01161486 -0.26435566  0.01682209 ...  0.00678702 -0.02234094\n",
      "   0.00839103]\n",
      " [-0.04070773  0.05998891 -0.03708195 ... -0.08854855 -0.12762066\n",
      "   0.02422868]\n",
      " ...\n",
      " [-0.00124423  0.13806504  0.12594621 ... -0.05730337 -0.01781245\n",
      "  -0.0179198 ]\n",
      " [ 0.00128221  0.14869318 -0.08085041 ...  0.03871965  0.00876617\n",
      "   0.00296214]\n",
      " [-0.00329127 -0.29359185 -0.09967169 ... -0.01751559 -0.00298858\n",
      "  -0.01060185]]\n"
     ]
    }
   ],
   "source": [
    "#Applying SVD method on a large sparse matrix, to predict ratings for all resto that weren't rated by a user\n",
    "\n",
    "from scipy.sparse.linalg import svds\n",
    "\n",
    "#SVD\n",
    "U,s, VT = svds(pivot_data, k = 10)\n",
    "\n",
    "#Construct diagonal array in SVD\n",
    "sigma = np.diag(s)\n",
    "\n",
    "#Applying SVD would output 3 parameters namely\n",
    "print(\"U = \",U) #Orthogonal matrix\n",
    "print('************************************************')\n",
    "print(\"S = \",s) #Singular values\n",
    "print('************************************************')\n",
    "print(\"VT = \", VT) #Transpose of Orthogonal matrix"
   ]
  },
  {
   "cell_type": "code",
   "execution_count": 49,
   "metadata": {
    "colab": {
     "base_uri": "https://localhost:8080/",
     "height": 251
    },
    "executionInfo": {
     "elapsed": 8,
     "status": "ok",
     "timestamp": 1624599621742,
     "user": {
      "displayName": "RockyChicken182",
      "photoUrl": "https://lh3.googleusercontent.com/a-/AOh14GiHn7vaq8S7ttcfulVDtTveJfGpbYI3y7X1MJhJsg=s64",
      "userId": "16427190797879463063"
     },
     "user_tz": -480
    },
    "id": "9F3mNFm0LSrq",
    "outputId": "eb1e69d4-8d32-4571-93e2-843531ca13de"
   },
   "outputs": [
    {
     "data": {
      "text/html": [
       "<div>\n",
       "<style scoped>\n",
       "    .dataframe tbody tr th:only-of-type {\n",
       "        vertical-align: middle;\n",
       "    }\n",
       "\n",
       "    .dataframe tbody tr th {\n",
       "        vertical-align: top;\n",
       "    }\n",
       "\n",
       "    .dataframe thead th {\n",
       "        text-align: right;\n",
       "    }\n",
       "</style>\n",
       "<table border=\"1\" class=\"dataframe\">\n",
       "  <thead>\n",
       "    <tr style=\"text-align: right;\">\n",
       "      <th>placeID</th>\n",
       "      <th>1</th>\n",
       "      <th>2</th>\n",
       "      <th>3</th>\n",
       "      <th>4</th>\n",
       "      <th>5</th>\n",
       "      <th>6</th>\n",
       "      <th>7</th>\n",
       "      <th>8</th>\n",
       "      <th>9</th>\n",
       "      <th>10</th>\n",
       "      <th>...</th>\n",
       "      <th>121</th>\n",
       "      <th>122</th>\n",
       "      <th>123</th>\n",
       "      <th>124</th>\n",
       "      <th>125</th>\n",
       "      <th>126</th>\n",
       "      <th>127</th>\n",
       "      <th>128</th>\n",
       "      <th>129</th>\n",
       "      <th>130</th>\n",
       "    </tr>\n",
       "  </thead>\n",
       "  <tbody>\n",
       "    <tr>\n",
       "      <th>0</th>\n",
       "      <td>-0.043081</td>\n",
       "      <td>2.155563</td>\n",
       "      <td>0.872527</td>\n",
       "      <td>0.600396</td>\n",
       "      <td>0.617959</td>\n",
       "      <td>0.181291</td>\n",
       "      <td>0.403992</td>\n",
       "      <td>0.322743</td>\n",
       "      <td>0.565528</td>\n",
       "      <td>-0.089095</td>\n",
       "      <td>...</td>\n",
       "      <td>0.570049</td>\n",
       "      <td>2.476409</td>\n",
       "      <td>0.756242</td>\n",
       "      <td>0.107956</td>\n",
       "      <td>0.034096</td>\n",
       "      <td>-0.041560</td>\n",
       "      <td>0.165821</td>\n",
       "      <td>-0.020388</td>\n",
       "      <td>-0.163428</td>\n",
       "      <td>0.041704</td>\n",
       "    </tr>\n",
       "    <tr>\n",
       "      <th>1</th>\n",
       "      <td>-0.023251</td>\n",
       "      <td>0.171342</td>\n",
       "      <td>-0.058268</td>\n",
       "      <td>1.227234</td>\n",
       "      <td>1.310628</td>\n",
       "      <td>0.043857</td>\n",
       "      <td>0.837556</td>\n",
       "      <td>-0.082493</td>\n",
       "      <td>1.181473</td>\n",
       "      <td>-0.053545</td>\n",
       "      <td>...</td>\n",
       "      <td>0.070062</td>\n",
       "      <td>-0.017447</td>\n",
       "      <td>1.556980</td>\n",
       "      <td>0.214549</td>\n",
       "      <td>0.528055</td>\n",
       "      <td>0.002827</td>\n",
       "      <td>-0.003065</td>\n",
       "      <td>-0.078213</td>\n",
       "      <td>-0.020988</td>\n",
       "      <td>0.039097</td>\n",
       "    </tr>\n",
       "    <tr>\n",
       "      <th>2</th>\n",
       "      <td>-0.021969</td>\n",
       "      <td>0.175175</td>\n",
       "      <td>-0.023513</td>\n",
       "      <td>1.004221</td>\n",
       "      <td>1.071716</td>\n",
       "      <td>0.039534</td>\n",
       "      <td>0.685237</td>\n",
       "      <td>-0.063064</td>\n",
       "      <td>0.964903</td>\n",
       "      <td>-0.061276</td>\n",
       "      <td>...</td>\n",
       "      <td>0.064718</td>\n",
       "      <td>0.016204</td>\n",
       "      <td>1.272756</td>\n",
       "      <td>0.175572</td>\n",
       "      <td>0.421433</td>\n",
       "      <td>-0.000858</td>\n",
       "      <td>0.001001</td>\n",
       "      <td>-0.067526</td>\n",
       "      <td>-0.024388</td>\n",
       "      <td>0.027909</td>\n",
       "    </tr>\n",
       "    <tr>\n",
       "      <th>3</th>\n",
       "      <td>-0.035844</td>\n",
       "      <td>0.305391</td>\n",
       "      <td>-0.055736</td>\n",
       "      <td>1.825722</td>\n",
       "      <td>1.948724</td>\n",
       "      <td>0.068116</td>\n",
       "      <td>1.245755</td>\n",
       "      <td>-0.112586</td>\n",
       "      <td>1.756681</td>\n",
       "      <td>-0.093798</td>\n",
       "      <td>...</td>\n",
       "      <td>0.107737</td>\n",
       "      <td>0.024540</td>\n",
       "      <td>2.315634</td>\n",
       "      <td>0.319393</td>\n",
       "      <td>0.772986</td>\n",
       "      <td>-0.000040</td>\n",
       "      <td>-0.005707</td>\n",
       "      <td>-0.116921</td>\n",
       "      <td>-0.035956</td>\n",
       "      <td>0.055996</td>\n",
       "    </tr>\n",
       "    <tr>\n",
       "      <th>4</th>\n",
       "      <td>0.102620</td>\n",
       "      <td>0.144879</td>\n",
       "      <td>-0.107362</td>\n",
       "      <td>1.550339</td>\n",
       "      <td>1.672709</td>\n",
       "      <td>0.010716</td>\n",
       "      <td>1.058609</td>\n",
       "      <td>-0.094574</td>\n",
       "      <td>1.512399</td>\n",
       "      <td>-0.064912</td>\n",
       "      <td>...</td>\n",
       "      <td>-0.088919</td>\n",
       "      <td>-0.138501</td>\n",
       "      <td>1.969407</td>\n",
       "      <td>0.280807</td>\n",
       "      <td>0.904832</td>\n",
       "      <td>0.015128</td>\n",
       "      <td>0.024146</td>\n",
       "      <td>0.139233</td>\n",
       "      <td>0.359617</td>\n",
       "      <td>0.018870</td>\n",
       "    </tr>\n",
       "  </tbody>\n",
       "</table>\n",
       "<p>5 rows × 130 columns</p>\n",
       "</div>"
      ],
      "text/plain": [
       "placeID       1         2         3         4         5         6         7    \\\n",
       "0       -0.043081  2.155563  0.872527  0.600396  0.617959  0.181291  0.403992   \n",
       "1       -0.023251  0.171342 -0.058268  1.227234  1.310628  0.043857  0.837556   \n",
       "2       -0.021969  0.175175 -0.023513  1.004221  1.071716  0.039534  0.685237   \n",
       "3       -0.035844  0.305391 -0.055736  1.825722  1.948724  0.068116  1.245755   \n",
       "4        0.102620  0.144879 -0.107362  1.550339  1.672709  0.010716  1.058609   \n",
       "\n",
       "placeID       8         9         10   ...       121       122       123  \\\n",
       "0        0.322743  0.565528 -0.089095  ...  0.570049  2.476409  0.756242   \n",
       "1       -0.082493  1.181473 -0.053545  ...  0.070062 -0.017447  1.556980   \n",
       "2       -0.063064  0.964903 -0.061276  ...  0.064718  0.016204  1.272756   \n",
       "3       -0.112586  1.756681 -0.093798  ...  0.107737  0.024540  2.315634   \n",
       "4       -0.094574  1.512399 -0.064912  ... -0.088919 -0.138501  1.969407   \n",
       "\n",
       "placeID       124       125       126       127       128       129       130  \n",
       "0        0.107956  0.034096 -0.041560  0.165821 -0.020388 -0.163428  0.041704  \n",
       "1        0.214549  0.528055  0.002827 -0.003065 -0.078213 -0.020988  0.039097  \n",
       "2        0.175572  0.421433 -0.000858  0.001001 -0.067526 -0.024388  0.027909  \n",
       "3        0.319393  0.772986 -0.000040 -0.005707 -0.116921 -0.035956  0.055996  \n",
       "4        0.280807  0.904832  0.015128  0.024146  0.139233  0.359617  0.018870  \n",
       "\n",
       "[5 rows x 130 columns]"
      ]
     },
     "execution_count": 49,
     "metadata": {},
     "output_type": "execute_result"
    }
   ],
   "source": [
    "#Predict ratings for all restaurants not rated by a user using SVD\n",
    "all_user_predicted_ratings = np.dot(np.dot(U,sigma), VT)\n",
    "\n",
    "#Predicted ratings\n",
    "pred_data = pd.DataFrame(all_user_predicted_ratings, columns = pivot_data.columns)\n",
    "pred_data.head()"
   ]
  },
  {
   "cell_type": "markdown",
   "metadata": {
    "id": "9DvsrekAxvPh"
   },
   "source": [
    "For the next cell block, it takes the sorted user ratings and predicted ratings and put it in a new DataFrame, which also includes the recommended bakeries for each user."
   ]
  },
  {
   "cell_type": "code",
   "execution_count": 50,
   "metadata": {
    "id": "gvwHyGmbLWz6"
   },
   "outputs": [],
   "source": [
    "#Recommend places with the highest predicted ratings\n",
    "\n",
    "def recommend_places(userID, pivot_data, pred_data, num_recommendations):\n",
    "    user_index  = userID-1 #index starts at 0\n",
    "\n",
    "    sorted_user_ratings = pivot_data.iloc[user_index].sort_values(ascending = False) #sort user ratings\n",
    "\n",
    "    sorted_user_predictions = pred_data.iloc[user_index].sort_values(ascending = False)#sorted_user_predictions\n",
    "    \n",
    "\n",
    "    temp = pd.concat([sorted_user_ratings, sorted_user_predictions], axis = 1)\n",
    "    temp.index.name = 'Recommended Places'\n",
    "    temp['Bakery_Name']=bakery_df['name']\n",
    "    temp['Types_bread']=bakery_df['types_of_bread']\n",
    "    temp.columns = ['user_ratings', 'user_predictions','Bakery_Name','Types_bread']\n",
    "    \n",
    "    temp = temp.loc[temp.user_ratings == 0]\n",
    "    temp = temp.sort_values('user_predictions', ascending = False)\n",
    "\n",
    "    print('\\n Below are the recommended places for user(user_id = {}):\\n'. format(userID))\n",
    "    print(temp.head(num_recommendations))"
   ]
  },
  {
   "cell_type": "code",
   "execution_count": 51,
   "metadata": {
    "colab": {
     "base_uri": "https://localhost:8080/"
    },
    "executionInfo": {
     "elapsed": 13520,
     "status": "ok",
     "timestamp": 1624599635255,
     "user": {
      "displayName": "RockyChicken182",
      "photoUrl": "https://lh3.googleusercontent.com/a-/AOh14GiHn7vaq8S7ttcfulVDtTveJfGpbYI3y7X1MJhJsg=s64",
      "userId": "16427190797879463063"
     },
     "user_tz": -480
    },
    "id": "xiYlBe9QLZGl",
    "outputId": "04fb26b3-e5eb-44df-f834-d483c67b5c78"
   },
   "outputs": [
    {
     "name": "stdout",
     "output_type": "stream",
     "text": [
      "Enter your UserID (from 1 to 150)67\n",
      "\n",
      " Below are the recommended places for user(user_id = 67):\n",
      "\n",
      "                    user_ratings  user_predictions  \\\n",
      "Recommended Places                                   \n",
      "81                           0.0          1.354925   \n",
      "63                           0.0          1.033869   \n",
      "38                           0.0          0.976796   \n",
      "102                          0.0          0.886654   \n",
      "109                          0.0          0.820600   \n",
      "\n",
      "                                              Bakery_Name Types_bread  \n",
      "Recommended Places                                                     \n",
      "81                                    el lechon potosino        Cakes  \n",
      "63                                  Restaurante Versalles       Cakes  \n",
      "38                                       Restaurant Teely       Tarts  \n",
      "102                                         pizza clasica    Kringles  \n",
      "109                 carnitas mata calle Emilio Portes Gil   Doughnuts  \n"
     ]
    }
   ],
   "source": [
    "#Recommend places based on userID, past ratings, predicted ratings, num of places \n",
    "\n",
    "userid_input=int(input(\"Enter your UserID (from 1 to 150)\"))\n",
    "\n",
    "num_recommedations = 5\n",
    "recommend_places(userid_input, pivot_data, pred_data, num_recommedations)"
   ]
  },
  {
   "cell_type": "markdown",
   "metadata": {
    "id": "sgfuwRyD1DW_"
   },
   "source": [
    "> As seen from the results, it is indeed a better model than the previous Low Rank Matrix Factorization model, as user 1, who gave a bakery that sells Curry Puffs a 5 (placeID 87), is given another recommendation of bakery that also sells curry puffs (place 111). Apologies that we are not really able to show the bakery names as I implemented this output at last minute. "
   ]
  },
  {
   "cell_type": "markdown",
   "metadata": {
    "id": "_UsWG1052ABD"
   },
   "source": [
    ">As the results are indeed better, it is wise to calculate the RMSE of this  SVD model. The following cell blocks takes the predicted ratings and the actual ratings to calculate the RMSE of the model. "
   ]
  },
  {
   "cell_type": "code",
   "execution_count": 52,
   "metadata": {
    "colab": {
     "base_uri": "https://localhost:8080/"
    },
    "executionInfo": {
     "elapsed": 23,
     "status": "ok",
     "timestamp": 1624599635256,
     "user": {
      "displayName": "RockyChicken182",
      "photoUrl": "https://lh3.googleusercontent.com/a-/AOh14GiHn7vaq8S7ttcfulVDtTveJfGpbYI3y7X1MJhJsg=s64",
      "userId": "16427190797879463063"
     },
     "user_tz": -480
    },
    "id": "yRV0GiCpLaTo",
    "outputId": "d95008a5-c838-4b40-b14c-86051ad04bea"
   },
   "outputs": [
    {
     "data": {
      "text/plain": [
       "placeID\n",
       "1    0.100000\n",
       "2    0.766667\n",
       "3    0.253333\n",
       "4    0.080000\n",
       "5    0.100000\n",
       "dtype: float64"
      ]
     },
     "execution_count": 52,
     "metadata": {},
     "output_type": "execute_result"
    }
   ],
   "source": [
    "#Actual ratings given by the users\n",
    "pivot_data.head()\n",
    "\n",
    "#Average actual rating for each place\n",
    "\n",
    "pivot_data.mean().head()"
   ]
  },
  {
   "cell_type": "code",
   "execution_count": 53,
   "metadata": {
    "colab": {
     "base_uri": "https://localhost:8080/"
    },
    "executionInfo": {
     "elapsed": 21,
     "status": "ok",
     "timestamp": 1624599635257,
     "user": {
      "displayName": "RockyChicken182",
      "photoUrl": "https://lh3.googleusercontent.com/a-/AOh14GiHn7vaq8S7ttcfulVDtTveJfGpbYI3y7X1MJhJsg=s64",
      "userId": "16427190797879463063"
     },
     "user_tz": -480
    },
    "id": "zerziaKpLtmR",
    "outputId": "a3f0ea34-c7d8-41d5-d7f5-eb5238c3c23c"
   },
   "outputs": [
    {
     "data": {
      "text/plain": [
       "placeID\n",
       "1    0.050205\n",
       "2    0.812548\n",
       "3    0.241655\n",
       "4    0.089394\n",
       "5    0.100568\n",
       "dtype: float64"
      ]
     },
     "execution_count": 53,
     "metadata": {},
     "output_type": "execute_result"
    }
   ],
   "source": [
    "#Predicted ratings for a place\n",
    "pred_data.head()\n",
    "\n",
    "#Average predicted rating for each place\n",
    "pred_data.mean().head()"
   ]
  },
  {
   "cell_type": "code",
   "execution_count": 54,
   "metadata": {
    "colab": {
     "base_uri": "https://localhost:8080/",
     "height": 250
    },
    "executionInfo": {
     "elapsed": 22,
     "status": "ok",
     "timestamp": 1624599635260,
     "user": {
      "displayName": "RockyChicken182",
      "photoUrl": "https://lh3.googleusercontent.com/a-/AOh14GiHn7vaq8S7ttcfulVDtTveJfGpbYI3y7X1MJhJsg=s64",
      "userId": "16427190797879463063"
     },
     "user_tz": -480
    },
    "id": "AAph7DH-LxdE",
    "outputId": "b15af9cf-9d37-4358-b4cc-977abf0fe62e"
   },
   "outputs": [
    {
     "name": "stdout",
     "output_type": "stream",
     "text": [
      "(130, 2)\n"
     ]
    },
    {
     "data": {
      "text/html": [
       "<div>\n",
       "<style scoped>\n",
       "    .dataframe tbody tr th:only-of-type {\n",
       "        vertical-align: middle;\n",
       "    }\n",
       "\n",
       "    .dataframe tbody tr th {\n",
       "        vertical-align: top;\n",
       "    }\n",
       "\n",
       "    .dataframe thead th {\n",
       "        text-align: right;\n",
       "    }\n",
       "</style>\n",
       "<table border=\"1\" class=\"dataframe\">\n",
       "  <thead>\n",
       "    <tr style=\"text-align: right;\">\n",
       "      <th></th>\n",
       "      <th>Avg_actual_ratings</th>\n",
       "      <th>Avg_predicted_ratings</th>\n",
       "      <th>place_index</th>\n",
       "    </tr>\n",
       "    <tr>\n",
       "      <th>placeID</th>\n",
       "      <th></th>\n",
       "      <th></th>\n",
       "      <th></th>\n",
       "    </tr>\n",
       "  </thead>\n",
       "  <tbody>\n",
       "    <tr>\n",
       "      <th>1</th>\n",
       "      <td>0.100000</td>\n",
       "      <td>0.050205</td>\n",
       "      <td>0</td>\n",
       "    </tr>\n",
       "    <tr>\n",
       "      <th>2</th>\n",
       "      <td>0.766667</td>\n",
       "      <td>0.812548</td>\n",
       "      <td>1</td>\n",
       "    </tr>\n",
       "    <tr>\n",
       "      <th>3</th>\n",
       "      <td>0.253333</td>\n",
       "      <td>0.241655</td>\n",
       "      <td>2</td>\n",
       "    </tr>\n",
       "    <tr>\n",
       "      <th>4</th>\n",
       "      <td>0.080000</td>\n",
       "      <td>0.089394</td>\n",
       "      <td>3</td>\n",
       "    </tr>\n",
       "    <tr>\n",
       "      <th>5</th>\n",
       "      <td>0.100000</td>\n",
       "      <td>0.100568</td>\n",
       "      <td>4</td>\n",
       "    </tr>\n",
       "  </tbody>\n",
       "</table>\n",
       "</div>"
      ],
      "text/plain": [
       "         Avg_actual_ratings  Avg_predicted_ratings  place_index\n",
       "placeID                                                        \n",
       "1                  0.100000               0.050205            0\n",
       "2                  0.766667               0.812548            1\n",
       "3                  0.253333               0.241655            2\n",
       "4                  0.080000               0.089394            3\n",
       "5                  0.100000               0.100568            4"
      ]
     },
     "execution_count": 54,
     "metadata": {},
     "output_type": "execute_result"
    }
   ],
   "source": [
    "#Showing the difference of actual ratings and predicted ratings\n",
    "rmse_data = pd.concat([pivot_data.mean(), pred_data.mean()], axis = 1)\n",
    "rmse_data.columns = ['Avg_actual_ratings','Avg_predicted_ratings']\n",
    "print(rmse_data.shape)\n",
    "rmse_data['place_index'] = np.arange(0, rmse_data.shape[0],1)\n",
    "rmse_data.head()"
   ]
  },
  {
   "cell_type": "code",
   "execution_count": 55,
   "metadata": {
    "colab": {
     "base_uri": "https://localhost:8080/"
    },
    "executionInfo": {
     "elapsed": 18,
     "status": "ok",
     "timestamp": 1624599635260,
     "user": {
      "displayName": "RockyChicken182",
      "photoUrl": "https://lh3.googleusercontent.com/a-/AOh14GiHn7vaq8S7ttcfulVDtTveJfGpbYI3y7X1MJhJsg=s64",
      "userId": "16427190797879463063"
     },
     "user_tz": -480
    },
    "id": "bWruUnjYL4Bi",
    "outputId": "0e6018d3-90ba-4213-d97b-bf733533b94f"
   },
   "outputs": [
    {
     "name": "stdout",
     "output_type": "stream",
     "text": [
      "\n",
      " Training RMSE SVD Model = 0.0\n",
      "\n",
      "\n",
      " Testing RMSE SVD Model = 0.03492\n",
      "\n"
     ]
    }
   ],
   "source": [
    "#Calculating the RMSE\n",
    "\n",
    "RMSE_train = round((((rmse_data.Avg_predicted_ratings - rmse_data.Avg_predicted_ratings) ** 2).mean() ** 0.5),5)\n",
    "print('\\n Training RMSE SVD Model = {}\\n'.format(RMSE_train))\n",
    "\n",
    "RMSE_test = round((((rmse_data.Avg_actual_ratings - rmse_data.Avg_predicted_ratings) ** 2).mean() ** 0.5),5)\n",
    "print('\\n Testing RMSE SVD Model = {}\\n'.format(RMSE_test))\n"
   ]
  },
  {
   "cell_type": "markdown",
   "metadata": {
    "id": "btHgfbHZ66tG"
   },
   "source": [
    "> **NOTE**: For the RMSE_train part, I have no clue whether to put it in, since RMSE_test already took the actual and predicted ratings and calculated it with a good RMSE score, so please feel free to correct it or even remove it if it is totally wrong."
   ]
  },
  {
   "cell_type": "markdown",
   "metadata": {
    "id": "r4MtWcuz3W5n"
   },
   "source": [
    ">For the RMSE calculation, I did not split up the dataset into train, test and validate since for the RMSE testing part, it already takes the old actual ratings of users and compares it with the predicted ratings. And looking at it, not only does the RMSE makes sense, it has a pretty low RMSE for testing as well (0.03492) , which is pretty good."
   ]
  }
 ],
 "metadata": {
  "colab": {
   "authorship_tag": "ABX9TyN4bxZH/OZYf/netPOqjTgi",
   "collapsed_sections": [],
   "name": "Training for User Ratings Recommendation System (Collaborative-Filtering) #1.ipynb",
   "provenance": []
  },
  "kernelspec": {
   "display_name": "Python 3",
   "language": "python",
   "name": "python3"
  },
  "language_info": {
   "codemirror_mode": {
    "name": "ipython",
    "version": 3
   },
   "file_extension": ".py",
   "mimetype": "text/x-python",
   "name": "python",
   "nbconvert_exporter": "python",
   "pygments_lexer": "ipython3",
   "version": "3.8.5"
  }
 },
 "nbformat": 4,
 "nbformat_minor": 1
}
